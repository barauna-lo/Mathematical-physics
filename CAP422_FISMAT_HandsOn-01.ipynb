{
  "nbformat": 4,
  "nbformat_minor": 0,
  "metadata": {
    "colab": {
      "name": "CAP422FISMATcomp - barauna-lo.ipynb",
      "provenance": [],
      "collapsed_sections": [],
      "include_colab_link": true
    },
    "kernelspec": {
      "name": "python3",
      "display_name": "Python 3"
    }
  },
  "cells": [
    {
      "cell_type": "markdown",
      "metadata": {
        "id": "view-in-github",
        "colab_type": "text"
      },
      "source": [
        "<a href=\"https://colab.research.google.com/github/barauna-lo/Mathematical-physics/blob/main/CAP422FISMATcomp_barauna_lo.ipynb\" target=\"_parent\"><img src=\"https://colab.research.google.com/assets/colab-badge.svg\" alt=\"Open In Colab\"/></a>"
      ]
    },
    {
      "cell_type": "markdown",
      "metadata": {
        "id": "85CvB2mv2vxN"
      },
      "source": [
        "**Física Matemática - CAP 422 - 2021 - Prof. Reinaldo R. Rosa** "
      ]
    },
    {
      "cell_type": "markdown",
      "metadata": {
        "id": "xC-GT7uOiMMj"
      },
      "source": [
        "# NOSSO APARATO COMPUTACIONAL: Sympy\n",
        "<img src=https://docs.sympy.org/latest/_static/sympylogo.png>\n"
      ]
    },
    {
      "cell_type": "markdown",
      "metadata": {
        "id": "MleR9m9hXNV6"
      },
      "source": [
        "Utilizamos o que chamamos de \"Computação Simbólica\" para resolver expressões matemáticas usando objetos matemáticos (em geral, comandos que representam operações algébricas). Em outras palavras, é o método pelo qual uma solução exata para uma expressão matemática é obtida usando expressões simbólicas (variáveis, funções, polinômios, matrizes etc.). \n",
        "\n",
        "Por exemplo, se for proposto calcular uma integral definida de alguma função $ f (x) $, a primeira coisa que fazemos é procurar sua primitiva e depois avaliar os limites de integração, obtendo assim uma solução exata para o problema. \n",
        "\n",
        "Lembremos que, também podemos calcular essa integral por meio de processos iterativos, como o método trapezoidal, obtendo um resultado aproximado que está de acordo com a precisão do nosso método, que é equivalente a um cálculo numérico.\n",
        "\n",
        "**Sympy é a bilbioteca do python que nos permite trabalhar com a computação simbólica de forma prática. Sua utilização  nos problemas de Física Matemática nos permite agregar a computação à FísMat permitindo assim utilizarmos o termo \"Física Matemática Computacional\". ** \n",
        "\n",
        "Seguem alguns exemplos do tutorial do Sympy.\n",
        "\n",
        "https://docs.sympy.org/latest/tutorial/intro.html"
      ]
    },
    {
      "cell_type": "markdown",
      "metadata": {
        "id": "DP6UJsEDX0Fg"
      },
      "source": [
        "EXEMPLO: CÁLCULO DA RAIZ QUADRADA"
      ]
    },
    {
      "cell_type": "code",
      "metadata": {
        "id": "LRQtdqZGSW7m",
        "colab": {
          "base_uri": "https://localhost:8080/"
        },
        "outputId": "db901d38-fc4f-453d-bf51-cb27bc820694"
      },
      "source": [
        "#what is the difference beteween math and numpy?\n",
        "import math\n",
        "math.sqrt(16)"
      ],
      "execution_count": null,
      "outputs": [
        {
          "output_type": "execute_result",
          "data": {
            "text/plain": [
              "4.0"
            ]
          },
          "metadata": {},
          "execution_count": 7
        }
      ]
    },
    {
      "cell_type": "markdown",
      "metadata": {
        "id": "heLlks55ZcX1"
      },
      "source": [
        "Veja abaixo o cálculo numérico da raiz de 8 com uma certa precisão. Não é portanto uma **solução exata** pois o cálculo da raiz de 2 foi executado.  \n",
        "Na computação simbólica, portanto, a solução seria: \n",
        "$\\sqrt{8}=\\sqrt{4}\\sqrt{2}=2\\sqrt{2}$. \n",
        "Essa é a essência do cálculo simbólico."
      ]
    },
    {
      "cell_type": "code",
      "metadata": {
        "id": "QPWo3VGlSjY9",
        "colab": {
          "base_uri": "https://localhost:8080/"
        },
        "outputId": "4f04fc84-0a03-469d-c468-1f2742b98539"
      },
      "source": [
        "math.sqrt(8)"
      ],
      "execution_count": null,
      "outputs": [
        {
          "output_type": "execute_result",
          "data": {
            "text/plain": [
              "2.8284271247461903"
            ]
          },
          "metadata": {},
          "execution_count": 8
        }
      ]
    },
    {
      "cell_type": "markdown",
      "metadata": {
        "id": "upTxaFF7cpp-"
      },
      "source": [
        "Note que:\n",
        "#### ***o cálculo simbólico é como se você resolvesse o problema em lápis e papel,***\n",
        "obtendo as funções que correspondem à solução exata do problema. A partir da solução exata, você pode ou não decidir utilizar o cálculo numérico utilizando portanto, a aproximação que o seu computador consegue atingir com a discretização binária. \n",
        "\n",
        "Assim, veremos abaixo que o cálculo simbólico pode nos ajudar a resolver muitas operações de álgebra e cálculo que encontramos na **Física Matemática** de maneira rápida e fácil. No entanto, cabe a você explorar o limite (e utilidade) dessa ferramenta para tratar operações mais complexas que, em geral, teríamos muito trabalho ao digitá-las no computador. Essa dificuldade, entretanto, vai se dirimindo à medida que vamos nos  familiarizando com o desenvolvimento e aplicação dos comandos e das bibliotecas necessárias."
      ]
    },
    {
      "cell_type": "markdown",
      "metadata": {
        "id": "7seqlbOofDVB"
      },
      "source": [
        "Vamos ao SYMPY"
      ]
    },
    {
      "cell_type": "code",
      "metadata": {
        "id": "7bPSRvNVSoTk"
      },
      "source": [
        "from sympy import *"
      ],
      "execution_count": null,
      "outputs": []
    },
    {
      "cell_type": "markdown",
      "metadata": {
        "id": "NWiT24UnfR82"
      },
      "source": [
        "**1 - Variáveis**\n",
        "\n",
        "Antes de começar a resolver um problema, sempre se identifica quais variáveis ​​devem ser tratadas. Usando a mesma lógica, podemos declarar nossas variáveis ​​com a chamada *função* de símbolos: *symbols*"
      ]
    },
    {
      "cell_type": "code",
      "metadata": {
        "id": "jFLAisOTSt4a"
      },
      "source": [
        "x, y, z = symbols('x y z')"
      ],
      "execution_count": null,
      "outputs": []
    },
    {
      "cell_type": "markdown",
      "metadata": {
        "id": "Utbs09emgjaJ"
      },
      "source": [
        "Agora x, y e z são objetos sobre os quais expressões algébricas podem ser construídas."
      ]
    },
    {
      "cell_type": "code",
      "metadata": {
        "id": "EpK-DIk0g-36",
        "colab": {
          "base_uri": "https://localhost:8080/",
          "height": 39
        },
        "outputId": "5769a224-7506-4d4c-b9bd-ffd64d9472a7"
      },
      "source": [
        "2*x+3*y-8*z"
      ],
      "execution_count": null,
      "outputs": [
        {
          "output_type": "execute_result",
          "data": {
            "text/latex": "$\\displaystyle 2 x + 3 y - 8 z$",
            "text/plain": [
              "2*x + 3*y - 8*z"
            ]
          },
          "metadata": {},
          "execution_count": 11
        }
      ]
    },
    {
      "cell_type": "markdown",
      "metadata": {
        "id": "2fIGa97niAzO"
      },
      "source": [
        "**2- Equações**"
      ]
    },
    {
      "cell_type": "markdown",
      "metadata": {
        "id": "qSj00MtlhjtV"
      },
      "source": [
        "-Equações no Sympy são objetos formados pela combinação de símbolos definidos \n",
        "anteriormente. \n",
        "\n",
        "-Deve-se lembrar que uma equação representa um relacionamento de igualdade entre duas expressões; por esse motivo, a classe Eq (que significa Igualdade) é usada para instanciar uma equação.\n",
        "\n",
        "-Importante:\n",
        "\n",
        "Dar um único argumento para Eq pressupõe que a expressão seja igual a 0."
      ]
    },
    {
      "cell_type": "code",
      "metadata": {
        "id": "LZEt5YQ-S0KP",
        "colab": {
          "base_uri": "https://localhost:8080/",
          "height": 39
        },
        "outputId": "780df47c-9bce-450c-e6aa-06e9a396a76b"
      },
      "source": [
        "Eq(x,2)\n"
      ],
      "execution_count": null,
      "outputs": [
        {
          "output_type": "execute_result",
          "data": {
            "text/latex": "$\\displaystyle x = 2$",
            "text/plain": [
              "Eq(x, 2)"
            ]
          },
          "metadata": {},
          "execution_count": 12
        }
      ]
    },
    {
      "cell_type": "code",
      "metadata": {
        "id": "Xiww0LzAS8z-",
        "colab": {
          "base_uri": "https://localhost:8080/",
          "height": 39
        },
        "outputId": "9718013f-1a56-4105-bd1e-40930c71d76c"
      },
      "source": [
        "#Ele ta reclamando da falta do ,0\n",
        "Eq(sin(x)**2+tan(y),0)"
      ],
      "execution_count": null,
      "outputs": [
        {
          "output_type": "execute_result",
          "data": {
            "text/latex": "$\\displaystyle \\sin^{2}{\\left(x \\right)} + \\tan{\\left(y \\right)} = 0$",
            "text/plain": [
              "Eq(sin(x)**2 + tan(y), 0)"
            ]
          },
          "metadata": {},
          "execution_count": 13
        }
      ]
    },
    {
      "cell_type": "code",
      "metadata": {
        "id": "zx-U8dlYTAwO",
        "colab": {
          "base_uri": "https://localhost:8080/",
          "height": 39
        },
        "outputId": "03b376e2-f60e-4f9d-d150-2a739f62604e"
      },
      "source": [
        "Eq(x**2+y**2,z**2)"
      ],
      "execution_count": null,
      "outputs": [
        {
          "output_type": "execute_result",
          "data": {
            "text/latex": "$\\displaystyle x^{2} + y^{2} = z^{2}$",
            "text/plain": [
              "Eq(x**2 + y**2, z**2)"
            ]
          },
          "metadata": {},
          "execution_count": 14
        }
      ]
    },
    {
      "cell_type": "markdown",
      "metadata": {
        "id": "yga8Zbnsi2MH"
      },
      "source": [
        "\n",
        "\n",
        "---\n",
        "\n",
        "\n",
        "**Hands-on H01**: \n",
        "Cinemática: MRUV\n",
        "\n",
        "\n",
        "*   Crie uma equação de Sympy que permita determinar a posição de um objeto \n",
        "em movimento acelerado.\n",
        "*   Obtenha a posição de um objeto em $ t = 10s $ se ele começar do repouso, acelerando à taxa de $ 4 \\ m / s ^ 2 $ usando a equação escrita na seção anterior.\n",
        "\n",
        "Nota: Use o método .subs ({var: val, ...}) em que var é a variável a ser substituída e val é o novo valor\n",
        "\n"
      ]
    },
    {
      "cell_type": "markdown",
      "metadata": {
        "id": "P-PKtLHUiv2D"
      },
      "source": [
        "$$\n",
        "x=x_0+v_0t+\\dfrac{1}{2}at^2\n",
        "$$"
      ]
    },
    {
      "cell_type": "markdown",
      "metadata": {
        "id": "mM1fhNDGj-QI"
      },
      "source": [
        "\n",
        "\n",
        "---\n",
        "\n",
        "\n",
        "***Desenvolva aqui:***\n",
        "\n",
        "---\n",
        "\n"
      ]
    },
    {
      "cell_type": "code",
      "metadata": {
        "colab": {
          "base_uri": "https://localhost:8080/",
          "height": 54
        },
        "id": "CUIVThum_awf",
        "outputId": "87e1e9f5-1abe-4263-84b6-1cddb84bd4c9"
      },
      "source": [
        "#Defining the Variables\n",
        "x, x0,v0,a,t = symbols('x x0 v0 a t')\n",
        "#Defining the Equation\n",
        "MRUV = Eq(x0+v0*t+Integer(1)/2*a*t**2,x) #tryng alocate a equation in a var\n",
        "MRUV #Lets see if that gona Work.."
      ],
      "execution_count": null,
      "outputs": [
        {
          "output_type": "execute_result",
          "data": {
            "text/latex": "$\\displaystyle \\frac{a t^{2}}{2} + t v_{0} + x_{0} = x$",
            "text/plain": [
              "Eq(a*t**2/2 + t*v0 + x0, x)"
            ]
          },
          "metadata": {},
          "execution_count": 15
        }
      ]
    },
    {
      "cell_type": "code",
      "metadata": {
        "colab": {
          "base_uri": "https://localhost:8080/",
          "height": 39
        },
        "id": "zpHzhaf4EpJV",
        "outputId": "49197458-f110-4ed6-a68a-f94cb14800ee"
      },
      "source": [
        "#Has the starting position was not informed\n",
        "MRUV.subs({t:10,a:4,v0:0})\n"
      ],
      "execution_count": null,
      "outputs": [
        {
          "output_type": "execute_result",
          "data": {
            "text/latex": "$\\displaystyle x_{0} + 200 = x$",
            "text/plain": [
              "Eq(x0 + 200, x)"
            ]
          },
          "metadata": {},
          "execution_count": 16
        }
      ]
    },
    {
      "cell_type": "code",
      "metadata": {
        "colab": {
          "base_uri": "https://localhost:8080/",
          "height": 39
        },
        "id": "0F2CzToiFu_L",
        "outputId": "987c031a-be85-47be-ad8d-c6e6045c9681"
      },
      "source": [
        "#Assuming x0 = 0\n",
        "MRUV.subs({x0:0,t:10,a:4,v0:0})"
      ],
      "execution_count": null,
      "outputs": [
        {
          "output_type": "execute_result",
          "data": {
            "text/latex": "$\\displaystyle 200 = x$",
            "text/plain": [
              "Eq(200, x)"
            ]
          },
          "metadata": {},
          "execution_count": 17
        }
      ]
    },
    {
      "cell_type": "markdown",
      "metadata": {
        "id": "XEgZiydekbDZ"
      },
      "source": [
        "**3. Operações Algébricas**"
      ]
    },
    {
      "cell_type": "markdown",
      "metadata": {
        "id": "J51KwwH7mzg0"
      },
      "source": [
        "Operações algébricas definidas usando objetos Sympy não serão avaliadas diretamente. \n",
        "\n",
        "Como exemplo, usando a *função de solução*, **solve**,  apresentaremos o tratamento de uma equação a ser resolvida como um único argumento."
      ]
    },
    {
      "cell_type": "code",
      "metadata": {
        "id": "9MtLyk_KTFuk",
        "colab": {
          "base_uri": "https://localhost:8080/",
          "height": 212
        },
        "outputId": "3ca2f125-76e1-473a-94ef-4b4c70ea1bb9"
      },
      "source": [
        "\n",
        "expr = Eq(3*x**2+2*x-1)\n",
        "display(expr) #disply show the equation on the symbolic format. \n",
        "\n",
        "#print(expr)\n",
        "\n",
        "\n",
        "print(\"As raízes são:\")\n",
        "display(solve(expr))\n",
        "print(solve(expr)) #Apparently there is no diference beteween print and diply for 'solve'... Lets keep going"
      ],
      "execution_count": null,
      "outputs": [
        {
          "output_type": "stream",
          "name": "stderr",
          "text": [
            "/usr/local/lib/python3.7/dist-packages/sympy/core/relational.py:496: SymPyDeprecationWarning: \n",
            "\n",
            "Eq(expr) with rhs default to 0 has been deprecated since SymPy 1.5.\n",
            "Use Eq(expr, 0) instead. See\n",
            "https://github.com/sympy/sympy/issues/16587 for more info.\n",
            "\n",
            "  deprecated_since_version=\"1.5\"\n"
          ]
        },
        {
          "output_type": "display_data",
          "data": {
            "text/latex": "$\\displaystyle 3 x^{2} + 2 x - 1 = 0$",
            "text/plain": [
              "Eq(3*x**2 + 2*x - 1, 0)"
            ]
          },
          "metadata": {}
        },
        {
          "output_type": "stream",
          "name": "stdout",
          "text": [
            "As raízes são:\n"
          ]
        },
        {
          "output_type": "display_data",
          "data": {
            "text/plain": [
              "[-1, 1/3]"
            ]
          },
          "metadata": {}
        },
        {
          "output_type": "stream",
          "name": "stdout",
          "text": [
            "[-1, 1/3]\n"
          ]
        }
      ]
    },
    {
      "cell_type": "markdown",
      "metadata": {
        "id": "0MREVFXFnvci"
      },
      "source": [
        "\n",
        "\n",
        "---\n",
        "\n",
        "\n",
        "**Mais um exemplo**: \n",
        "Resolva a seguinte equação no Sympy $$\n",
        "\\frac{5}{3}(y-2)-\\frac{4}{5}(2y-5)=4-\\frac{3}{2}(y-3)\n",
        "$$"
      ]
    },
    {
      "cell_type": "code",
      "metadata": {
        "id": "OBLSOLJKThjQ",
        "colab": {
          "base_uri": "https://localhost:8080/",
          "height": 246
        },
        "outputId": "49fd8f59-ec2d-4eeb-ca12-5eda9b150547"
      },
      "source": [
        "expr = Eq((Integer(5)/3)*(y-2)-(Integer(4)/5)*(2*y-5),4-(Integer(3)/2)*(y-3)) \n",
        "display(expr)\n",
        "\n",
        "print('\\nWithout the \\'Integer\\'()\\n')\n",
        "expr1 = Eq(((5)/3)*(y-2)-((4)/5)*(2*y-5),4-((3)/2)*(y-3)) \n",
        "display(expr1)\n",
        "\n",
        "\n",
        "\n",
        "print(\"A solução é:\")\n",
        "display(solve(expr))\n",
        "\n",
        "print('\\nObserve que o sympy ira simplicifar a equação em cada mão da equação. \\nTanto que no lado direiro podemos ver somente um termo com variável \\ne um termo numerico\\n#muitolegal')"
      ],
      "execution_count": null,
      "outputs": [
        {
          "output_type": "display_data",
          "data": {
            "text/latex": "$\\displaystyle \\frac{y}{15} + \\frac{2}{3} = \\frac{17}{2} - \\frac{3 y}{2}$",
            "text/plain": [
              "Eq(y/15 + 2/3, 17/2 - 3*y/2)"
            ]
          },
          "metadata": {}
        },
        {
          "output_type": "stream",
          "name": "stdout",
          "text": [
            "\n",
            "Without the 'Integer'()\n",
            "\n"
          ]
        },
        {
          "output_type": "display_data",
          "data": {
            "text/latex": "$\\displaystyle 0.0666666666666667 y + 0.666666666666667 = 8.5 - 1.5 y$",
            "text/plain": [
              "Eq(0.0666666666666667*y + 0.666666666666667, 8.5 - 1.5*y)"
            ]
          },
          "metadata": {}
        },
        {
          "output_type": "stream",
          "name": "stdout",
          "text": [
            "A solução é:\n"
          ]
        },
        {
          "output_type": "display_data",
          "data": {
            "text/plain": [
              "[5]"
            ]
          },
          "metadata": {}
        },
        {
          "output_type": "stream",
          "name": "stdout",
          "text": [
            "\n",
            "Observe que o sympy ira simplicifar a equação em cada mão da equação. \n",
            "Tanto que no lado direiro podemos ver somente um termo com variável \n",
            "e um termo numerico\n",
            "#muitolegal\n"
          ]
        }
      ]
    },
    {
      "cell_type": "code",
      "metadata": {
        "colab": {
          "base_uri": "https://localhost:8080/",
          "height": 86
        },
        "id": "-xOdDWg6PXr5",
        "outputId": "433d4170-2f29-4827-cee3-d4c0c18bbaf1"
      },
      "source": [
        "f = Eq((Integer(5)/3)*(y-2)-(Integer(4)/5)*(2*y-5),4-(Integer(3)/2)*(y-3))\n",
        "display(f)\n",
        "\n",
        "print(\"A solução é:\")\n",
        "display(solve(f))"
      ],
      "execution_count": null,
      "outputs": [
        {
          "output_type": "display_data",
          "data": {
            "text/latex": "$\\displaystyle \\frac{y}{15} + \\frac{2}{3} = \\frac{17}{2} - \\frac{3 y}{2}$",
            "text/plain": [
              "Eq(y/15 + 2/3, 17/2 - 3*y/2)"
            ]
          },
          "metadata": {}
        },
        {
          "output_type": "stream",
          "name": "stdout",
          "text": [
            "A solução é:\n"
          ]
        },
        {
          "output_type": "display_data",
          "data": {
            "text/plain": [
              "[5]"
            ]
          },
          "metadata": {}
        }
      ]
    },
    {
      "cell_type": "markdown",
      "metadata": {
        "id": "ppG953raxMeZ"
      },
      "source": [
        "**3.1. Derivadas**"
      ]
    },
    {
      "cell_type": "markdown",
      "metadata": {
        "id": "Y5Zz0FuMw2D-"
      },
      "source": [
        "O Sympy é capaz de calcular **derivadas** usando o **diff** como uma função ou como um método em uma expressão. Expressões também podem ser construídas para serem derivadas usando a função **Derivative**, que exibirá o resultado somente quando o método *doit* for chamado."
      ]
    },
    {
      "cell_type": "code",
      "metadata": {
        "id": "5oDdFYIJw1Ol",
        "colab": {
          "base_uri": "https://localhost:8080/",
          "height": 134
        },
        "outputId": "33007475-2939-4b89-8b4f-7e168823edbc"
      },
      "source": [
        "# Como função\n",
        "expr = sec(x)*exp(y)\n",
        "print(\"Expressão a derivar\")\n",
        "display(expr)\n",
        "print(\"Derivada em relação a 'x'\")\n",
        "display(diff(expr,x))\n",
        "\n",
        "print(\"Derivadas em cadeia: em relação a 'x', então a 'y' e novamente a 'x'\")\n",
        "display(diff(expr,x,y,x))"
      ],
      "execution_count": null,
      "outputs": [
        {
          "output_type": "stream",
          "name": "stdout",
          "text": [
            "Expressão a derivar\n"
          ]
        },
        {
          "output_type": "display_data",
          "data": {
            "text/latex": "$\\displaystyle e^{y} \\sec{\\left(x \\right)}$",
            "text/plain": [
              "exp(y)*sec(x)"
            ]
          },
          "metadata": {}
        },
        {
          "output_type": "stream",
          "name": "stdout",
          "text": [
            "Derivada em relação a 'x'\n"
          ]
        },
        {
          "output_type": "display_data",
          "data": {
            "text/latex": "$\\displaystyle e^{y} \\tan{\\left(x \\right)} \\sec{\\left(x \\right)}$",
            "text/plain": [
              "exp(y)*tan(x)*sec(x)"
            ]
          },
          "metadata": {}
        },
        {
          "output_type": "stream",
          "name": "stdout",
          "text": [
            "Derivadas em cadeia: em relação a 'x', então a 'y' e novamente a 'x'\n"
          ]
        },
        {
          "output_type": "display_data",
          "data": {
            "text/latex": "$\\displaystyle \\left(2 \\tan^{2}{\\left(x \\right)} + 1\\right) e^{y} \\sec{\\left(x \\right)}$",
            "text/plain": [
              "(2*tan(x)**2 + 1)*exp(y)*sec(x)"
            ]
          },
          "metadata": {}
        }
      ]
    },
    {
      "cell_type": "markdown",
      "metadata": {
        "id": "v_K3LODPqGTR"
      },
      "source": [
        "\n",
        "\n",
        "---\n",
        "\n"
      ]
    },
    {
      "cell_type": "code",
      "metadata": {
        "id": "QuoqNSUjx_fD",
        "colab": {
          "base_uri": "https://localhost:8080/",
          "height": 232
        },
        "outputId": "4608b1c0-f6ca-436b-a999-ebc4f2f9bc77"
      },
      "source": [
        "# Como método\n",
        "expr = 4/x - 1/(6*x**3) + 8/x**5\n",
        "print(\"Expressão a derivar\")\n",
        "display(expr)\n",
        "\n",
        "print(\"1a derivada\")\n",
        "display(expr.diff(x))\n",
        "\n",
        "print(\"3a derivada\")\n",
        "display(expr.diff(x,x,x))\n",
        "\n",
        "print(\"7a derivada\")\n",
        "display(expr.diff(x,7))"
      ],
      "execution_count": null,
      "outputs": [
        {
          "output_type": "stream",
          "name": "stdout",
          "text": [
            "Expressão a derivar\n"
          ]
        },
        {
          "output_type": "display_data",
          "data": {
            "text/latex": "$\\displaystyle \\frac{4}{x} - \\frac{1}{6 x^{3}} + \\frac{8}{x^{5}}$",
            "text/plain": [
              "4/x - 1/(6*x**3) + 8/x**5"
            ]
          },
          "metadata": {}
        },
        {
          "output_type": "stream",
          "name": "stdout",
          "text": [
            "1a derivada\n"
          ]
        },
        {
          "output_type": "display_data",
          "data": {
            "text/latex": "$\\displaystyle - \\frac{4}{x^{2}} + \\frac{1}{2 x^{4}} - \\frac{40}{x^{6}}$",
            "text/plain": [
              "-4/x**2 + 1/(2*x**4) - 40/x**6"
            ]
          },
          "metadata": {}
        },
        {
          "output_type": "stream",
          "name": "stdout",
          "text": [
            "3a derivada\n"
          ]
        },
        {
          "output_type": "display_data",
          "data": {
            "text/latex": "$\\displaystyle \\frac{2 \\left(-12 + \\frac{5}{x^{2}} - \\frac{840}{x^{4}}\\right)}{x^{4}}$",
            "text/plain": [
              "2*(-12 + 5/x**2 - 840/x**4)/x**4"
            ]
          },
          "metadata": {}
        },
        {
          "output_type": "stream",
          "name": "stdout",
          "text": [
            "7a derivada\n"
          ]
        },
        {
          "output_type": "display_data",
          "data": {
            "text/latex": "$\\displaystyle \\frac{10080 \\left(-2 + \\frac{3}{x^{2}} - \\frac{1320}{x^{4}}\\right)}{x^{8}}$",
            "text/plain": [
              "10080*(-2 + 3/x**2 - 1320/x**4)/x**8"
            ]
          },
          "metadata": {}
        }
      ]
    },
    {
      "cell_type": "code",
      "metadata": {
        "id": "D7Wlep63xgZH",
        "colab": {
          "base_uri": "https://localhost:8080/",
          "height": 126
        },
        "outputId": "b743e2f8-79ae-461f-f95e-6bce7dcdb301"
      },
      "source": [
        "# Usando a função Derivative\n",
        "dexpr = Derivative(expr,x)\n",
        "print(\"Derivada sem avaliar\")\n",
        "display(dexpr)\n",
        "\n",
        "print(\"Resultado\")\n",
        "dexpr.doit()"
      ],
      "execution_count": null,
      "outputs": [
        {
          "output_type": "stream",
          "name": "stdout",
          "text": [
            "Derivada sem avaliar\n"
          ]
        },
        {
          "output_type": "display_data",
          "data": {
            "text/latex": "$\\displaystyle \\frac{d}{d x} \\left(\\frac{4}{x} - \\frac{1}{6 x^{3}} + \\frac{8}{x^{5}}\\right)$",
            "text/plain": [
              "Derivative(4/x - 1/(6*x**3) + 8/x**5, x)"
            ]
          },
          "metadata": {}
        },
        {
          "output_type": "stream",
          "name": "stdout",
          "text": [
            "Resultado\n"
          ]
        },
        {
          "output_type": "execute_result",
          "data": {
            "text/latex": "$\\displaystyle - \\frac{4}{x^{2}} + \\frac{1}{2 x^{4}} - \\frac{40}{x^{6}}$",
            "text/plain": [
              "-4/x**2 + 1/(2*x**4) - 40/x**6"
            ]
          },
          "metadata": {},
          "execution_count": 23
        }
      ]
    },
    {
      "cell_type": "markdown",
      "metadata": {
        "id": "w3i0ajQZ0IHy"
      },
      "source": [
        "\n",
        "\n",
        "---\n",
        "\n",
        "\n",
        "**Hands-on 02**: \n",
        "Obtenha a equação para a velocidade de um objeto em movimento acelerado a partir da equação de posição (MRUV).\n",
        "\n"
      ]
    },
    {
      "cell_type": "markdown",
      "metadata": {
        "id": "bPSFulw50iru"
      },
      "source": [
        "\n",
        "---\n",
        "\n",
        "\n",
        "***Desenvolva aqui:***\n",
        "\n",
        "---\n"
      ]
    },
    {
      "cell_type": "code",
      "metadata": {
        "colab": {
          "base_uri": "https://localhost:8080/",
          "height": 75
        },
        "id": "jA0WKZiEPGHJ",
        "outputId": "00d4fc04-9847-4a4e-dbe7-1bc23a2a3c2b"
      },
      "source": [
        "MRUV1 = x0+v0*t+Integer(1)/2*a*t**2-x\n",
        "display(MRUV1)\n",
        "display(MRUV1.diff(t))"
      ],
      "execution_count": null,
      "outputs": [
        {
          "output_type": "display_data",
          "data": {
            "text/latex": "$\\displaystyle \\frac{a t^{2}}{2} + t v_{0} - x + x_{0}$",
            "text/plain": [
              "a*t**2/2 + t*v0 - x + x0"
            ]
          },
          "metadata": {}
        },
        {
          "output_type": "display_data",
          "data": {
            "text/latex": "$\\displaystyle a t + v_{0}$",
            "text/plain": [
              "a*t + v0"
            ]
          },
          "metadata": {}
        }
      ]
    },
    {
      "cell_type": "markdown",
      "metadata": {
        "id": "RZCZ_J5JqMt4"
      },
      "source": [
        "**3.2. Integrais**"
      ]
    },
    {
      "cell_type": "markdown",
      "metadata": {
        "id": "2YK0N4Un0x_u"
      },
      "source": [
        "Como para as derivadas, existe o **método de integração** e a **função Integral** para obter integrais. Os limites de integração podem ser definidos ou não.\n",
        "\n",
        "Exemplo:\n",
        "$$\n",
        "\\int_{0}^{\\pi/2}{sin^2 \\left( \\frac{x}{2} \\right) cos(2x)dx}\n",
        "$$"
      ]
    },
    {
      "cell_type": "code",
      "metadata": {
        "id": "DxbhG0Oj1pJu",
        "colab": {
          "base_uri": "https://localhost:8080/",
          "height": 277
        },
        "outputId": "6ce6eefe-a3ef-4b42-d54c-0b0eaab61777"
      },
      "source": [
        "# Montgem da Integral sem Calcular\n",
        "\n",
        "expr = Integral(cos(2*x)*sin(x/2)**2,(x,0,pi/2)) #função(variavel,limite_inferior,limite_superior)\n",
        "print(\"Integral no Sympy\\n\")\n",
        "display(expr)\n",
        "\n",
        "#Integrando sem limites de ingração\n",
        "expr1 = Integral(cos(2*x)*sin(x/2)**2,(x))\n",
        "print(\"\\nIntegral no Sem limite de integração\\n\")\n",
        "display(expr1.doit())\n",
        "\n",
        "# Integrando\n",
        "print(\"La respuesta es:\\n\") #kkkkkk\n",
        "display(expr.doit())"
      ],
      "execution_count": null,
      "outputs": [
        {
          "output_type": "stream",
          "name": "stdout",
          "text": [
            "Integral no Sympy\n",
            "\n"
          ]
        },
        {
          "output_type": "display_data",
          "data": {
            "text/latex": "$\\displaystyle \\int\\limits_{0}^{\\frac{\\pi}{2}} \\sin^{2}{\\left(\\frac{x}{2} \\right)} \\cos{\\left(2 x \\right)}\\, dx$",
            "text/plain": [
              "Integral(sin(x/2)**2*cos(2*x), (x, 0, pi/2))"
            ]
          },
          "metadata": {}
        },
        {
          "output_type": "stream",
          "name": "stdout",
          "text": [
            "\n",
            "Integral no Sem limite de integração\n",
            "\n"
          ]
        },
        {
          "output_type": "display_data",
          "data": {
            "text/latex": "$\\displaystyle \\frac{7 \\sin^{2}{\\left(\\frac{x}{2} \\right)} \\sin{\\left(2 x \\right)}}{12} + \\frac{\\sin{\\left(\\frac{x}{2} \\right)} \\cos{\\left(\\frac{x}{2} \\right)} \\cos{\\left(2 x \\right)}}{3} - \\frac{\\sin{\\left(2 x \\right)} \\cos^{2}{\\left(\\frac{x}{2} \\right)}}{12}$",
            "text/plain": [
              "7*sin(x/2)**2*sin(2*x)/12 + sin(x/2)*cos(x/2)*cos(2*x)/3 - sin(2*x)*cos(x/2)**2/12"
            ]
          },
          "metadata": {}
        },
        {
          "output_type": "stream",
          "name": "stdout",
          "text": [
            "La respuesta es:\n",
            "\n"
          ]
        },
        {
          "output_type": "display_data",
          "data": {
            "text/latex": "$\\displaystyle - \\frac{1}{6}$",
            "text/plain": [
              "-1/6"
            ]
          },
          "metadata": {}
        }
      ]
    },
    {
      "cell_type": "code",
      "metadata": {
        "id": "wVIdDAAr1wA4",
        "colab": {
          "base_uri": "https://localhost:8080/",
          "height": 517
        },
        "outputId": "e8ed0267-18db-4535-faf6-cb4d6cbc9319"
      },
      "source": [
        "print(\"Uma Função com Duas Variáveis\")\n",
        "expr = 3*x**2/(sin(y))\n",
        "display(expr)\n",
        "\n",
        "print(\"\\nIntegral indefinida em relação a x:\")\n",
        "int_x = Integral(expr, x)\n",
        "display(int_x)\n",
        "print(\"Resultado\")\n",
        "display(int_x.doit())\n",
        "\n",
        "print(\"\\nIntegral indefinida em relação a y:\")\n",
        "int_y = Integral(expr, y)\n",
        "display(int_y)\n",
        "print(\"Resultado\")\n",
        "display(int_y.doit())\n",
        "\n",
        "print(\"\\nIntegral Dupla definida:\")\n",
        "int_d = Integral(expr, (x, -2, 4), (y, pi/4, pi/2))\n",
        "display(int_d)\n",
        "print(\"Resultado\")\n",
        "display(int_d.doit())"
      ],
      "execution_count": null,
      "outputs": [
        {
          "output_type": "stream",
          "name": "stdout",
          "text": [
            "Uma Função com Duas Variáveis\n"
          ]
        },
        {
          "output_type": "display_data",
          "data": {
            "text/latex": "$\\displaystyle \\frac{3 x^{2}}{\\sin{\\left(y \\right)}}$",
            "text/plain": [
              "3*x**2/sin(y)"
            ]
          },
          "metadata": {}
        },
        {
          "output_type": "stream",
          "name": "stdout",
          "text": [
            "\n",
            "Integral indefinida em relação a x:\n"
          ]
        },
        {
          "output_type": "display_data",
          "data": {
            "text/latex": "$\\displaystyle \\int \\frac{3 x^{2}}{\\sin{\\left(y \\right)}}\\, dx$",
            "text/plain": [
              "Integral(3*x**2/sin(y), x)"
            ]
          },
          "metadata": {}
        },
        {
          "output_type": "stream",
          "name": "stdout",
          "text": [
            "Resultado\n"
          ]
        },
        {
          "output_type": "display_data",
          "data": {
            "text/latex": "$\\displaystyle \\frac{x^{3}}{\\sin{\\left(y \\right)}}$",
            "text/plain": [
              "x**3/sin(y)"
            ]
          },
          "metadata": {}
        },
        {
          "output_type": "stream",
          "name": "stdout",
          "text": [
            "\n",
            "Integral indefinida em relação a y:\n"
          ]
        },
        {
          "output_type": "display_data",
          "data": {
            "text/latex": "$\\displaystyle \\int \\frac{3 x^{2}}{\\sin{\\left(y \\right)}}\\, dy$",
            "text/plain": [
              "Integral(3*x**2/sin(y), y)"
            ]
          },
          "metadata": {}
        },
        {
          "output_type": "stream",
          "name": "stdout",
          "text": [
            "Resultado\n"
          ]
        },
        {
          "output_type": "display_data",
          "data": {
            "text/latex": "$\\displaystyle 3 x^{2} \\left(\\frac{\\log{\\left(\\cos{\\left(y \\right)} - 1 \\right)}}{2} - \\frac{\\log{\\left(\\cos{\\left(y \\right)} + 1 \\right)}}{2}\\right)$",
            "text/plain": [
              "3*x**2*(log(cos(y) - 1)/2 - log(cos(y) + 1)/2)"
            ]
          },
          "metadata": {}
        },
        {
          "output_type": "stream",
          "name": "stdout",
          "text": [
            "\n",
            "Integral Dupla definida:\n"
          ]
        },
        {
          "output_type": "display_data",
          "data": {
            "text/latex": "$\\displaystyle \\int\\limits_{\\frac{\\pi}{4}}^{\\frac{\\pi}{2}}\\int\\limits_{-2}^{4} \\frac{3 x^{2}}{\\sin{\\left(y \\right)}}\\, dx\\, dy$",
            "text/plain": [
              "Integral(3*x**2/sin(y), (x, -2, 4), (y, pi/4, pi/2))"
            ]
          },
          "metadata": {}
        },
        {
          "output_type": "stream",
          "name": "stdout",
          "text": [
            "Resultado\n"
          ]
        },
        {
          "output_type": "display_data",
          "data": {
            "text/latex": "$\\displaystyle 36 \\log{\\left(\\frac{\\sqrt{2}}{2} + 1 \\right)} - 36 \\log{\\left(1 - \\frac{\\sqrt{2}}{2} \\right)}$",
            "text/plain": [
              "36*log(sqrt(2)/2 + 1) - 36*log(1 - sqrt(2)/2)"
            ]
          },
          "metadata": {}
        }
      ]
    },
    {
      "cell_type": "markdown",
      "metadata": {
        "id": "8wd7nLrpILQo"
      },
      "source": [
        "# ***PERGUNTAS***\n",
        "1 - What is the difference beteween math and numpy?\n"
      ]
    },
    {
      "cell_type": "markdown",
      "metadata": {
        "id": "7JyXQLAoFhrh"
      },
      "source": [
        "# Hands- On 01:\n",
        "\n",
        "1.1.Matemática Simbólica no Sympy: Construa o seu notebook de FISMAT a partir do \n",
        "GoogleColab compartilhado pelo Professor e processe o conteúdo para warm- up.\n",
        "\n",
        "1.2. Identifique e Liste Aplicações Existentes no Sympy para Tensores\n",
        "\n",
        "1.3. Identifique e Liste Aplicações Existentes no Sympy para Grupos\n",
        "\n",
        "1.4. Identifique e Liste Aplicações Existentes no Sympy para Cálculo Variacional\n",
        "\n",
        "1.5. Identifique e Liste Aplicações Existentes no Sympy para Variáveis Complexas\n",
        "\n",
        "1.6.Descreva de forma sucinta a carreira e identifique quais foram as principais contribuições de Lev Landau como físico matemático."
      ]
    },
    {
      "cell_type": "markdown",
      "metadata": {
        "id": "SVd338XdFveJ"
      },
      "source": [
        "# 1.2 Tensores no Sympy\n",
        "\n",
        "A biblioteca do sympy que lida com tensores pode ser encontrada em https://docs.sympy.org/latest/modules/tensor/index.html\n",
        "\n",
        "Tensores são elementos matematicos generalizados para escalares, vetores e matrizes. Podemos dizer que um escalar é um tensor de ordem zero (ou seja, um elemento com dimensão 0), que um vetor é um tensor de ordem 1 havendo apenas umas dimensão, que uma matriz é um tensor de ordem 2, que uma matriz cúbica é um tensor de ordem 4 e assim sucessivamente. \n",
        "\n",
        "<img src=\"https://miro.medium.com/max/875/1*TBHMIg2vUm3FYB3AC7xCug.png\" width=800 > \n",
        "\n",
        "Físicamente, os tensores podem conter a informação vetorial de componentes físicas. Um aplicação esta no estudo de corpos rígidos _Tensor de Inécia_ \n",
        "\n",
        "A energia cinética de um sistema físicao é escrito por \n",
        "\n",
        "\\begin{equation}\n",
        "  T_{\\text{rot}} = \\frac{1}{2} \\sum_{i,j} I_{i,j} \\omega_i \\omega_j \n",
        "\\end{equation}\n",
        "\n",
        "Onde \n",
        "\n",
        "\\begin{equation}\n",
        "  I_{ij} \\equiv \\sum_\\alpha m_\\alpha \\left( \\delta_{ij} \\sum_k x^2_{\\alpha,k} - x_{\\alpha,i} x_{\\alpha,j} \\right)\n",
        "\\end{equation}\n",
        "\n",
        "e representa o tensor momento de inéricia. \n",
        "\n",
        "Estes nove termos de $I_{ij}$ são repsentados por \n",
        "\n",
        "$$\n",
        "{I}=\\left\\{ \\begin{array}{rrr}\n",
        " \\sum_\\alpha m_\\alpha (x^2_{\\alpha,2}+x^2_{\\alpha,3})&\n",
        "-\\sum_\\alpha m_\\alpha x_{\\alpha,1}x_{\\alpha,2}&\n",
        "-\\sum_\\alpha m_\\alpha x_{\\alpha,1}x_{\\alpha,3}\\\\\n",
        "-\\sum_\\alpha m_\\alpha x_{\\alpha,2}x_{\\alpha,1}&\n",
        " \\sum_\\alpha m_\\alpha (x^2_{\\alpha,1}+x^2_{\\alpha,3})&\n",
        "-\\sum_\\alpha m_\\alpha x_{\\alpha,2}x_{\\alpha,3}\\\\\n",
        "-\\sum_\\alpha m_\\alpha x_{\\alpha,3}x_{\\alpha,1}&\n",
        "-\\sum_\\alpha m_\\alpha x_{\\alpha,3}x_{\\alpha,2}&\n",
        " \\sum_\\alpha m_\\alpha (x^2_{\\alpha,1}+x^2_{\\alpha,2})\n",
        "\\end{array}\\right\\}\n",
        "$$\n",
        "\n",
        "Os elementos da diagonal principal  são chamados de momento de inércia em torno dos\n",
        "eixos $x_1$, $x_2$, e $x_3$ respectivamente, e as negativas dos elementos fora da diagonal, e assim\n",
        "por diante, sáo denominadas produtos de inércia.\n",
        "\n",
        "\n",
        "## Exemplo 1\n",
        "\n",
        "Um exemplo esta em [scipython.com](https://scipython.com/book/chapter-6-numpy/problems/p65/the-moment-of-inertia-tensor/): \n",
        "\n",
        "_Determine the principal moments of inertia of and classify the molecules $NH_3$, $CH_4$, $CH_3Cl$ and $O_3$ given the data available in the file [molecule-data.zip](https://scipython.com/static/media/problems/P6.5/molecule-data.zip). Also determine the rotational constants, A, B and C, related to the moments of inertia through $Q=h/(8\\pi^2cI_q)$ $(Q=A,B,C;q=a,b,c)$ and usually expressed in cm$^{−1}$._\n",
        "\n",
        "\n",
        "### Solution"
      ]
    },
    {
      "cell_type": "code",
      "metadata": {
        "colab": {
          "base_uri": "https://localhost:8080/"
        },
        "id": "Tt35ymiyowvo",
        "outputId": "a0d666a1-6e84-4cbc-c0da-5bea8f722cfb"
      },
      "source": [
        "!wget -q -O tmp.zip https://scipython.com/static/media/problems/P6.5/molecule-data.zip && unzip tmp.zip && rm tmp.zip"
      ],
      "execution_count": null,
      "outputs": [
        {
          "output_type": "stream",
          "name": "stdout",
          "text": [
            "Archive:  tmp.zip\n",
            "  inflating: CH3Cl.dat               \n",
            "  inflating: CH4.dat                 \n",
            "  inflating: NH3.dat                 \n",
            "  inflating: O3.dat                  \n"
          ]
        }
      ]
    },
    {
      "cell_type": "code",
      "metadata": {
        "id": "FBXIEd-jpRTp",
        "colab": {
          "base_uri": "https://localhost:8080/"
        },
        "outputId": "e89caf97-b4bf-47c9-8d6c-685d10bdf7e3"
      },
      "source": [
        "!wget https://github.com/barauna-lo/Mathematical-physics/blob/main/Chemy/CH3Cl.dat"
      ],
      "execution_count": null,
      "outputs": [
        {
          "output_type": "stream",
          "name": "stdout",
          "text": [
            "--2021-10-05 17:02:56--  https://github.com/barauna-lo/Mathematical-physics/blob/main/Chemy/CH3Cl.dat\n",
            "Resolving github.com (github.com)... 140.82.112.3\n",
            "Connecting to github.com (github.com)|140.82.112.3|:443... connected.\n",
            "HTTP request sent, awaiting response... 200 OK\n",
            "Length: unspecified [text/html]\n",
            "Saving to: ‘CH3Cl.dat.1’\n",
            "\n",
            "CH3Cl.dat.1             [ <=>                ] 132.17K   727KB/s    in 0.2s    \n",
            "\n",
            "2021-10-05 17:02:56 (727 KB/s) - ‘CH3Cl.dat.1’ saved [135346]\n",
            "\n"
          ]
        }
      ]
    },
    {
      "cell_type": "code",
      "metadata": {
        "id": "-8iE0fwFIKJV"
      },
      "source": [
        "#@title\n",
        "import sys\n",
        "import numpy as np\n",
        "\n",
        "# Atomic mass unit (kg), Planck constant (J s), speed of light (m s-1)\n",
        "u, h, c = 1.66053886e-27, 6.62606957e-34, 2.99792458e8\n",
        "\n",
        "def translate_to_cofm(masses, xyz):\n",
        "    # Position of centre of mass in original coordinates\n",
        "    cofm = sum(masses[:,np.newaxis] * xyz) / np.sum(masses)\n",
        "    # Transform to CofM coordinates and return\n",
        "    xyz -= cofm\n",
        "    return xyz\n",
        "\n",
        "def get_inertia_matrix(masses, xyz):\n",
        "    # Moment of intertia tensor\n",
        "    xyz = translate_to_cofm(masses, xyz)\n",
        "    x, y, z = xyz.T\n",
        "    Ixx = np.sum(masses * (y**2 + z**2))\n",
        "    Iyy = np.sum(masses * (x**2 + z**2))\n",
        "    Izz = np.sum(masses * (x**2 + y**2))\n",
        "    Ixy = -np.sum(masses * x * y)\n",
        "    Iyz = -np.sum(masses * y * z)\n",
        "    Ixz = -np.sum(masses * x * z)\n",
        "    I = np.array([[Ixx, Ixy, Ixz], [Ixy, Iyy, Iyz], [Ixz, Iyz, Izz]])\n",
        "    return I\n",
        "\n",
        "def get_principal_moi(I):\n",
        "    Ip = np.linalg.eigvals(I)\n",
        "    # Sort and convert principal moments of inertia to SI (kg.m2)\n",
        "    Ip.sort()\n",
        "    return Ip\n",
        "\n",
        "def classify_molecule(A, B, C):\n",
        "    if np.isclose(A, B):\n",
        "        if np.isclose(B, C):\n",
        "            return 'Spherical top'\n",
        "        return 'Oblate symmetric top'\n",
        "    if np.isclose(B, C):\n",
        "        return 'Prolate symmetric top'\n",
        "    return 'Asymmetric top'\n",
        "\n",
        "def read_xyz(filename):\n",
        "    try:\n",
        "        data = np.loadtxt(filename, skiprows=2)\n",
        "    except FileNotFoundError:\n",
        "        print('No such file:', filename)\n",
        "        sys.exit(1)\n",
        "    except ValueError as e:\n",
        "        print('Malformed data in {}: {}'.format(filename, e))\n",
        "        sys.exit(1)\n",
        "    return data[:,0], data[:,1:]\n",
        "\n",
        "try:\n",
        "    masses, xyz = read_xyz(sys.argv[1])\n",
        "except IndexError:\n",
        "    print('Usage: {} <xyz filename>'.format(sys.argv[0]))\n",
        "    sys.exit(1)\n",
        "\n",
        "I = get_inertia_matrix(masses, xyz)\n",
        "\n",
        "Ip = get_principal_moi(I)\n",
        "Ip *= u / 1.e20\n",
        "A, B, C = h / 8 / np.pi**2 / c / 100 / Ip\n",
        "rotor_type = classify_molecule(A, B, C)\n",
        "\n",
        "print('{}: A={:.6f}, B={:.6f}, C={:.6f} cm-1'.format(rotor_type, A, B, C))\n"
      ],
      "execution_count": null,
      "outputs": []
    },
    {
      "cell_type": "markdown",
      "metadata": {
        "id": "PtHFw3KJvUZp"
      },
      "source": [
        "Um outro ponto ainda dentro do tensor de momento de inércia é que a própria biblioteca do ```sympy``` possui um módulo para calulos de mecânica clássica e um método específico para _inécia_ \n",
        "https://docs.sympy.org/latest/modules/physics/mechanics/api/part_bod.html#inertia\n",
        "\n",
        "\n",
        "\n",
        "\n",
        "\n"
      ]
    },
    {
      "cell_type": "markdown",
      "metadata": {
        "id": "DCVho7j01-Xt"
      },
      "source": [
        "## Exemplo 2 \n",
        "\n",
        "Outra aplicação que pode ser utilizada esta na relatividade geral no cálculo dos simbolos de Cristoffel\n",
        "\n",
        "$$\n",
        "\\frac{d^2 x^\\sigma}{d\\tau^2} + \\Gamma_{\\mu\\nu}^\\sigma \\frac{dx^\\mu}{d\\tau}\\frac{dx^\\nu}{d\\tau} = 0\n",
        "$$\n",
        "\n",
        "Onde $\\Gamma_{\\mu\\nu}^\\sigma$ são os symbolos de Cristoffel e pode ser escrito por\n",
        "\n",
        "$$\n",
        "\\Gamma^\\sigma_{\\mu\\nu} = \\frac{1}{2} g^{\\sigma\\rho} \\left( \\partial_\\mu g_{\\mu\\nu} + \\partial_\\nu g_{\\mu\\nu} - \\partial_{\\mu\\nu} \\right)\n",
        "$$\n",
        "\n",
        "$g_{\\mu\\nu}$ representa a métrica que descreve o espaço e o tempo e a metrica de Schwarzchild é\n",
        "\n",
        "$$\n",
        "ds^2 = -\\left( 1 - \\frac{2M}{r}\\right) dt^2 + \\frac{dr^2}{1 - \\frac{2m}{r}} + r^2 d\\theta^2 + r^2 \\sin^2\\theta d\\phi^2\n",
        "$$\n"
      ]
    },
    {
      "cell_type": "code",
      "metadata": {
        "id": "K0jgzuY1yJrN"
      },
      "source": [
        "from sympy import*\n",
        "#define the symbols\n",
        "M,t,r,theta,phi = symbols(\" M t r theta phi\")\n",
        "#define the coordinates\n",
        "coor = [t,r,theta,phi]\n",
        "#define the metric\n",
        "def m(i,j):\n",
        "    g00 = -(1-2*M/r)\n",
        "    g01 = 0\n",
        "    g02 = 0\n",
        "    g03 = 0\n",
        "    g10 = 0\n",
        "    g11 = 1/(1-2*M/r)\n",
        "    g12 = 0\n",
        "    g13 = 0\n",
        "    g20 = 0\n",
        "    g21 = 0\n",
        "    g22 = r**2\n",
        "    g23 = 0\n",
        "    g30 = 0\n",
        "    g31 = 0\n",
        "    g32 = 0\n",
        "    g33 = r**2*sin(theta)**2\n",
        "    return ([[g00,g01,g02,g03],\n",
        "             [g10,g11,g12,g13],\n",
        "             [g20,g21,g22,g23],\n",
        "             [g30,g31,g32,g33]])[i][j]\n",
        "#define derivative of metric\n",
        "def dm(i,j,k):\n",
        "    return diff(m(i,j),coor[k])\n",
        "#define inverse of metric\n",
        "def im(i,j):\n",
        "    K = Matrix([[m(0,0),m(0,1),m(0,2),m(0,3)],\n",
        "                [m(1,0),m(1,1),m(1,2),m(1,3)],\n",
        "                [m(2,0),m(2,1),m(2,2),m(2,3)],\n",
        "                [m(3,0),m(3,1),m(3,2),m(3,3)]])\n",
        "    return K.inv(method=\"LU\")[i,j]\n",
        "#define christoffel symbol\n",
        "def gamma(i,j,k):\n",
        "    s = 0\n",
        "    for l in range(4):\n",
        "        s+=0.5*im(i,l)*(dm(k,l,j)+dm(l,j,k)-dm(j,k,l))\n",
        "    return simplify(s)\n",
        "#print non zero elements\n",
        "for a in range(4):\n",
        "    for b in range(4):\n",
        "        for c in range(4):\n",
        "            if gamma(a,b,c)==0:\n",
        "                pass\n",
        "            else:\n",
        "                print(\"[\",a,b,c,\"]\",gamma(a,b,c))"
      ],
      "execution_count": null,
      "outputs": []
    },
    {
      "cell_type": "markdown",
      "metadata": {
        "id": "ssUi1FTs8inE"
      },
      "source": [
        "## Módulos 📃\n",
        "\n",
        "Lista de Aplicações do Módulo de Tensores do Sympy:\n",
        "\n",
        "*    Produto e contração\n",
        "*    Operação Diagonal\n",
        "*    Derivados por matriz\n",
        "\n",
        "\n",
        "## Bibliotecas 📚\n",
        "### EisteinPy\n",
        "\n",
        "<img src=\"https://einsteinpy.org/img/wordmark.png\" width = 400>\n",
        "\n",
        "\n",
        "Uma das bibliotecas que utilza o Tensor no sympa é EiteinsPy.\n",
        "\n",
        "Esta biblioteca é utilizada para cálculos matriciais e tensoriais dentro da Mecânica da Relatividade Geral.\n"
      ]
    },
    {
      "cell_type": "markdown",
      "metadata": {
        "id": "Zb4D3B9F8KLY"
      },
      "source": [
        ""
      ]
    },
    {
      "cell_type": "code",
      "metadata": {
        "colab": {
          "base_uri": "https://localhost:8080/",
          "height": 534
        },
        "id": "uiscQK2G1pxf",
        "outputId": "7828130c-d0e2-49aa-a198-95f001c8ae7a"
      },
      "source": [
        "!pip install einsteinpy\n",
        "import sympy\n",
        "from sympy import symbols, sin, cos, sinh\n",
        "from einsteinpy.symbolic import EinsteinTensor, MetricTensor\n",
        "\n",
        "sympy.init_printing()\n",
        "\n",
        "syms = sympy.symbols(\"t chi theta phi\")\n",
        "t, ch, th, ph = syms\n",
        "m = sympy.diag(-1, cos(t) ** 2, cos(t) ** 2 * sinh(ch) ** 2, cos(t) ** 2 * sinh(ch) ** 2 * sin(th) ** 2).tolist()\n",
        "metric = MetricTensor(m, syms)\n",
        "\n",
        "einst = EinsteinTensor.from_metric(metric)\n",
        "einst.tensor()"
      ],
      "execution_count": null,
      "outputs": [
        {
          "output_type": "stream",
          "name": "stdout",
          "text": [
            "Collecting einsteinpy\n",
            "  Downloading einsteinpy-0.4.0-py3-none-any.whl (88 kB)\n",
            "\u001b[?25l\r\u001b[K     |███▊                            | 10 kB 28.8 MB/s eta 0:00:01\r\u001b[K     |███████▍                        | 20 kB 21.7 MB/s eta 0:00:01\r\u001b[K     |███████████▏                    | 30 kB 16.5 MB/s eta 0:00:01\r\u001b[K     |██████████████▉                 | 40 kB 14.8 MB/s eta 0:00:01\r\u001b[K     |██████████████████▋             | 51 kB 7.9 MB/s eta 0:00:01\r\u001b[K     |██████████████████████▎         | 61 kB 7.6 MB/s eta 0:00:01\r\u001b[K     |██████████████████████████      | 71 kB 7.9 MB/s eta 0:00:01\r\u001b[K     |█████████████████████████████▊  | 81 kB 8.8 MB/s eta 0:00:01\r\u001b[K     |████████████████████████████████| 88 kB 4.9 MB/s \n",
            "\u001b[?25hRequirement already satisfied: sympy>=1.1 in /usr/local/lib/python3.7/dist-packages (from einsteinpy) (1.7.1)\n",
            "Requirement already satisfied: matplotlib in /usr/local/lib/python3.7/dist-packages (from einsteinpy) (3.2.2)\n",
            "Requirement already satisfied: plotly>=4.0 in /usr/local/lib/python3.7/dist-packages (from einsteinpy) (4.4.1)\n",
            "Requirement already satisfied: scipy>=1.0 in /usr/local/lib/python3.7/dist-packages (from einsteinpy) (1.4.1)\n",
            "Requirement already satisfied: astropy in /usr/local/lib/python3.7/dist-packages (from einsteinpy) (4.3.1)\n",
            "Requirement already satisfied: numpy in /usr/local/lib/python3.7/dist-packages (from einsteinpy) (1.19.5)\n",
            "Requirement already satisfied: numba!=0.49.0,>=0.46 in /usr/local/lib/python3.7/dist-packages (from einsteinpy) (0.51.2)\n",
            "Requirement already satisfied: setuptools in /usr/local/lib/python3.7/dist-packages (from numba!=0.49.0,>=0.46->einsteinpy) (57.4.0)\n",
            "Requirement already satisfied: llvmlite<0.35,>=0.34.0.dev0 in /usr/local/lib/python3.7/dist-packages (from numba!=0.49.0,>=0.46->einsteinpy) (0.34.0)\n",
            "Requirement already satisfied: six in /usr/local/lib/python3.7/dist-packages (from plotly>=4.0->einsteinpy) (1.15.0)\n",
            "Requirement already satisfied: retrying>=1.3.3 in /usr/local/lib/python3.7/dist-packages (from plotly>=4.0->einsteinpy) (1.3.3)\n",
            "Requirement already satisfied: mpmath>=0.19 in /usr/local/lib/python3.7/dist-packages (from sympy>=1.1->einsteinpy) (1.2.1)\n",
            "Requirement already satisfied: pyerfa>=1.7.3 in /usr/local/lib/python3.7/dist-packages (from astropy->einsteinpy) (2.0.0)\n",
            "Requirement already satisfied: importlib-metadata in /usr/local/lib/python3.7/dist-packages (from astropy->einsteinpy) (4.8.1)\n",
            "Requirement already satisfied: zipp>=0.5 in /usr/local/lib/python3.7/dist-packages (from importlib-metadata->astropy->einsteinpy) (3.6.0)\n",
            "Requirement already satisfied: typing-extensions>=3.6.4 in /usr/local/lib/python3.7/dist-packages (from importlib-metadata->astropy->einsteinpy) (3.7.4.3)\n",
            "Requirement already satisfied: cycler>=0.10 in /usr/local/lib/python3.7/dist-packages (from matplotlib->einsteinpy) (0.10.0)\n",
            "Requirement already satisfied: pyparsing!=2.0.4,!=2.1.2,!=2.1.6,>=2.0.1 in /usr/local/lib/python3.7/dist-packages (from matplotlib->einsteinpy) (2.4.7)\n",
            "Requirement already satisfied: kiwisolver>=1.0.1 in /usr/local/lib/python3.7/dist-packages (from matplotlib->einsteinpy) (1.3.2)\n",
            "Requirement already satisfied: python-dateutil>=2.1 in /usr/local/lib/python3.7/dist-packages (from matplotlib->einsteinpy) (2.8.2)\n",
            "Installing collected packages: einsteinpy\n",
            "Successfully installed einsteinpy-0.4.0\n"
          ]
        },
        {
          "output_type": "execute_result",
          "data": {
            "text/latex": "$\\displaystyle \\left[\\begin{matrix}-3.0 & 0 & 0 & 0\\\\0 & 3.0 \\cos^{2}{\\left(t \\right)} & 0 & 0\\\\0 & 0 & 3.0 \\cos^{2}{\\left(t \\right)} \\sinh^{2}{\\left(\\chi \\right)} & 0\\\\0 & 0 & 0 & 3.0 \\sin^{2}{\\left(\\theta \\right)} \\cos^{2}{\\left(t \\right)} \\sinh^{2}{\\left(\\chi \\right)}\\end{matrix}\\right]$",
            "text/plain": [
              "⎡-3.0       0                0                         0              ⎤\n",
              "⎢                                                                     ⎥\n",
              "⎢             2                                                       ⎥\n",
              "⎢ 0    3.0⋅cos (t)           0                         0              ⎥\n",
              "⎢                                                                     ⎥\n",
              "⎢                          2        2                                 ⎥\n",
              "⎢ 0         0       3.0⋅cos (t)⋅sinh (χ)               0              ⎥\n",
              "⎢                                                                     ⎥\n",
              "⎢                                                2       2        2   ⎥\n",
              "⎣ 0         0                0            3.0⋅sin (θ)⋅cos (t)⋅sinh (χ)⎦"
            ]
          },
          "metadata": {},
          "execution_count": 31
        }
      ]
    },
    {
      "cell_type": "markdown",
      "metadata": {
        "id": "IKK48QT8Lz3W"
      },
      "source": [
        "#1.2 Grupos no Sympy \n",
        "\n",
        "Um grupo é um conjunto que de elementos (aqui representado pela letra $G$) que permite a combinação para a formação de um terceiro $G\\times G \\to G$  e fazem perte de uma estrutura algébrica e que satisfazem as seguintes propriedades: \n",
        "\n",
        "* Associatividade: $a\\cdot (b\\cdot c) = (a\\cdot b)\\cdot c$.\n",
        "* Elemento Neutro: $e \\in G$ tal que $a \\cdot e = e\\cdot a = a, \\forall a \\in G$.\n",
        "* Elemento Inverso: tal que $a\\cdot a^{-1} = a^{-1} \\cdot a = e. \\forall a \\in G $  \n",
        "\n",
        "Em matemática, um grupo é um conjunto de elementos associados a uma operação que combina dois elementos quaisquer para formar um terceiro. Para se qualificar como grupo o conjunto e a operação devem satisfazer algumas condições chamadas axiomas de grupo: associatividade, elemento neutro e elementos inversos.\n",
        "\n",
        "## Módulos 📃\n",
        "No sympy existem alguns módulos que trabalham que com teoria de grupo \n",
        "\n",
        "* Finitely Presented Groups\n",
        "\n",
        "* Polycyclic Groups\n",
        "\n",
        "* Named Groups\n",
        "\n",
        "* Group constructors\n",
        "\n",
        "## Bibliotecas 📚\n",
        "\n",
        "### Sage \n",
        "<img src=\"https://www.sagemath.org/pix/logo_sagemath+icon_oldstyle.png\" width = 400>\n",
        "\n",
        "Uma das bibliotecas que trabalha com teoria de grupo utulizando o sympy é o [Sage](https://www.sagemath.org/) que permite realizar operações que respeitem as propriedades dos grupos.\n",
        "\n",
        "Aparentemente o SAGE não roda diretamente no python e precisa ser instalado. Um guia completo pode ser encontrado em https://doc.sagemath.org/pdf/en/reference/groups/groups.pdf"
      ]
    },
    {
      "cell_type": "markdown",
      "metadata": {
        "id": "iWLwsybiXR0E"
      },
      "source": [
        ""
      ]
    },
    {
      "cell_type": "code",
      "metadata": {
        "colab": {
          "base_uri": "https://localhost:8080/"
        },
        "id": "Bvc0JiVI0L7e",
        "outputId": "22d0f640-75ec-488e-c208-0b3e6e3e3da1"
      },
      "source": [
        "!pip install pure\n",
        "#An example of a class\n",
        "from pure import *\n",
        "\n",
        "class Group(object):\n",
        "\n",
        "    def __init__(self, gtype   = None,\n",
        "                       mod     = None,\n",
        "                       sub     = [] ):\n",
        "\n",
        "##########################################\n",
        "#        Group Generation Methods        #\n",
        "##########################################\n",
        "\n",
        "# mult mod generator\n",
        "\n",
        "        def multmodgen(m):\n",
        "            mg = []\n",
        "            for i in range(1,m):\n",
        "                if gcd(i,m) == 1:\n",
        "                    mg.append(i)\n",
        "            return mg           \n",
        "\n",
        "        if type(gtype) == str:\n",
        "            if gtype == \"add\": \n",
        "\n",
        "##########################################\n",
        "#        Single add mod group            #\n",
        "##########################################\n",
        "\n",
        "                self.i = 0\n",
        "                self.mod = mod\n",
        "                if sub == []:\n",
        "                    self.glist = range(0,self.mod)\n",
        "                else:\n",
        "                    self.glist = sub\n",
        "\n",
        "            if gtype == \"mult\":\n",
        "\n",
        "##########################################\n",
        "#        Single mult mod group           #\n",
        "##########################################\n",
        "\n",
        "                self.i = 1\n",
        "                self.mod = mod\n",
        "                if sub == []:\n",
        "                    self.glist = multmodgen(mod)\n",
        "                else:\n",
        "                    self.glist = sub\n",
        "\n",
        "##########################################\n",
        "#        Cross product groups            #\n",
        "##########################################\n",
        "\n",
        "        elif type(gtype) == list:\n",
        "            ident = []\n",
        "            sets = []\n",
        "            index = 0\n",
        "# setting up sets for the cross product\n",
        "            for gt in gtype:\n",
        "                modi = mod[index]\n",
        "                index = index + 1\n",
        "                if gt == \"add\":\n",
        "                    s = range(0,modi)\n",
        "                    ident.append(0)\n",
        "                elif gt == \"mult\":\n",
        "                    s = multmodgen(modi)\n",
        "                    ident.append(1)\n",
        "                sets.append(s)\n",
        "            self.i = ident\n",
        "            self.sets = sets\n",
        "            self.mod = mod\n",
        "            if sub == []:\n",
        "                gx = setCrossProd(self.sets)\n",
        "                gs = []\n",
        "                for x in gx:\n",
        "                    if x not in gs:\n",
        "                        gs.append(x)\n",
        "                self.glist = gs\n",
        "            else:\n",
        "                self.glist = sub\n",
        "\n",
        "# Group order and type\n",
        "\n",
        "        self.o = len(self.glist)\n",
        "        self.gtype = gtype\n",
        "\n",
        "# Group dictionary\n",
        "\n",
        "        count = 0\n",
        "        self.gdict = {}\n",
        "        for g in self.glist:\n",
        "            self.gdict[count] = g\n",
        "            count = count + 1\n",
        "            \n",
        "##########################################\n",
        "#        Group Operator Methods          #\n",
        "##########################################\n",
        "\n",
        "    def op2(self,ga,gb,owType = None):\n",
        "        if owType == None:\n",
        "            useType = self.gtype\n",
        "        else:\n",
        "            useType = owType\n",
        "# Addition modulus\n",
        "        if useType == \"add\":\n",
        "            ans = (ga + gb) % self.mod\n",
        "# Multiplication modulus\n",
        "        elif useType == \"mult\":\n",
        "            ans = (ga*gb) % self.mod\n",
        "# Addition vector modulus\n",
        "        else:\n",
        "            ans = []\n",
        "            for i in range(0,len(ga)):\n",
        "                if self.gtype[i] == \"add\":\n",
        "                    ans.append((ga[i] + gb[i]) % self.mod[i])\n",
        "                elif self.gtype[i] == \"mult\":\n",
        "                    ans.append((ga[i]*gb[i]) % self.mod[i])\n",
        "        return ans\n",
        "\n",
        "    def op(self,ga,gb = None):\n",
        "# if two elements are to be multiplied\n",
        "        if gb is not None:\n",
        "            return self.op2(ga,gb)\n",
        "        else:\n",
        "# if a list of elements are to be multiplied\n",
        "            mult = ga[0]\n",
        "            for i in range(1,len(ga)):\n",
        "                mult = self.op2(mult,ga[i])\n",
        "            return mult\n",
        "\n",
        "##########################################\n",
        "#        Group Element Order             #\n",
        "##########################################\n",
        "\n",
        "    def gorder(self,g,g_return = False):\n",
        "# calculates the order of elem\n",
        "        g_init = g\n",
        "        if g_return:\n",
        "            gs = [g]\n",
        "        for i in range(0,self.o):\n",
        "            if g == self.i:\n",
        "                if g_return:\n",
        "                    return gs\n",
        "                else:\n",
        "                    return i + 1\n",
        "            else:\n",
        "                g = self.op2(g,g_init)\n",
        "                if g_return:\n",
        "                    gs.append(g)\n",
        "\n",
        "    def go(self,g=None):\n",
        "# recording initial element and index\n",
        "        if g == None:\n",
        "            gos = []\n",
        "            loop = self.glist\n",
        "            for g in loop:\n",
        "                gos.append(self.gorder(g))\n",
        "            return gos\n",
        "        elif type(g) == int:\n",
        "            return self.gorder(g)\n",
        "        elif type(g) == list and type(self.gtype) == str:\n",
        "            gos = []\n",
        "            loop = g\n",
        "            for g in loop:\n",
        "                gos.append(self.gorder(g))\n",
        "            return gos\n",
        "        elif type(g) == list and type(self.gtype) == list:\n",
        "            if type(g[0]) == list:\n",
        "                gos = []\n",
        "                loop = g\n",
        "                for g in loop:\n",
        "                    gos.append(self.gorder(g))\n",
        "                return gos\n",
        "            elif type(g[0]) == int:\n",
        "                return self.gorder(g)\n",
        "                \n",
        "##########################################\n",
        "#      Cycling over an element           #\n",
        "##########################################\n",
        "\n",
        "    def gcycle(self,g=None):\n",
        "# creates second interface to gorder with default of true for return elements\n",
        "        return self.gorder(g,g_return = True)\n",
        "\n",
        "##########################################\n",
        "#        Group Element Power             #\n",
        "##########################################\n",
        "\n",
        "    def pow(self,g,power,owType = None):\n",
        "# Calculating the power\n",
        "        g_init = g\n",
        "        for i in range(0,power-1):\n",
        "            if owType == None:\n",
        "                element = self.op2(g,g_init)\n",
        "            else:\n",
        "                element = self.op2(g,g_init,owType)\n",
        "        return element\n",
        "\n",
        "##########################################\n",
        "#        Group Inverse Methods           #\n",
        "##########################################\n",
        "\n",
        "    def inv(self,g):\n",
        "        if self.gtype == \"add\":\n",
        "            ginv = (self.mod - g) % self.mod\n",
        "        if self.gtype == \"mult\":\n",
        "            power = self.mod\n",
        "            ginv = self.pow(g,power)\n",
        "        if type(self.gtype) == list:\n",
        "            ginv = []\n",
        "# setting up sets for the cross product\n",
        "            for ind,gtype in enumerate(self.gtype):\n",
        "                if gtype == \"add\":\n",
        "                    ginv.append((self.mod[ind] - g[ind]) % self.mod[ind])\n",
        "                elif gtype == \"mult\":\n",
        "                    power = len(self.sets[ind]) - 1\n",
        "                    storemod = self.mod\n",
        "                    self.mod = self.mod[ind]\n",
        "                    ginvc = self.pow(g[ind],power,\"mult\")\n",
        "                    self.mod = storemod\n",
        "                    ginv.append(ginvc)\n",
        "        return ginv    \n",
        "\n",
        "##########################################\n",
        "#        Group Elements                  #\n",
        "##########################################\n",
        "\n",
        "    def g(self,ind=None):\n",
        "        if ind==None:\n",
        "            return self.glist \n",
        "        elif type(ind) is list:\n",
        "            gs = set()\n",
        "            for ind in index:\n",
        "                gs.append(self.gdict[ind])\n",
        "            return gs\n",
        "        elif type(ind) is int:\n",
        "            return self.gdict[ind]\n",
        "        elif type(ind) == str:\n",
        "            print(\"Group Type: \",self.gtype)\n",
        "            print(\"Group Def: \",self.mod)\n",
        "            for i in self.gdict:\n",
        "                print(\"Element \",i,\" has value \", self.gdict[i])\n",
        "            print(\"Group identity: \",self.i)\n",
        "            print(\"Group order: \",self.o)\n",
        "\n",
        "            print(\"\")\n",
        "        \n",
        "##########################################\n",
        "#        Sub Group                       #\n",
        "##########################################\n",
        "\n",
        "    def unique_list(self,glist):\n",
        "        gs = []\n",
        "        for x in glist:\n",
        "            g = self.op(x)\n",
        "            if g not in gs:\n",
        "                gs.append(g)\n",
        "        return gs \n",
        "\n",
        "    def sub(self,g):\n",
        "        if type(g) == int:\n",
        "            gs = self.gcycle(g)\n",
        "        elif type(g) == list and type(self.gtype) == str:\n",
        "            sets = []\n",
        "            loop = g\n",
        "            for g in loop:\n",
        "                sets.append(self.gcycle(g))\n",
        "            gx = setCrossProd(sets)\n",
        "            gs = self.unique_list(gx)\n",
        "        elif type(g) == list and type(self.gtype) == list:\n",
        "            if type(g[0]) == int:\n",
        "                gs = self.gcycle(g)\n",
        "            elif type(g[0]) == list:\n",
        "                sets = []\n",
        "                loop = g\n",
        "                for g in loop:\n",
        "                    sets.append(self.gcycle(g))\n",
        "                gx = setCrossProd(sets)\n",
        "                gs = self.unique_list(gx)\n",
        "        return Group(self.gtype,self.mod,gs)"
      ],
      "execution_count": null,
      "outputs": [
        {
          "output_type": "stream",
          "name": "stdout",
          "text": [
            "Collecting pure\n",
            "  Downloading pure-2.0.0-py3-none-any.whl (5.9 kB)\n",
            "Installing collected packages: pure\n",
            "Successfully installed pure-2.0.0\n"
          ]
        }
      ]
    },
    {
      "cell_type": "code",
      "metadata": {
        "colab": {
          "base_uri": "https://localhost:8080/",
          "height": 254
        },
        "id": "KKdDHfKdtRpI",
        "outputId": "0f54dc17-80a7-4991-9af9-3f9ed6674162"
      },
      "source": [
        "# Import the class Group from the file groups.py\n",
        "\n",
        "from groups import Group\n",
        "\n",
        "# Create an instance of the group (10,+)\n",
        "\n",
        "print(\"Creating a group (10,+)\")\n",
        "G = Group(\"add\",10)\n",
        "\n",
        "# print the group components\n",
        "\n",
        "G.g(\"show\")\n",
        "print(\"Inverse of element 3 = \",G.inv(3))\n",
        "print(\"Multiplication of 7 and 6 = \",G.op(7,6))\n",
        "print(\"7 to the power 3 = \",G.pow(7,3))\n",
        "\n",
        "Gg = G.g()\n",
        "Ggo = G.go()\n",
        "GgoDict = dict(zip(Gg, Ggo))\n",
        "for g in GgoDict:\n",
        "    print(\"Element: \",g,\" has order: \",GgoDict[g])\n",
        "\n",
        "# Create an instance of the group (15,x)\n",
        "\n",
        "print(\"\\nCreating a group (15,x)\")\n",
        "H = Group(\"mult\",15)\n",
        "\n",
        "# print the group components\n",
        "\n",
        "Hh = H.g(\"show\")\n",
        "print(\"Inverse of element 2 = \",H.inv(2))\n",
        "print(\"Multiplication of 2 and 10 = \",H.op(2,10))\n",
        "print(\"2 to the power 10 = \",H.pow(2,10))\n",
        "print(\"Group orders:\")\n",
        "\n",
        "Hh = H.g()\n",
        "Hho = H.go()\n",
        "HhoDict = dict(zip(Hh, Hho))\n",
        "for h in HhoDict:\n",
        "    print(\"Element: \",h,\" has order: \",HhoDict[h])"
      ],
      "execution_count": null,
      "outputs": [
        {
          "output_type": "stream",
          "name": "stdout",
          "text": [
            "Creating a group (10,+)\n"
          ]
        },
        {
          "output_type": "error",
          "ename": "AttributeError",
          "evalue": "ignored",
          "traceback": [
            "\u001b[0;31m---------------------------------------------------------------------------\u001b[0m",
            "\u001b[0;31mAttributeError\u001b[0m                            Traceback (most recent call last)",
            "\u001b[0;32m<ipython-input-49-c4867141269b>\u001b[0m in \u001b[0;36m<module>\u001b[0;34m()\u001b[0m\n\u001b[1;32m     10\u001b[0m \u001b[0;31m# print the group components\u001b[0m\u001b[0;34m\u001b[0m\u001b[0;34m\u001b[0m\u001b[0;34m\u001b[0m\u001b[0m\n\u001b[1;32m     11\u001b[0m \u001b[0;34m\u001b[0m\u001b[0m\n\u001b[0;32m---> 12\u001b[0;31m \u001b[0mG\u001b[0m\u001b[0;34m.\u001b[0m\u001b[0mg\u001b[0m\u001b[0;34m(\u001b[0m\u001b[0;34m\"show\"\u001b[0m\u001b[0;34m)\u001b[0m\u001b[0;34m\u001b[0m\u001b[0;34m\u001b[0m\u001b[0m\n\u001b[0m\u001b[1;32m     13\u001b[0m \u001b[0mprint\u001b[0m\u001b[0;34m(\u001b[0m\u001b[0;34m\"Inverse of element 3 = \"\u001b[0m\u001b[0;34m,\u001b[0m\u001b[0mG\u001b[0m\u001b[0;34m.\u001b[0m\u001b[0minv\u001b[0m\u001b[0;34m(\u001b[0m\u001b[0;36m3\u001b[0m\u001b[0;34m)\u001b[0m\u001b[0;34m)\u001b[0m\u001b[0;34m\u001b[0m\u001b[0;34m\u001b[0m\u001b[0m\n\u001b[1;32m     14\u001b[0m \u001b[0mprint\u001b[0m\u001b[0;34m(\u001b[0m\u001b[0;34m\"Multiplication of 7 and 6 = \"\u001b[0m\u001b[0;34m,\u001b[0m\u001b[0mG\u001b[0m\u001b[0;34m.\u001b[0m\u001b[0mop\u001b[0m\u001b[0;34m(\u001b[0m\u001b[0;36m7\u001b[0m\u001b[0;34m,\u001b[0m\u001b[0;36m6\u001b[0m\u001b[0;34m)\u001b[0m\u001b[0;34m)\u001b[0m\u001b[0;34m\u001b[0m\u001b[0;34m\u001b[0m\u001b[0m\n",
            "\u001b[0;31mAttributeError\u001b[0m: 'Group' object has no attribute 'g'"
          ]
        }
      ]
    },
    {
      "cell_type": "markdown",
      "metadata": {
        "id": "q_koyG7Tdu9B"
      },
      "source": [
        "#1.3 Calculo Variacional\n",
        "\n",
        "O sympy também possui bibliotecas para o calculo variacional esta associado com máximos e mínimos de funções. Esta propriedade é importente para formalizar alguns princípios na natureza como um _Princípio de Conservação_.\n",
        "\n",
        "O princípais módulo é o Calculos\n",
        "\n",
        "E suas funções são:\n",
        "\n",
        "* ``` euler_equations ```: para encontrar a [Equação de Euler-Lagrange](https://pt.wikipedia.org/wiki/Equa%C3%A7%C3%A3o_de_Euler-Lagrange).\n",
        "\n",
        "\n"
      ]
    },
    {
      "cell_type": "code",
      "metadata": {
        "colab": {
          "base_uri": "https://localhost:8080/",
          "height": 58
        },
        "id": "-gAoSyjnR-Zk",
        "outputId": "5f60d1e2-4217-4081-e03f-8eb60d2db6c4"
      },
      "source": [
        "from sympy import Symbol, Function\n",
        "from sympy.calculus.euler import euler_equations\n",
        "\n",
        "x = Function('x')\n",
        "\n",
        "t = Symbol('t')\n",
        "\n",
        "L = (x(t).diff(t))**2/2 - x(t)**2/2\n",
        "\n",
        "euler_equations(L, x(t), t)\n",
        "[Eq(-x(t) - Derivative(x(t), (t, 2)), 0)]\n",
        "\n",
        "u = Function('u')\n",
        "\n",
        "x = Symbol('x')\n",
        "\n",
        "L = (u(t, x).diff(t))**2/2 - (u(t, x).diff(x))**2/2\n",
        "\n",
        "euler_equations(L, u(t, x), [t, x])\n",
        "[Eq(-Derivative(u(t, x), (t, 2)) + Derivative(u(t, x), (x, 2)), 0)]\n"
      ],
      "execution_count": null,
      "outputs": [
        {
          "output_type": "execute_result",
          "data": {
            "image/png": "[encoded data removed]",
            "text/latex": "$\\displaystyle \\left[ - \\frac{\\partial^{2}}{\\partial t^{2}} u{\\left(t,x \\right)} + \\frac{\\partial^{2}}{\\partial x^{2}} u{\\left(t,x \\right)} = 0\\right]$",
            "text/plain": [
              "⎡    2              2             ⎤\n",
              "⎢   ∂              ∂              ⎥\n",
              "⎢- ───(u(t, x)) + ───(u(t, x)) = 0⎥\n",
              "⎢    2              2             ⎥\n",
              "⎣  ∂t             ∂x              ⎦"
            ]
          },
          "metadata": {},
          "execution_count": 32
        }
      ]
    },
    {
      "cell_type": "markdown",
      "metadata": {
        "id": "UBAq6U39arGm"
      },
      "source": [
        "#1.5 Variaveis Complexas\n",
        "\n",
        "O calculo das variáveis complexas possuem um importantíssimo papel para a física e é a porta de entrada no estudo formal da Física-Matematica. \n",
        "\n",
        "Matecaticamente, o domínio dos complexos $\\mathbb{C}$ representam números com raízes negativas e dificilmente possuem interpretação física na natureza. \n",
        "\n",
        "Entretanto, ao escrever a segunda lei de Newton para um oscilador harmônico amortecido encontraremos uma Equação Diferencial de 2ª ordem cuja esta no domínio dos complexos. Desta a forma, o domínio desse conjunto numérico acaba por ser essencial para a compreensão dos fênomenos físicos. Supreendentemente, a solução para esse oscilador é a soma de um número real e um número imaginário e apenas a parte real descreve o fênomeno físico sendo a parte imaginária \"despresada\" para a descrição final do fenômeno. \n",
        "\n",
        "<img src=\"https://i.ytimg.com/vi/8Tr98hfjpZA/maxresdefault.jpg\" width = 400>\n",
        "\n",
        "<img src = \"https://image.slidesharecdn.com/oscilacoesamortforc-141114101607-conversion-gate01/95/oscilaes-amortecidas-e-foradas-5-638.jpg?cb=1415960220\" width = 400>"
      ]
    },
    {
      "cell_type": "markdown",
      "metadata": {
        "id": "WOOGSeqNe-Ez"
      },
      "source": [
        "## Módulos \n",
        "\n",
        "O sympy ja vem com módulos internos que trabalham com números complexos desde a sua versão 2.6 porem precisam da biblioteca [mpmath](https://mpmath.org/) instalada. Entretanto os módulo ``` DiracDelta``` e ```Integrals ``` são capazes de avaliar variáveis complexas como a integral de Cauchy \n",
        "\n",
        "$${\\displaystyle f(z_{0})={\\frac {1}{2\\pi i}}\\oint \\limits _{C}{f(z) \\over z-z_{0}}\\,dz} \n",
        "$$\n"
      ]
    },
    {
      "cell_type": "code",
      "metadata": {
        "colab": {
          "base_uri": "https://localhost:8080/",
          "height": 37
        },
        "id": "BBSnt6iugygU",
        "outputId": "23e38c76-7d01-453f-976e-47d44ceaab45"
      },
      "source": [
        "from sympy import oo\n",
        "\n",
        "from sympy.integrals.integrals import Integral\n",
        "\n",
        "from sympy.abc import x\n",
        "\n",
        "Integral(x+1, (x, -oo, oo)).principal_value()\n",
        "oo\n",
        "\n",
        "f = 1 / (x**3)\n",
        "\n",
        "Integral(f, (x, -oo, oo)).principal_value()\n",
        "0\n",
        "\n",
        "Integral(f, (x, -10, 10)).principal_value()\n",
        "0\n",
        "\n",
        "Integral(f, (x, -10, oo)).principal_value() + Integral(f, (x, -oo, 10)).principal_value()\n",
        "0\n"
      ],
      "execution_count": null,
      "outputs": [
        {
          "output_type": "execute_result",
          "data": {
            "image/png": "[encoded data removed]",
            "text/latex": "$\\displaystyle 0$",
            "text/plain": [
              "0"
            ]
          },
          "metadata": {},
          "execution_count": 36
        }
      ]
    },
    {
      "cell_type": "markdown",
      "metadata": {
        "id": "S2bIoOXKkztW"
      },
      "source": [
        "# 1.6 Lev Landau\n",
        "\n",
        "<img src=\"https://media.sciencephoto.com/image/h4120454/800wm\" width=300>\n",
        "\n",
        "Lev Davidovich Landau foi um físico e matematico da extinta União das Republicas Socialistas Soviéticas, mas especificamente do Azerbaijão que contribuiu significativamente para a física teórica tanto na mecânica quantica quanto na relatividade geral. \n",
        "\n",
        "Suas principais contribuições são:\n",
        "* A co-descoberta independente do método da matriz densidade na mecânica quântica (ao lado de John von Neumann); \n",
        "* A teoria da mecânica quântica do diamagnetismo;\n",
        "* A teoria da superfluidez;\n",
        "* A teoria das transições de fase de segunda ordem;\n",
        "* A teoria da supercondutividade de Ginzbur-Landau;\n",
        "* A teoria do líquido de Fermi;\n",
        "* A explicação do amortecimento de Landau na física de plasma;\n",
        "* O polo de Landau na eletrodinâmica quântica,;\n",
        "* A teoria de duas componentes dos neutrinos e as equações de Landau para as singularidades da matriz S.: \n",
        "\n",
        "Laudau também recebeu o [Nobel de Física de 1962](https://www.nobelprize.org/prizes/physics/1962/summary/) _\"for his pioneering theories for condensed matter, especially liquid helium.\"_ \n",
        "\n",
        "\n",
        "Ref.: \n",
        "\n",
        "1 - https://pt.wikipedia.org/wiki/Lev_Landau\n",
        "\n",
        "2 - https://www.nobelprize.org/prizes/physics/1962/summary/"
      ]
    },
    {
      "cell_type": "code",
      "metadata": {
        "id": "z_jwIxd4gG1e"
      },
      "source": [
        ""
      ],
      "execution_count": null,
      "outputs": []
    }
  ]
}
