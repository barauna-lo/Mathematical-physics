{
  "nbformat": 4,
  "nbformat_minor": 0,
  "metadata": {
    "colab": {
      "name": "CAP422_FISMAT_Final_Project.ipynb",
      "provenance": [],
      "authorship_tag": "ABX9TyOYUoC2OfUgHiTeug/9P8vp",
      "include_colab_link": true
    },
    "kernelspec": {
      "name": "python3",
      "display_name": "Python 3"
    },
    "language_info": {
      "name": "python"
    }
  },
  "cells": [
    {
      "cell_type": "markdown",
      "metadata": {
        "id": "view-in-github",
        "colab_type": "text"
      },
      "source": [
        "<a href=\"https://colab.research.google.com/github/barauna-lo/Mathematical-physics/blob/main/CAP422_FISMAT_Final_Project.ipynb\" target=\"_parent\"><img src=\"https://colab.research.google.com/assets/colab-badge.svg\" alt=\"Open In Colab\"/></a>"
      ]
    },
    {
      "cell_type": "markdown",
      "source": [
        "<img src=https://raw.githubusercontent.com/barauna-lo/CAP4213-Deep-Learning/main/logoinpe.png>\n",
        "\n",
        "\n",
        "# CAP-422: Física Estatística Comptacional\n",
        "\n",
        "* Luan Orion Baraúna \n",
        "\n"
      ],
      "metadata": {
        "id": "1h-oU1I_SzlX"
      }
    },
    {
      "cell_type": "markdown",
      "source": [
        ""
      ],
      "metadata": {
        "id": "zDCLF_DxOM-Q"
      }
    },
    {
      "cell_type": "markdown",
      "source": [
        "\n",
        "# FUNÇÃO\tZETA\tE\tA\tHIPÓTESE\tDE\tRIEMANN\n",
        "\n",
        "\n",
        "HANDS-­‐ON DO TRABALHO\n",
        "\n",
        "Use o `SymPy` e `mpmath` para verificação computacional de algumas\n",
        "propriedades da função zeta. as quantidades acima. O `mpmath` é uma biblioteca Python pura para números de precisão arbitrária. Ele é usado pelo `SymPy` nos bastidores, mas será mais fácil usá‐lo explicitamente nesse hands-­‐on. O trabalho consiste em montar um notebook, processar os módulos a seguir e obter os resultados esperados."
      ],
      "metadata": {
        "id": "0zleGR6jOSfZ"
      }
    },
    {
      "cell_type": "markdown",
      "source": [
        "## Módulo\t1:\n",
        "Importações\n"
      ],
      "metadata": {
        "id": "FFCbaxLgllAW"
      }
    },
    {
      "cell_type": "code",
      "execution_count": 27,
      "metadata": {
        "id": "PMKhU1_tSygN"
      },
      "outputs": [],
      "source": [
        "from sympy import *\n",
        "import mpmath \n",
        "import numpy as np\n",
        "import matplotlib.pyplot as plt\n",
        "s = symbols('s')"
      ]
    },
    {
      "cell_type": "markdown",
      "source": [
        "##Módulo 2:\n",
        "\n",
        "Defina a função zeta"
      ],
      "metadata": {
        "id": "rLLoWdeNls3B"
      }
    },
    {
      "cell_type": "code",
      "source": [
        "Z = pi**(-s/2)*gamma(s/2)*zeta(s)\n",
        "Z"
      ],
      "metadata": {
        "id": "dV3apGzhbKqa"
      },
      "execution_count": 8,
      "outputs": []
    },
    {
      "cell_type": "markdown",
      "source": [
        "## Módulo 3: \n",
        "\n",
        "Verifque  que  a  parte  imaginária  é  irrelevante  diante  da  parte   real para $s=1/2 + jt$ (ex. $=1/2$)"
      ],
      "metadata": {
        "id": "8UKyRoQllxAS"
      }
    },
    {
      "cell_type": "code",
      "source": [
        "Z.subs(s, 1/2 + 0.5j).evalf()"
      ],
      "metadata": {
        "colab": {
          "base_uri": "https://localhost:8080/",
          "height": 39
        },
        "id": "2QPqh2TxbVjx",
        "outputId": "49ff913a-2140-49f8-a864-e85e3800b478"
      },
      "execution_count": 10,
      "outputs": [
        {
          "output_type": "execute_result",
          "data": {
            "text/plain": [
              "-1.97702795164031 + 5.49690501450151e-17*I"
            ],
            "text/latex": "$\\displaystyle -1.97702795164031 + 5.49690501450151 \\cdot 10^{-17} i$"
          },
          "metadata": {},
          "execution_count": 10
        }
      ]
    },
    {
      "cell_type": "markdown",
      "source": [
        "## Módulo\t4:\t\t\n",
        "Defina\ta\tderivada\tlogaritmo\t$(D)$ de $Z$\tcomo\t\n",
        "\n",
        "$$ \n",
        "\\frac{\\text{polygamma}(0,\\frac{s}{2})}{2} - \\frac{\\log(\\pi)}{2} + \\frac{\\zeta'(s)}{\\zeta(s)} \n",
        "$$\n",
        "\n",
        "onde a função $\\text{polygamma}$ é a derivada da função gamma."
      ],
      "metadata": {
        "id": "xe-i1giNmQTb"
      }
    },
    {
      "cell_type": "code",
      "source": [
        "D = simplify(Z.diff(s)/Z)\n",
        "D"
      ],
      "metadata": {
        "colab": {
          "base_uri": "https://localhost:8080/",
          "height": 60
        },
        "id": "IznYxr2Dbggw",
        "outputId": "3e2860ff-4943-4898-de32-8134914de4b1"
      },
      "execution_count": 11,
      "outputs": [
        {
          "output_type": "execute_result",
          "data": {
            "text/plain": [
              "polygamma(0, s/2)/2 - log(pi)/2 + Derivative(zeta(s), s)/zeta(s)"
            ],
            "text/latex": "$\\displaystyle \\frac{\\operatorname{polygamma}{\\left(0,\\frac{s}{2} \\right)}}{2} - \\frac{\\log{\\left(\\pi \\right)}}{2} + \\frac{\\frac{d}{d s} \\zeta\\left(s\\right)}{\\zeta\\left(s\\right)}$"
          },
          "metadata": {},
          "execution_count": 11
        }
      ]
    },
    {
      "cell_type": "markdown",
      "source": [
        "## Módulo  5:  \n",
        "\n",
        "Use `lambdify`  para  converter  as  expressões  `SymPy`  para  $Z$  e  $D$  em   funções que são avaliadas usando `mpmath`. Uma dificuldade técnica aqui é que a   derivada  da  função  zeta $\\zeta(s)$  não  tem  uma  expressão  de  forma  fechada.  \n",
        "\n",
        "O  $\\zeta(s)$  do `mpmath` não  funciona  com `sympy.lambdify`  (veja  o  [issue 11802  do  SymPy](https://www.asmeurer.com/blog/posts/verifying-the-riemann-hypothesis-with-sympy-and-mpmath/). \n",
        "\n",
        "Portanto,  temos  que  definir  manualmente  \"Derivative\"  em  `lambdify`,  sabendo   que  será  a  derivada  de $\\zeta(s)$  quando  for  chamada.  \n",
        "\n",
        "Esteja  ciente  de  que  isso  é   correto  apenas  para  esta  expressão  específica  onde  sabemos  que Derivative é para (zeta(s), s)."
      ],
      "metadata": {
        "id": "xX-kUuYqnhJb"
      }
    },
    {
      "cell_type": "code",
      "source": [
        "Z_func = lambdify(s,Z,'mpmath')\n",
        "D_func = lambdify(s,D, modules =['mpmath',\n",
        "  {'Derivative':lambda expr,z :mpmath.zeta(z,derivative=1)}])"
      ],
      "metadata": {
        "id": "h4siyIjTbxGb"
      },
      "execution_count": 12,
      "outputs": []
    },
    {
      "cell_type": "markdown",
      "source": [
        "## Módulo\t6:\t\t\n",
        "Usando\t`mpmath.quad`\tpara\tcontorno\te\to\tparâmetro\tmaxdegree\tpara\taumentar\to\tgrau\tde\tquadratura\tno\tespaço\tcomplexo."
      ],
      "metadata": {
        "id": "4CWSAgKgpDdM"
      }
    },
    {
      "cell_type": "code",
      "source": [
        "def argument_count(func, N, maxdegree = 6):\n",
        "  return 1/(2*mpmath.pi*1j)*(mpmath.quad(func,\n",
        "\n",
        "         [1+0.1j,  1 + N*1j  , 0+ N*1j, 0 + 0.1j, 1+ 0.1j], maxdegree=maxdegree))"
      ],
      "metadata": {
        "id": "3UbPjfD1c__X"
      },
      "execution_count": 19,
      "outputs": []
    },
    {
      "cell_type": "markdown",
      "source": [
        "## Módulo\t7: \t\t\n",
        "Testando\ta\tcontagem\tde\tzeros\tpara\t$s^2 – s\t+1/2$ (com\tquadratura\t$N=10$\t\t\n",
        "\n",
        "Ex.\tAbaixo\t(isso\tnão\taparece\texplicitamente\tno\tseu\tsympy).\n",
        "\n",
        "<img src = https://www.asmeurer.com/blog/contour-c.svg>"
      ],
      "metadata": {
        "id": "lQJiGLBEpPdv"
      }
    },
    {
      "cell_type": "code",
      "source": [
        "expr  = s**2 - s + S(1)/2\n",
        "argument_count(lambdify(s, expr.diff(s)/expr),10)\n"
      ],
      "metadata": {
        "colab": {
          "base_uri": "https://localhost:8080/"
        },
        "id": "DEqP4DqAdhP5",
        "outputId": "d33c7111-01f1-4824-8780-12514fed1b5c"
      },
      "execution_count": 21,
      "outputs": [
        {
          "output_type": "execute_result",
          "data": {
            "text/plain": [
              "mpc(real='1.0', imag='3.4287545414000525e-24')"
            ]
          },
          "metadata": {},
          "execution_count": 21
        }
      ]
    },
    {
      "cell_type": "markdown",
      "source": [
        "## Módulo\t8: \n",
        "A\tintegral\tacima\té\t1.\tConfirme\tque\thá\tapenas\tum\tzero\tna\tquadratura"
      ],
      "metadata": {
        "id": "3Sld2sqtv6Gs"
      }
    },
    {
      "cell_type": "code",
      "source": [
        "solve(s**2 -s + S(1)/2)"
      ],
      "metadata": {
        "colab": {
          "base_uri": "https://localhost:8080/"
        },
        "id": "bk3GsjNRd0Bp",
        "outputId": "ef27ff08-2a3a-4eb7-b660-5f5043f69de4"
      },
      "execution_count": 22,
      "outputs": [
        {
          "output_type": "execute_result",
          "data": {
            "text/plain": [
              "[1/2 - I/2, 1/2 + I/2]"
            ]
          },
          "metadata": {},
          "execution_count": 22
        }
      ]
    },
    {
      "cell_type": "markdown",
      "source": [
        "## Módulo 9: \n",
        "\n",
        "Agora calcule os pontos de $Z$ ao longo da linha crítica para que possamos contar as   mudanças  de  sinal.  Também  fazemos  provisões  caso  tenhamos  que  aumentar  a  precisão  de   `mpmath` para  obter  resultados  corretos  aqui.  `dps` é  o  número  de  dígitos  de  precisão  para  os   quais os valores são calculados. \n",
        "O padrão é 15, mas `mpmath` pode calcular valores para qualquer   número  de  dígitos.  `mpmath.chop` zera  valores  próximos  a  0,  o  que  remove  quaisquer  partes   imaginárias numericamente insignificantes que surgem da avaliação de ponto flutuante.  "
      ],
      "metadata": {
        "id": "BmnZyvaRwB9I"
      }
    },
    {
      "cell_type": "code",
      "source": [
        "def compute_points(Z_func, N, npoints = 10000, dps = 15):\n",
        "  import warnings\n",
        "  old_dps = mpmath.mp.dps\n",
        "  points = np.linspace(0,N,npoints)\n",
        "  try:\n",
        "    mpmath.mp.dps = dps\n",
        "    L = [mpmath.chop(Z_func(i)) for i in 1/2 + points*1j]\n",
        "  finally:\n",
        "    mpmath.mp.dps = old_dps\n",
        "  if L[-1] == 0:\n",
        "    warnings.warn(\"You may need to increase the precision\")\n",
        "  return L"
      ],
      "metadata": {
        "id": "tci1R5XNeobZ"
      },
      "execution_count": 23,
      "outputs": []
    },
    {
      "cell_type": "markdown",
      "source": [
        "## Módulo  10: \n",
        "\n",
        "Defina uma função para contar o número de mudanças de sinal em uma lista de   valores reais."
      ],
      "metadata": {
        "id": "SFkX8ZXSwale"
      }
    },
    {
      "cell_type": "code",
      "source": [
        "def sign_changes(L):\n",
        "  \"\"\"\n",
        "  Cont the number of sing changes in L\n",
        "\n",
        "  Values of L shoud all be real\n",
        "  \"\"\"\n",
        "  changes = 0\n",
        "  assert im(L[0]) == 0, L[0]\n",
        "  s = sign(L[0])\n",
        "  for i in L[1:]:\n",
        "    assert im(i) == 0, i\n",
        "    s_ = sign(i)\n",
        "    if s_ == 0:\n",
        "      #Assum these got chupped to 0 \n",
        "      continue\n",
        "    if s_ != s:\n",
        "      changes += 1\n",
        "    s = s_\n",
        "  return changes"
      ],
      "metadata": {
        "id": "3k8EAwxefqLf"
      },
      "execution_count": 25,
      "outputs": []
    },
    {
      "cell_type": "markdown",
      "source": [
        "## Módulo  11:  \n",
        "Verifique,  por exemplo,  que  para  $\\sin(s)$  de $- 10$ a  $10$ existem  7 zeros  (considere   $3\\pi \\sim 9.42$)  (teste para outra função)  "
      ],
      "metadata": {
        "id": "k_YvEV-Ewi_h"
      }
    },
    {
      "cell_type": "code",
      "source": [
        "sign_changes(lambdify(s,sin(s))(np.linspace(-10,10)))"
      ],
      "metadata": {
        "colab": {
          "base_uri": "https://localhost:8080/"
        },
        "id": "diTjrOryjboK",
        "outputId": "829561e1-af33-43e6-820e-eafc2026a00c"
      },
      "execution_count": 28,
      "outputs": [
        {
          "output_type": "execute_result",
          "data": {
            "text/plain": [
              "7"
            ]
          },
          "metadata": {},
          "execution_count": 28
        }
      ]
    },
    {
      "cell_type": "markdown",
      "source": [
        "Módulo  12 : Checando números de alternância de sinais  de Z9s) de $\\frac{1}{2} +j_0$ a $\\frac{1}{2} +j_{20}$. Verifique  que há apenas um zero entre 0 e $20i$  na faixa crítica e, de fato, na linha crítica,"
      ],
      "metadata": {
        "id": "6QWqBIc3xEeE"
      }
    },
    {
      "cell_type": "code",
      "source": [
        "argument_count(D_func,20)"
      ],
      "metadata": {
        "colab": {
          "base_uri": "https://localhost:8080/"
        },
        "id": "0iSE-tdLlCRJ",
        "outputId": "1b952413-2c7e-44cd-b750-c0d26b99df76"
      },
      "execution_count": 29,
      "outputs": [
        {
          "output_type": "execute_result",
          "data": {
            "text/plain": [
              "mpc(real='0.99999931531867581', imag='-3.2332902529067346e-24')"
            ]
          },
          "metadata": {},
          "execution_count": 29
        }
      ]
    },
    {
      "cell_type": "code",
      "source": [
        "L = compute_points(Z_func,20)\n",
        "sign_changes(L)"
      ],
      "metadata": {
        "colab": {
          "base_uri": "https://localhost:8080/"
        },
        "id": "gfNRqOGllL6Z",
        "outputId": "5e0ca40b-77b4-4abf-bc3e-ed04cd947ed7"
      },
      "execution_count": 30,
      "outputs": [
        {
          "output_type": "execute_result",
          "data": {
            "text/plain": [
              "1"
            ]
          },
          "metadata": {},
          "execution_count": 30
        }
      ]
    },
    {
      "cell_type": "markdown",
      "source": [
        "## Módulo 13:\n",
        "Encontrando outros Zeros"
      ],
      "metadata": {
        "id": "p23qoQfXlhUF"
      }
    },
    {
      "cell_type": "code",
      "source": [
        "argument_count(D_func,25)"
      ],
      "metadata": {
        "colab": {
          "base_uri": "https://localhost:8080/"
        },
        "id": "9xcOwTytlWzf",
        "outputId": "d226c2e3-382e-48ac-a53f-6db3adbd74dc"
      },
      "execution_count": 32,
      "outputs": [
        {
          "output_type": "execute_result",
          "data": {
            "text/plain": [
              "mpc(real='1.9961479945577916', imag='-3.2332902529067346e-24')"
            ]
          },
          "metadata": {},
          "execution_count": 32
        }
      ]
    },
    {
      "cell_type": "code",
      "source": [
        "L = compute_points(Z_func, 25)\n",
        "sign_changes(L)"
      ],
      "metadata": {
        "colab": {
          "base_uri": "https://localhost:8080/"
        },
        "id": "LcTZVsvllgB5",
        "outputId": "617ca5ce-42d1-4f86-f6d9-0d6a0870ecf2"
      },
      "execution_count": 34,
      "outputs": [
        {
          "output_type": "execute_result",
          "data": {
            "text/plain": [
              "2"
            ]
          },
          "metadata": {},
          "execution_count": 34
        }
      ]
    },
    {
      "cell_type": "code",
      "source": [
        "L = compute_points(Z_func, 30)\n",
        "sign_changes(L)"
      ],
      "metadata": {
        "colab": {
          "base_uri": "https://localhost:8080/"
        },
        "id": "KujO_QXby8EK",
        "outputId": "f1331c25-d61c-4079-8904-85602fbd5046"
      },
      "execution_count": 35,
      "outputs": [
        {
          "output_type": "execute_result",
          "data": {
            "text/plain": [
              "3"
            ]
          },
          "metadata": {},
          "execution_count": 35
        }
      ]
    },
    {
      "cell_type": "markdown",
      "source": [
        "Módulo  14: \n",
        "\n",
        "Verifique que computando os pontos, podemos seguir em frente e fazer um gráfico $\\text{Re}(s) \\times \\Gamma (s) p/ \\zeta (s)=0$. No entanto, há uma dificuldade técnica.   Se  você  tentar  traçar  $Z(1/2+j1/2)$,  você  descobrirá  que  a  função decai   rapidamente, tão rápido que você não pode realmente dizer onde ele cruza 0:"
      ],
      "metadata": {
        "id": "8w8P2LxPzPWx"
      }
    },
    {
      "cell_type": "code",
      "source": [
        "def plot_points_bad(L,N):\n",
        "  npoints = len(L)\n",
        "  points = np.linspace(0,N,npoints)\n",
        "  plt.figure()\n",
        "  plt.plot(points,L)\n",
        "  plt.plot(points, [0]*npoints, linestyle=':')\n",
        "\n",
        "plot_points_bad(L, 30)"
      ],
      "metadata": {
        "colab": {
          "base_uri": "https://localhost:8080/",
          "height": 265
        },
        "id": "PpShq8xXzKtv",
        "outputId": "09ff3cca-2062-48c6-a9da-aeb21d1bcae5"
      },
      "execution_count": 39,
      "outputs": [
        {
          "output_type": "display_data",
          "data": {
            "text/plain": [
              "<Figure size 432x288 with 1 Axes>"
            ],
            "image/png": "[encoded data removed]"
          },
          "metadata": {
            "needs_background": "light"
          }
        }
      ]
    },
    {
      "cell_type": "markdown",
      "source": [
        "## Módulo 15:\n",
        "Plote então $\\log (|Z(1/2+j1/2)|)$ (o log fará os zeros convergirem para  $-\\infty$  permitindo as visualização  dos zeros:"
      ],
      "metadata": {
        "id": "k5YEDAB40JgG"
      }
    },
    {
      "cell_type": "code",
      "source": [
        "def plot_points(L, N):\n",
        "    npoints = len(L)\n",
        "    points = np.linspace(0, N, npoints)\n",
        "    p = [mpmath.log(abs(i)) for i in L]\n",
        "    plt.figure()\n",
        "    plt.plot(points, p)\n",
        "    plt.plot(points, [0]*npoints, linestyle=':')\n",
        "plot_points(L, 30)"
      ],
      "metadata": {
        "colab": {
          "base_uri": "https://localhost:8080/",
          "height": 265
        },
        "id": "aRb1o4521EHJ",
        "outputId": "611278c6-91aa-42ee-c901-3d7260c020db"
      },
      "execution_count": 40,
      "outputs": [
        {
          "output_type": "display_data",
          "data": {
            "text/plain": [
              "<Figure size 432x288 with 1 Axes>"
            ],
            "image/png": "[encoded data removed]"
          },
          "metadata": {
            "needs_background": "light"
          }
        }
      ]
    },
    {
      "cell_type": "markdown",
      "source": [
        "## Módulo 16:\n",
        "Vizualizando com 100 zeros"
      ],
      "metadata": {
        "id": "3IOnjdWYzOoK"
      }
    },
    {
      "cell_type": "code",
      "source": [
        "argument_count(D_func, 100)"
      ],
      "metadata": {
        "colab": {
          "base_uri": "https://localhost:8080/"
        },
        "id": "vu4eJGTO1pYn",
        "outputId": "93727040-5353-46c0-e044-3e269748c228"
      },
      "execution_count": 41,
      "outputs": [
        {
          "output_type": "execute_result",
          "data": {
            "text/plain": [
              "mpc(real='28.248036536895913', imag='-3.2332902529067346e-24')"
            ]
          },
          "metadata": {},
          "execution_count": 41
        }
      ]
    },
    {
      "cell_type": "code",
      "source": [
        "argument_count(D_func, 100, maxdegree=9)"
      ],
      "metadata": {
        "colab": {
          "base_uri": "https://localhost:8080/"
        },
        "id": "na_yOg0y1ueP",
        "outputId": "ad52650e-4666-474a-8fc4-1a7bbf155fdc"
      },
      "execution_count": 42,
      "outputs": [
        {
          "output_type": "execute_result",
          "data": {
            "text/plain": [
              "mpc(real='29.000000005970151', imag='-3.2332902529067346e-24')"
            ]
          },
          "metadata": {},
          "execution_count": 42
        }
      ]
    },
    {
      "cell_type": "code",
      "source": [
        "L = compute_points(Z_func, 100)"
      ],
      "metadata": {
        "colab": {
          "base_uri": "https://localhost:8080/"
        },
        "id": "SSQXNKFw1yY3",
        "outputId": "99ab71f5-8ac7-45e0-f7a2-9a9e447c0f3e"
      },
      "execution_count": 43,
      "outputs": [
        {
          "output_type": "stream",
          "name": "stderr",
          "text": [
            "/usr/local/lib/python3.7/dist-packages/ipykernel_launcher.py:11: UserWarning: You may need to increase the precision\n",
            "  # This is added back by InteractiveShellApp.init_path()\n"
          ]
        }
      ]
    },
    {
      "cell_type": "code",
      "source": [
        "L = compute_points(Z_func, 100, dps=50)\n",
        "sign_changes(L)"
      ],
      "metadata": {
        "colab": {
          "base_uri": "https://localhost:8080/"
        },
        "id": "tMIMR1th10_L",
        "outputId": "66db790e-859c-467d-f070-54e04459c620"
      },
      "execution_count": 44,
      "outputs": [
        {
          "output_type": "execute_result",
          "data": {
            "text/plain": [
              "29"
            ]
          },
          "metadata": {},
          "execution_count": 44
        }
      ]
    },
    {
      "cell_type": "code",
      "source": [
        "plot_points(L, 100)"
      ],
      "metadata": {
        "colab": {
          "base_uri": "https://localhost:8080/",
          "height": 265
        },
        "id": "-Aw--tdd18S1",
        "outputId": "596079c7-b184-4d9e-d565-ee9cc5995c1c"
      },
      "execution_count": 45,
      "outputs": [
        {
          "output_type": "display_data",
          "data": {
            "text/plain": [
              "<Figure size 432x288 with 1 Axes>"
            ],
            "image/png": "[encoded data removed]"
          },
          "metadata": {
            "needs_background": "light"
          }
        }
      ]
    },
    {
      "cell_type": "markdown",
      "source": [
        "# Equação de Ginzburg-Landau Equation\n",
        "\n",
        "Escreva\ta\tEquação Complexa\tde\tGinzburg-Landau\tno\t`Sympy` e\tapresente\tas\tsuas soluções."
      ],
      "metadata": {
        "id": "7HsqCt_BPdcx"
      }
    },
    {
      "cell_type": "markdown",
      "source": [
        "<!-- _\"The cubic complex Ginzburg-Landau equation (CGLe) is one of the most-studied nonlinear equations in the physics community. It describes on a qualitative, and often even on a quantitative level a vast variety of phenomena from nonlinear waves to second-order phase transitions, from superconductivity, superfluidity and Bose-Einstein conden- sation to liquid crystals and strings in field theory (Kuramoto, 1984, Cross and Hohenberg, 1993, Newell et al, 1993, Pismen, 1999, Bohr et al, 1998, Dangelmayr and Kramer, 1998).\"_\n",
        "\n",
        "_\"Our goal is to give an overview of various phenomena described by the CGLe from the point of view of condensed matter physicists. Our approach is to study the relevant solutions to get insight into nonequilibrium phenomena in spatially extended systems. More elementary and detailed introductions into the concepts underlying the equation can be found in Manneville (1990), van Saarloos (1993), van Hecke et al (1994), Nicolis (1995) and Walgraaf (1997).\"_ [Aranson\t&\tKramer\tRev.\tMod.\tPhys.,\t2002](https://arxiv.org/abs/cond-mat/0106115) -->\n",
        "\n",
        "$$\n",
        "∂_tA = A + (1 + ib)∆A − (1 + ic)|A|^2A\n",
        "$$\n",
        "\n",
        "onde $\\Delta$ representa a segunda deridava espacial de forma que a equação seja\n",
        "\n",
        "$$\n",
        "∂_tA = A + (1 + ib)∂^2_xA − (1 + ic)|A|^2A\n",
        "$$\n",
        "\n",
        "\n",
        "\n",
        "SEGUNDO [ESTA](https://www.uni-muenster.de/imperia/md/content/physik_tp/lectures/ss2017/numerische_Methoden_fuer_komplexe_Systeme_II/gle.pdf) REFERÊNCIA.\n",
        "<!-- \n",
        "Vamos considerar a equação no formato sugeiro na refência \n",
        "\n",
        "$$\n",
        "\\frac{\\partial}{\\partial t}A = A + (1+i\\alpha) \\frac{\\partial^2}{\\partial x^2}A - (1+i\\beta) |A|^2 A\n",
        "$$ -->\n",
        "\n",
        "\n"
      ],
      "metadata": {
        "id": "eVKvpDWPQKhR"
      }
    },
    {
      "cell_type": "code",
      "source": [
        ""
      ],
      "metadata": {
        "colab": {
          "base_uri": "https://localhost:8080/",
          "height": 202
        },
        "id": "Yedgwqqdivcg",
        "outputId": "60fbf217-8707-460c-9a7a-d6f188b304f7"
      },
      "execution_count": 1,
      "outputs": [
        {
          "output_type": "error",
          "ename": "NameError",
          "evalue": "ignored",
          "traceback": [
            "\u001b[0;31m---------------------------------------------------------------------------\u001b[0m",
            "\u001b[0;31mNameError\u001b[0m                                 Traceback (most recent call last)",
            "\u001b[0;32m<ipython-input-1-95bce5a03a24>\u001b[0m in \u001b[0;36m<module>\u001b[0;34m()\u001b[0m\n\u001b[1;32m      1\u001b[0m \u001b[0;31m#TEXTO\u001b[0m\u001b[0;34m\u001b[0m\u001b[0;34m\u001b[0m\u001b[0;34m\u001b[0m\u001b[0m\n\u001b[0;32m----> 2\u001b[0;31m \u001b[0mleft_hand\u001b[0m \u001b[0;34m=\u001b[0m \u001b[0mA\u001b[0m\u001b[0;34m.\u001b[0m\u001b[0mdiff\u001b[0m\u001b[0;34m(\u001b[0m\u001b[0mt\u001b[0m\u001b[0;34m)\u001b[0m\u001b[0;34m\u001b[0m\u001b[0;34m\u001b[0m\u001b[0m\n\u001b[0m\u001b[1;32m      3\u001b[0m \u001b[0mrigth_hand\u001b[0m \u001b[0;34m=\u001b[0m \u001b[0;34m(\u001b[0m\u001b[0mA\u001b[0m\u001b[0;34m+\u001b[0m\u001b[0;34m(\u001b[0m\u001b[0;36m1\u001b[0m\u001b[0;34m+\u001b[0m\u001b[0mj\u001b[0m\u001b[0;34m*\u001b[0m\u001b[0mb\u001b[0m\u001b[0;34m*\u001b[0m\u001b[0mA\u001b[0m\u001b[0;34m.\u001b[0m\u001b[0mdiff\u001b[0m\u001b[0;34m(\u001b[0m\u001b[0mx\u001b[0m\u001b[0;34m,\u001b[0m\u001b[0mx\u001b[0m\u001b[0;34m)\u001b[0m\u001b[0;34m)\u001b[0m\u001b[0;34m-\u001b[0m\u001b[0;34m(\u001b[0m\u001b[0;36m1\u001b[0m\u001b[0;34m+\u001b[0m\u001b[0mj\u001b[0m\u001b[0;34m*\u001b[0m\u001b[0mc\u001b[0m\u001b[0;34m)\u001b[0m\u001b[0;34m*\u001b[0m\u001b[0mAbs\u001b[0m\u001b[0;34m(\u001b[0m\u001b[0mA\u001b[0m\u001b[0;34m)\u001b[0m\u001b[0;34m**\u001b[0m\u001b[0;36m2\u001b[0m\u001b[0;34m*\u001b[0m\u001b[0mA\u001b[0m\u001b[0;34m)\u001b[0m\u001b[0;34m\u001b[0m\u001b[0;34m\u001b[0m\u001b[0m\n",
            "\u001b[0;31mNameError\u001b[0m: name 'A' is not defined"
          ]
        }
      ]
    },
    {
      "cell_type": "code",
      "source": [
        "#Importando as Bibliotecas\n",
        "from sympy import *\n",
        "from mpmath import *\n",
        "import numpy as np\n",
        "\n",
        "#Definindo as Variaveis\n",
        "t, x, b, c, A = symbols('t x b c A') \n",
        "#i = (-1)**(0.5)"
      ],
      "metadata": {
        "id": "PFv1f66j18_D"
      },
      "execution_count": 2,
      "outputs": []
    },
    {
      "cell_type": "code",
      "source": [
        "#Equação da referência \n",
        "A = A_0*e**(j*q*x+j*w*t)\n",
        "\n",
        "A_0 = (1-q**2)**0.5\n",
        "w = -alpha*q**2-beta*A_0**2"
      ],
      "metadata": {
        "id": "3eGD_Zw_3ian"
      },
      "execution_count": 18,
      "outputs": []
    },
    {
      "cell_type": "code",
      "source": [
        "# Refência da Aula\n",
        "def senh(var):\n",
        "  return 2/(e**var+e**(-var))\n",
        "A = A_0 * senh(t/tau)**(1+j*beta)"
      ],
      "metadata": {
        "id": "KbPT8_6Jarhc"
      },
      "execution_count": 25,
      "outputs": []
    },
    {
      "cell_type": "code",
      "source": [
        "display(A.diff(x,x))"
      ],
      "metadata": {
        "colab": {
          "base_uri": "https://localhost:8080/",
          "height": 37
        },
        "id": "IAachK8b0NSN",
        "outputId": "a69981b1-f2cf-4a84-833b-6db45f58eb0f"
      },
      "execution_count": 9,
      "outputs": [
        {
          "output_type": "display_data",
          "data": {
            "text/plain": [
              "0"
            ],
            "text/latex": "$\\displaystyle 0$"
          },
          "metadata": {}
        }
      ]
    },
    {
      "cell_type": "code",
      "source": [
        "\n",
        "left_hand = A.diff(t)\n",
        "rigth_hand = (A+(1+j*b*A.diff(x,x))-(1+j*c)*Abs(A)**2*A)"
      ],
      "metadata": {
        "id": "WGH_zQGA3_j2"
      },
      "execution_count": 3,
      "outputs": []
    },
    {
      "cell_type": "code",
      "source": [
        "print('\\n Left hand \\n')\n",
        "display(left_hand )\n",
        "print('\\n rigth hand \\n')\n",
        "display(rigth_hand)"
      ],
      "metadata": {
        "colab": {
          "base_uri": "https://localhost:8080/",
          "height": 163
        },
        "id": "qmsjJYmpikHS",
        "outputId": "5c7a6bfb-f3d2-49d2-d835-c1948d16fa96"
      },
      "execution_count": 5,
      "outputs": [
        {
          "output_type": "stream",
          "name": "stdout",
          "text": [
            "\n",
            " Left hand \n",
            "\n"
          ]
        },
        {
          "output_type": "display_data",
          "data": {
            "text/plain": [
              "0"
            ],
            "text/latex": "$\\displaystyle 0$"
          },
          "metadata": {}
        },
        {
          "output_type": "stream",
          "name": "stdout",
          "text": [
            "\n",
            " rigth hand \n",
            "\n"
          ]
        },
        {
          "output_type": "display_data",
          "data": {
            "text/plain": [
              "-A*(1.0*I*c + 1)*Abs(A)**2 + A + 1"
            ],
            "text/latex": "$\\displaystyle - A \\left(1.0 i c + 1\\right) \\left|{A}\\right|^{2} + A + 1$"
          },
          "metadata": {}
        }
      ]
    },
    {
      "cell_type": "code",
      "source": [
        "left_hand == rigth_hand"
      ],
      "metadata": {
        "colab": {
          "base_uri": "https://localhost:8080/"
        },
        "id": "1nfYVoOL1EIB",
        "outputId": "c2309f1d-aaa6-41b2-b1b4-6e4f3685fac6"
      },
      "execution_count": 10,
      "outputs": [
        {
          "output_type": "execute_result",
          "data": {
            "text/plain": [
              "False"
            ]
          },
          "metadata": {},
          "execution_count": 10
        }
      ]
    },
    {
      "cell_type": "code",
      "source": [
        "display(mod(A))"
      ],
      "metadata": {
        "colab": {
          "base_uri": "https://localhost:8080/",
          "height": 167
        },
        "id": "BjiYneWQymBa",
        "outputId": "79908a39-0f5c-483a-edc1-4314fb4fc510"
      },
      "execution_count": 45,
      "outputs": [
        {
          "output_type": "error",
          "ename": "NameError",
          "evalue": "ignored",
          "traceback": [
            "\u001b[0;31m---------------------------------------------------------------------------\u001b[0m",
            "\u001b[0;31mNameError\u001b[0m                                 Traceback (most recent call last)",
            "\u001b[0;32m<ipython-input-45-c9eaa64fe067>\u001b[0m in \u001b[0;36m<module>\u001b[0;34m()\u001b[0m\n\u001b[0;32m----> 1\u001b[0;31m \u001b[0mdisplay\u001b[0m\u001b[0;34m(\u001b[0m\u001b[0mmod\u001b[0m\u001b[0;34m(\u001b[0m\u001b[0mA\u001b[0m\u001b[0;34m)\u001b[0m\u001b[0;34m)\u001b[0m\u001b[0;34m\u001b[0m\u001b[0;34m\u001b[0m\u001b[0m\n\u001b[0m",
            "\u001b[0;31mNameError\u001b[0m: name 'mod' is not defined"
          ]
        }
      ]
    },
    {
      "cell_type": "markdown",
      "source": [
        "$$\n",
        "\\cosh(t) =  {e^{t}+e^{-t} \\over 2}\n",
        "$$\n",
        "\n",
        "$$\n",
        "\\operatorname{sech} (t)={1 \\over {\\cosh(t)}}\n",
        "$$\n",
        "\n",
        "$$\n",
        "\\operatorname{sech} (t)={1 \\over {e^{t}+e^{-t} \\over 2}}\n",
        "$$\n",
        "\n",
        "$$\n",
        "\\operatorname {sech} (t)={2 \\over e^{t}+e^{-t}}\n",
        "$$    "
      ],
      "metadata": {
        "id": "1XS5xyb-cexB"
      }
    },
    {
      "cell_type": "code",
      "source": [
        ""
      ],
      "metadata": {
        "id": "UvTtvtS7aswj"
      },
      "execution_count": 59,
      "outputs": []
    },
    {
      "cell_type": "code",
      "source": [
        "display(A)"
      ],
      "metadata": {
        "colab": {
          "base_uri": "https://localhost:8080/",
          "height": 52
        },
        "id": "8nPdzRuVxdGD",
        "outputId": "5477907a-cbf2-48db-8b99-87270d254f59"
      },
      "execution_count": 38,
      "outputs": [
        {
          "output_type": "display_data",
          "data": {
            "text/plain": [
              "0.648054273663885*A_0*t/x"
            ],
            "text/latex": "$\\displaystyle \\frac{0.648054273663885 A_{0} t}{x}$"
          },
          "metadata": {}
        }
      ]
    },
    {
      "cell_type": "markdown",
      "source": [
        "# Referências \n",
        "\n",
        "* https://omz-software.com/pythonista/sympy/modules/mpmath/functions/hyperbolic.html"
      ],
      "metadata": {
        "id": "z-NlpFDibXwp"
      }
    },
    {
      "cell_type": "code",
      "source": [
        ""
      ],
      "metadata": {
        "id": "u_mjUsRna9TS"
      },
      "execution_count": null,
      "outputs": []
    }
  ]
}