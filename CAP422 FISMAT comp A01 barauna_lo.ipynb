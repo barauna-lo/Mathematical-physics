{
  "nbformat": 4,
  "nbformat_minor": 0,
  "metadata": {
    "colab": {
      "name": "CAP422FISMATcomp - barauna-lo.ipynb",
      "provenance": [],
      "collapsed_sections": [],
      "include_colab_link": true
    },
    "kernelspec": {
      "name": "python3",
      "display_name": "Python 3"
    }
  },
  "cells": [
    {
      "cell_type": "markdown",
      "metadata": {
        "id": "view-in-github",
        "colab_type": "text"
      },
      "source": [
        "<a href=\"https://colab.research.google.com/github/barauna-lo/Mathematical-physics/blob/main/CAP422%20FISMAT%20comp%20A01%20barauna_lo.ipynb\" target=\"_parent\"><img src=\"https://colab.research.google.com/assets/colab-badge.svg\" alt=\"Open In Colab\"/></a>"
      ]
    },
    {
      "cell_type": "markdown",
      "metadata": {
        "id": "85CvB2mv2vxN"
      },
      "source": [
        "**Física Matemática - CAP 422 - 2021 - Prof. Reinaldo R. Rosa** "
      ]
    },
    {
      "cell_type": "markdown",
      "metadata": {
        "id": "xC-GT7uOiMMj"
      },
      "source": [
        "# NOSSO APARATO COMPUTACIONAL: Sympy"
      ]
    },
    {
      "cell_type": "markdown",
      "metadata": {
        "id": "MleR9m9hXNV6"
      },
      "source": [
        "Utilizamos o que chamamos de \"Computação Simbólica\" para resolver expressões matemáticas usando objetos matemáticos (em geral, comandos que representam operações algébricas). Em outras palavras, é o método pelo qual uma solução exata para uma expressão matemática é obtida usando expressões simbólicas (variáveis, funções, polinômios, matrizes etc.). \n",
        "\n",
        "Por exemplo, se for proposto calcular uma integral definida de alguma função $ f (x) $, a primeira coisa que fazemos é procurar sua primitiva e depois avaliar os limites de integração, obtendo assim uma solução exata para o problema. \n",
        "\n",
        "Lembremos que, também podemos calcular essa integral por meio de processos iterativos, como o método trapezoidal, obtendo um resultado aproximado que está de acordo com a precisão do nosso método, que é equivalente a um cálculo numérico.\n",
        "\n",
        "**Sympy é a bilbioteca do python que nos permite trabalhar com a computação simbólica de forma prática. Sua utilização  nos problemas de Física Matemática nos permite agregar a computação à FísMat permitindo assim utilizarmos o termo \"Física Matemática Computacional\". ** \n",
        "\n",
        "Seguem alguns exemplos do tutorial do Sympy.\n",
        "\n",
        "https://docs.sympy.org/latest/tutorial/intro.html"
      ]
    },
    {
      "cell_type": "markdown",
      "metadata": {
        "id": "DP6UJsEDX0Fg"
      },
      "source": [
        "EXEMPLO: CÁLCULO DA RAIZ QUADRADA"
      ]
    },
    {
      "cell_type": "code",
      "metadata": {
        "id": "LRQtdqZGSW7m",
        "colab": {
          "base_uri": "https://localhost:8080/"
        },
        "outputId": "e3ff8839-15b7-4092-9c5d-d3e9ed9514d9"
      },
      "source": [
        "#what is the difference beteween math and numpy?\n",
        "import math\n",
        "math.sqrt(16)"
      ],
      "execution_count": null,
      "outputs": [
        {
          "output_type": "execute_result",
          "data": {
            "text/plain": [
              "4.0"
            ]
          },
          "metadata": {},
          "execution_count": 2
        }
      ]
    },
    {
      "cell_type": "markdown",
      "metadata": {
        "id": "heLlks55ZcX1"
      },
      "source": [
        "Veja abaixo o cálculo numérico da raiz de 8 com uma certa precisão. Não é portanto uma **solução exata** pois o cálculo da raiz de 2 foi executado.  \n",
        "Na computação simbólica, portanto, a solução seria: \n",
        "$\\sqrt{8}=\\sqrt{4}\\sqrt{2}=2\\sqrt{2}$. \n",
        "Essa é a essência do cálculo simbólico."
      ]
    },
    {
      "cell_type": "code",
      "metadata": {
        "id": "QPWo3VGlSjY9",
        "colab": {
          "base_uri": "https://localhost:8080/"
        },
        "outputId": "2a891ac6-c8a8-4052-a025-200045977c34"
      },
      "source": [
        "math.sqrt(8)"
      ],
      "execution_count": null,
      "outputs": [
        {
          "output_type": "execute_result",
          "data": {
            "text/plain": [
              "2.8284271247461903"
            ]
          },
          "metadata": {},
          "execution_count": 3
        }
      ]
    },
    {
      "cell_type": "markdown",
      "metadata": {
        "id": "upTxaFF7cpp-"
      },
      "source": [
        "Note que:\n",
        "#### ***o cálculo simbólico é como se você resolvesse o problema em lápis e papel,***\n",
        "obtendo as funções que correspondem à solução exata do problema. A partir da solução exata, você pode ou não decidir utilizar o cálculo numérico utilizando portanto, a aproximação que o seu computador consegue atingir com a discretização binária. \n",
        "\n",
        "Assim, veremos abaixo que o cálculo simbólico pode nos ajudar a resolver muitas operações de álgebra e cálculo que encontramos na **Física Matemática** de maneira rápida e fácil. No entanto, cabe a você explorar o limite (e utilidade) dessa ferramenta para tratar operações mais complexas que, em geral, teríamos muito trabalho ao digitá-las no computador. Essa dificuldade, entretanto, vai se dirimindo à medida que vamos nos  familiarizando com o desenvolvimento e aplicação dos comandos e das bibliotecas necessárias."
      ]
    },
    {
      "cell_type": "markdown",
      "metadata": {
        "id": "7seqlbOofDVB"
      },
      "source": [
        "Vamos ao SYMPY"
      ]
    },
    {
      "cell_type": "code",
      "metadata": {
        "id": "7bPSRvNVSoTk"
      },
      "source": [
        "from sympy import *"
      ],
      "execution_count": null,
      "outputs": []
    },
    {
      "cell_type": "markdown",
      "metadata": {
        "id": "NWiT24UnfR82"
      },
      "source": [
        "**1 - Variáveis**\n",
        "\n",
        "Antes de começar a resolver um problema, sempre se identifica quais variáveis ​​devem ser tratadas. Usando a mesma lógica, podemos declarar nossas variáveis ​​com a chamada *função* de símbolos: *symbols*"
      ]
    },
    {
      "cell_type": "code",
      "metadata": {
        "id": "jFLAisOTSt4a"
      },
      "source": [
        "x, y, z = symbols('x y z')"
      ],
      "execution_count": null,
      "outputs": []
    },
    {
      "cell_type": "markdown",
      "metadata": {
        "id": "Utbs09emgjaJ"
      },
      "source": [
        "Agora x, y e z são objetos sobre os quais expressões algébricas podem ser construídas."
      ]
    },
    {
      "cell_type": "code",
      "metadata": {
        "id": "EpK-DIk0g-36",
        "colab": {
          "base_uri": "https://localhost:8080/",
          "height": 38
        },
        "outputId": "52a930f5-9aae-42e3-df6c-c76eed850884"
      },
      "source": [
        "2*x+3*y-8*z"
      ],
      "execution_count": null,
      "outputs": [
        {
          "output_type": "execute_result",
          "data": {
            "text/latex": "$\\displaystyle 2 x + 3 y - 8 z$",
            "text/plain": [
              "2*x + 3*y - 8*z"
            ]
          },
          "metadata": {},
          "execution_count": 7
        }
      ]
    },
    {
      "cell_type": "markdown",
      "metadata": {
        "id": "2fIGa97niAzO"
      },
      "source": [
        "**2- Equações**"
      ]
    },
    {
      "cell_type": "markdown",
      "metadata": {
        "id": "qSj00MtlhjtV"
      },
      "source": [
        "-Equações no Sympy são objetos formados pela combinação de símbolos definidos \n",
        "anteriormente. \n",
        "\n",
        "-Deve-se lembrar que uma equação representa um relacionamento de igualdade entre duas expressões; por esse motivo, a classe Eq (que significa Igualdade) é usada para instanciar uma equação.\n",
        "\n",
        "-Importante:\n",
        "\n",
        "Dar um único argumento para Eq pressupõe que a expressão seja igual a 0."
      ]
    },
    {
      "cell_type": "code",
      "metadata": {
        "id": "LZEt5YQ-S0KP",
        "colab": {
          "base_uri": "https://localhost:8080/",
          "height": 38
        },
        "outputId": "90125635-ca74-49ad-c3b8-c368ea35bd13"
      },
      "source": [
        "Eq(x,2)\n"
      ],
      "execution_count": null,
      "outputs": [
        {
          "output_type": "execute_result",
          "data": {
            "text/latex": "$\\displaystyle x = 2$",
            "text/plain": [
              "Eq(x, 2)"
            ]
          },
          "metadata": {},
          "execution_count": 8
        }
      ]
    },
    {
      "cell_type": "code",
      "metadata": {
        "id": "Xiww0LzAS8z-",
        "colab": {
          "base_uri": "https://localhost:8080/",
          "height": 38
        },
        "outputId": "76032224-1d0c-45ac-b7ca-a90d0271fc8d"
      },
      "source": [
        "#Ele ta reclamando da falta do ,0\n",
        "Eq(sin(x)**2+tan(y),0)"
      ],
      "execution_count": null,
      "outputs": [
        {
          "output_type": "execute_result",
          "data": {
            "text/latex": "$\\displaystyle \\sin^{2}{\\left(x \\right)} + \\tan{\\left(y \\right)} = 0$",
            "text/plain": [
              "Eq(sin(x)**2 + tan(y), 0)"
            ]
          },
          "metadata": {},
          "execution_count": 9
        }
      ]
    },
    {
      "cell_type": "code",
      "metadata": {
        "id": "zx-U8dlYTAwO",
        "colab": {
          "base_uri": "https://localhost:8080/",
          "height": 38
        },
        "outputId": "aeb4e482-8df7-4e0b-cbc4-a39697c416b3"
      },
      "source": [
        "Eq(x**2+y**2,z**2)"
      ],
      "execution_count": null,
      "outputs": [
        {
          "output_type": "execute_result",
          "data": {
            "text/latex": "$\\displaystyle x^{2} + y^{2} = z^{2}$",
            "text/plain": [
              "Eq(x**2 + y**2, z**2)"
            ]
          },
          "metadata": {},
          "execution_count": 10
        }
      ]
    },
    {
      "cell_type": "markdown",
      "metadata": {
        "id": "yga8Zbnsi2MH"
      },
      "source": [
        "\n",
        "\n",
        "---\n",
        "\n",
        "\n",
        "**Hands-on H01**: \n",
        "Cinemática: MRUV\n",
        "\n",
        "\n",
        "*   Crie uma equação de Sympy que permita determinar a posição de um objeto \n",
        "em movimento acelerado.\n",
        "*   Obtenha a posição de um objeto em $ t = 10s $ se ele começar do repouso, acelerando à taxa de $ 4 \\ m / s ^ 2 $ usando a equação escrita na seção anterior.\n",
        "\n",
        "Nota: Use o método .subs ({var: val, ...}) em que var é a variável a ser substituída e val é o novo valor\n",
        "\n"
      ]
    },
    {
      "cell_type": "markdown",
      "metadata": {
        "id": "P-PKtLHUiv2D"
      },
      "source": [
        "$$\n",
        "x=x_0+v_0t+\\dfrac{1}{2}at^2\n",
        "$$"
      ]
    },
    {
      "cell_type": "markdown",
      "metadata": {
        "id": "mM1fhNDGj-QI"
      },
      "source": [
        "\n",
        "\n",
        "---\n",
        "\n",
        "\n",
        "***Desenvolva aqui:***\n",
        "\n",
        "---\n",
        "\n"
      ]
    },
    {
      "cell_type": "code",
      "metadata": {
        "colab": {
          "base_uri": "https://localhost:8080/",
          "height": 54
        },
        "id": "CUIVThum_awf",
        "outputId": "de082be6-772e-4a50-eca7-fc6f9f3efa7d"
      },
      "source": [
        "#Defining the Variables\n",
        "x, x0,v0,a,t = symbols('x x0 v0 a t')\n",
        "#Defining the Equation\n",
        "MRUV = Eq(x0+v0*t+Integer(1)/2*a*t**2,x) #tryng alocate a equation in a var\n",
        "MRUV #Lets see if that gona Work.."
      ],
      "execution_count": null,
      "outputs": [
        {
          "output_type": "execute_result",
          "data": {
            "text/latex": "$\\displaystyle \\frac{a t^{2}}{2} + t v_{0} + x_{0} = x$",
            "text/plain": [
              "Eq(a*t**2/2 + t*v0 + x0, x)"
            ]
          },
          "metadata": {},
          "execution_count": 20
        }
      ]
    },
    {
      "cell_type": "code",
      "metadata": {
        "colab": {
          "base_uri": "https://localhost:8080/",
          "height": 38
        },
        "id": "zpHzhaf4EpJV",
        "outputId": "2aa1935f-1b33-4e2f-e39b-ce98723d2a87"
      },
      "source": [
        "#Has the starting position was not informed\n",
        "MRUV.subs({t:10,a:4,v0:0})\n"
      ],
      "execution_count": null,
      "outputs": [
        {
          "output_type": "execute_result",
          "data": {
            "text/latex": "$\\displaystyle x_{0} + 200.0 = x$",
            "text/plain": [
              "Eq(x0 + 200.0, x)"
            ]
          },
          "metadata": {},
          "execution_count": 12
        }
      ]
    },
    {
      "cell_type": "code",
      "metadata": {
        "colab": {
          "base_uri": "https://localhost:8080/",
          "height": 38
        },
        "id": "0F2CzToiFu_L",
        "outputId": "41258456-b636-4e17-e228-37a539027002"
      },
      "source": [
        "#Assuming x0 = 0\n",
        "MRUV.subs({x0:0,t:10,a:4,v0:0})"
      ],
      "execution_count": null,
      "outputs": [
        {
          "output_type": "execute_result",
          "data": {
            "text/latex": "$\\displaystyle 200.0 = x$",
            "text/plain": [
              "Eq(200.0, x)"
            ]
          },
          "metadata": {},
          "execution_count": 39
        }
      ]
    },
    {
      "cell_type": "markdown",
      "metadata": {
        "id": "XEgZiydekbDZ"
      },
      "source": [
        "**3. Operações Algébricas**"
      ]
    },
    {
      "cell_type": "markdown",
      "metadata": {
        "id": "J51KwwH7mzg0"
      },
      "source": [
        "Operações algébricas definidas usando objetos Sympy não serão avaliadas diretamente. \n",
        "\n",
        "Como exemplo, usando a *função de solução*, **solve**,  apresentaremos o tratamento de uma equação a ser resolvida como um único argumento."
      ]
    },
    {
      "cell_type": "code",
      "metadata": {
        "id": "9MtLyk_KTFuk",
        "colab": {
          "base_uri": "https://localhost:8080/",
          "height": 215
        },
        "outputId": "1bc33e6d-4278-409e-ab0d-990f24f08eb1"
      },
      "source": [
        "\n",
        "expr = Eq(3*x**2+2*x-1)\n",
        "display(expr) #disply show the equation on the symbolic format. \n",
        "\n",
        "#print(expr)\n",
        "\n",
        "\n",
        "print(\"As raízes são:\")\n",
        "display(solve(expr))\n",
        "print(solve(expr)) #Apparently there is no diference beteween print and diply for 'solve'... Lets keep going"
      ],
      "execution_count": null,
      "outputs": [
        {
          "output_type": "stream",
          "name": "stderr",
          "text": [
            "/usr/local/lib/python3.7/dist-packages/sympy/core/relational.py:496: SymPyDeprecationWarning: \n",
            "\n",
            "Eq(expr) with rhs default to 0 has been deprecated since SymPy 1.5.\n",
            "Use Eq(expr, 0) instead. See\n",
            "https://github.com/sympy/sympy/issues/16587 for more info.\n",
            "\n",
            "  deprecated_since_version=\"1.5\"\n"
          ]
        },
        {
          "output_type": "display_data",
          "data": {
            "text/latex": "$\\displaystyle 3 x^{2} + 2 x - 1 = 0$",
            "text/plain": [
              "Eq(3*x**2 + 2*x - 1, 0)"
            ]
          },
          "metadata": {}
        },
        {
          "output_type": "stream",
          "name": "stdout",
          "text": [
            "As raízes são:\n"
          ]
        },
        {
          "output_type": "display_data",
          "data": {
            "text/plain": [
              "[-1, 1/3]"
            ]
          },
          "metadata": {}
        },
        {
          "output_type": "stream",
          "name": "stdout",
          "text": [
            "[-1, 1/3]\n"
          ]
        }
      ]
    },
    {
      "cell_type": "markdown",
      "metadata": {
        "id": "0MREVFXFnvci"
      },
      "source": [
        "\n",
        "\n",
        "---\n",
        "\n",
        "\n",
        "**Mais um exemplo**: \n",
        "Resolva a seguinte equação no Sympy $$\n",
        "\\frac{5}{3}(y-2)-\\frac{4}{5}(2y-5)=4-\\frac{3}{2}(y-3)\n",
        "$$"
      ]
    },
    {
      "cell_type": "code",
      "metadata": {
        "id": "OBLSOLJKThjQ",
        "colab": {
          "base_uri": "https://localhost:8080/",
          "height": 249
        },
        "outputId": "a41d6508-4fce-4eaf-ba73-c97f3f2a7e75"
      },
      "source": [
        "expr = Eq((Integer(5)/3)*(y-2)-(Integer(4)/5)*(2*y-5),4-(Integer(3)/2)*(y-3)) \n",
        "display(expr)\n",
        "\n",
        "print('\\nWithout the \\'Integer\\'()\\n')\n",
        "expr1 = Eq(((5)/3)*(y-2)-((4)/5)*(2*y-5),4-((3)/2)*(y-3)) \n",
        "display(expr1)\n",
        "\n",
        "\n",
        "\n",
        "print(\"A solução é:\")\n",
        "display(solve(expr))\n",
        "\n",
        "print('\\nObserve que o sympy ira simplicifar a equação em cada mão da equação. \\nTanto que no lado direiro podemos ver somente um termo com variável \\ne um termo numerico\\n#muitolegal')"
      ],
      "execution_count": null,
      "outputs": [
        {
          "output_type": "display_data",
          "data": {
            "text/latex": "$\\displaystyle \\frac{y}{15} + \\frac{2}{3} = \\frac{17}{2} - \\frac{3 y}{2}$",
            "text/plain": [
              "Eq(y/15 + 2/3, 17/2 - 3*y/2)"
            ]
          },
          "metadata": {}
        },
        {
          "output_type": "stream",
          "name": "stdout",
          "text": [
            "\n",
            "Without the 'Integer'()\n",
            "\n"
          ]
        },
        {
          "output_type": "display_data",
          "data": {
            "text/latex": "$\\displaystyle 0.0666666666666667 y + 0.666666666666667 = 8.5 - 1.5 y$",
            "text/plain": [
              "Eq(0.0666666666666667*y + 0.666666666666667, 8.5 - 1.5*y)"
            ]
          },
          "metadata": {}
        },
        {
          "output_type": "stream",
          "name": "stdout",
          "text": [
            "A solução é:\n"
          ]
        },
        {
          "output_type": "display_data",
          "data": {
            "text/plain": [
              "[5]"
            ]
          },
          "metadata": {}
        },
        {
          "output_type": "stream",
          "name": "stdout",
          "text": [
            "\n",
            "Observe que o sympy ira simplicifar a equação em cada mão da equação. \n",
            "Tanto que no lado direiro podemos ver somente um termo com variável \n",
            "e um termo numerico\n",
            "#muitolegal\n"
          ]
        }
      ]
    },
    {
      "cell_type": "code",
      "metadata": {
        "colab": {
          "base_uri": "https://localhost:8080/",
          "height": 86
        },
        "id": "-xOdDWg6PXr5",
        "outputId": "93885c8b-7ca3-4ce7-88e3-319cc0a446a1"
      },
      "source": [
        "f = Eq((Integer(5)/3)*(y-2)-(Integer(4)/5)*(2*y-5),4-(Integer(3)/2)*(y-3))\n",
        "display(f)\n",
        "\n",
        "print(\"A solução é:\")\n",
        "display(solve(f))"
      ],
      "execution_count": null,
      "outputs": [
        {
          "output_type": "display_data",
          "data": {
            "text/latex": "$\\displaystyle \\frac{y}{15} + \\frac{2}{3} = \\frac{17}{2} - \\frac{3 y}{2}$",
            "text/plain": [
              "Eq(y/15 + 2/3, 17/2 - 3*y/2)"
            ]
          },
          "metadata": {}
        },
        {
          "output_type": "stream",
          "name": "stdout",
          "text": [
            "A solução é:\n"
          ]
        },
        {
          "output_type": "display_data",
          "data": {
            "text/plain": [
              "[5]"
            ]
          },
          "metadata": {}
        }
      ]
    },
    {
      "cell_type": "markdown",
      "metadata": {
        "id": "ppG953raxMeZ"
      },
      "source": [
        "**3.1. Derivadas**"
      ]
    },
    {
      "cell_type": "markdown",
      "metadata": {
        "id": "Y5Zz0FuMw2D-"
      },
      "source": [
        "O Sympy é capaz de calcular **derivadas** usando o **diff** como uma função ou como um método em uma expressão. Expressões também podem ser construídas para serem derivadas usando a função **Derivative**, que exibirá o resultado somente quando o método *doit* for chamado."
      ]
    },
    {
      "cell_type": "code",
      "metadata": {
        "id": "5oDdFYIJw1Ol",
        "colab": {
          "base_uri": "https://localhost:8080/",
          "height": 134
        },
        "outputId": "8e175e62-c6ae-4b9e-8f57-8ad85cf3dcd8"
      },
      "source": [
        "# Como função\n",
        "expr = sec(x)*exp(y)\n",
        "print(\"Expressão a derivar\")\n",
        "display(expr)\n",
        "print(\"Derivada em relação a 'x'\")\n",
        "display(diff(expr,x))\n",
        "\n",
        "print(\"Derivadas em cadeia: em relação a 'x', então a 'y' e novamente a 'x'\")\n",
        "display(diff(expr,x,y,x))"
      ],
      "execution_count": null,
      "outputs": [
        {
          "output_type": "stream",
          "name": "stdout",
          "text": [
            "Expressão a derivar\n"
          ]
        },
        {
          "output_type": "display_data",
          "data": {
            "text/latex": "$\\displaystyle e^{y} \\sec{\\left(x \\right)}$",
            "text/plain": [
              "exp(y)*sec(x)"
            ]
          },
          "metadata": {}
        },
        {
          "output_type": "stream",
          "name": "stdout",
          "text": [
            "Derivada em relação a 'x'\n"
          ]
        },
        {
          "output_type": "display_data",
          "data": {
            "text/latex": "$\\displaystyle e^{y} \\tan{\\left(x \\right)} \\sec{\\left(x \\right)}$",
            "text/plain": [
              "exp(y)*tan(x)*sec(x)"
            ]
          },
          "metadata": {}
        },
        {
          "output_type": "stream",
          "name": "stdout",
          "text": [
            "Derivadas em cadeia: em relação a 'x', então a 'y' e novamente a 'x'\n"
          ]
        },
        {
          "output_type": "display_data",
          "data": {
            "text/latex": "$\\displaystyle \\left(2 \\tan^{2}{\\left(x \\right)} + 1\\right) e^{y} \\sec{\\left(x \\right)}$",
            "text/plain": [
              "(2*tan(x)**2 + 1)*exp(y)*sec(x)"
            ]
          },
          "metadata": {}
        }
      ]
    },
    {
      "cell_type": "markdown",
      "metadata": {
        "id": "v_K3LODPqGTR"
      },
      "source": [
        "\n",
        "\n",
        "---\n",
        "\n"
      ]
    },
    {
      "cell_type": "code",
      "metadata": {
        "id": "QuoqNSUjx_fD",
        "colab": {
          "base_uri": "https://localhost:8080/",
          "height": 233
        },
        "outputId": "ed951c11-f025-4562-def1-a9555cfe692c"
      },
      "source": [
        "# Como método\n",
        "expr = 4/x - 1/(6*x**3) + 8/x**5\n",
        "print(\"Expressão a derivar\")\n",
        "display(expr)\n",
        "\n",
        "print(\"1a derivada\")\n",
        "display(expr.diff(x))\n",
        "\n",
        "print(\"3a derivada\")\n",
        "display(expr.diff(x,x,x))\n",
        "\n",
        "print(\"7a derivada\")\n",
        "display(expr.diff(x,7))"
      ],
      "execution_count": null,
      "outputs": [
        {
          "output_type": "stream",
          "name": "stdout",
          "text": [
            "Expressão a derivar\n"
          ]
        },
        {
          "output_type": "display_data",
          "data": {
            "text/latex": "$\\displaystyle \\frac{4}{x} - \\frac{1}{6 x^{3}} + \\frac{8}{x^{5}}$",
            "text/plain": [
              "4/x - 1/(6*x**3) + 8/x**5"
            ]
          },
          "metadata": {}
        },
        {
          "output_type": "stream",
          "name": "stdout",
          "text": [
            "1a derivada\n"
          ]
        },
        {
          "output_type": "display_data",
          "data": {
            "text/latex": "$\\displaystyle - \\frac{4}{x^{2}} + \\frac{1}{2 x^{4}} - \\frac{40}{x^{6}}$",
            "text/plain": [
              "-4/x**2 + 1/(2*x**4) - 40/x**6"
            ]
          },
          "metadata": {}
        },
        {
          "output_type": "stream",
          "name": "stdout",
          "text": [
            "3a derivada\n"
          ]
        },
        {
          "output_type": "display_data",
          "data": {
            "text/latex": "$\\displaystyle \\frac{2 \\left(-12 + \\frac{5}{x^{2}} - \\frac{840}{x^{4}}\\right)}{x^{4}}$",
            "text/plain": [
              "2*(-12 + 5/x**2 - 840/x**4)/x**4"
            ]
          },
          "metadata": {}
        },
        {
          "output_type": "stream",
          "name": "stdout",
          "text": [
            "7a derivada\n"
          ]
        },
        {
          "output_type": "display_data",
          "data": {
            "text/latex": "$\\displaystyle \\frac{10080 \\left(-2 + \\frac{3}{x^{2}} - \\frac{1320}{x^{4}}\\right)}{x^{8}}$",
            "text/plain": [
              "10080*(-2 + 3/x**2 - 1320/x**4)/x**8"
            ]
          },
          "metadata": {}
        }
      ]
    },
    {
      "cell_type": "code",
      "metadata": {
        "id": "D7Wlep63xgZH",
        "colab": {
          "base_uri": "https://localhost:8080/",
          "height": 85
        },
        "outputId": "bd1c302c-4e00-4fa2-ce8e-cc6bc2da99cf"
      },
      "source": [
        "# Usando a função Derivative\n",
        "dexpr = Derivative(expr,x)\n",
        "print(\"Derivada sem avaliar\")\n",
        "display(dexpr)\n",
        "\n",
        "print(\"Resultado\")\n",
        "dexpr.doit()"
      ],
      "execution_count": null,
      "outputs": [
        {
          "output_type": "stream",
          "text": [
            "Derivada sem avaliar\n"
          ],
          "name": "stdout"
        },
        {
          "output_type": "display_data",
          "data": {
            "text/plain": [
              "Derivative(4/x - 1/(6*x**3) + 8/x**5, x)"
            ]
          },
          "metadata": {
            "tags": []
          }
        },
        {
          "output_type": "stream",
          "text": [
            "Resultado\n"
          ],
          "name": "stdout"
        },
        {
          "output_type": "execute_result",
          "data": {
            "text/plain": [
              "-4/x**2 + 1/(2*x**4) - 40/x**6"
            ]
          },
          "metadata": {
            "tags": []
          },
          "execution_count": 14
        }
      ]
    },
    {
      "cell_type": "markdown",
      "metadata": {
        "id": "w3i0ajQZ0IHy"
      },
      "source": [
        "\n",
        "\n",
        "---\n",
        "\n",
        "\n",
        "**Hands-on 02**: \n",
        "Obtenha a equação para a velocidade de um objeto em movimento acelerado a partir da equação de posição (MRUV).\n",
        "\n"
      ]
    },
    {
      "cell_type": "markdown",
      "metadata": {
        "id": "bPSFulw50iru"
      },
      "source": [
        "\n",
        "---\n",
        "\n",
        "\n",
        "***Desenvolva aqui:***\n",
        "\n",
        "---\n"
      ]
    },
    {
      "cell_type": "code",
      "metadata": {
        "colab": {
          "base_uri": "https://localhost:8080/",
          "height": 75
        },
        "id": "jA0WKZiEPGHJ",
        "outputId": "c6a02ce0-d53a-4b64-9b79-b2af7ac50734"
      },
      "source": [
        "MRUV1 = x0+v0*t+Integer(1)/2*a*t**2-x\n",
        "display(MRUV1)\n",
        "display(MRUV1.diff(t))"
      ],
      "execution_count": null,
      "outputs": [
        {
          "output_type": "display_data",
          "data": {
            "text/latex": "$\\displaystyle \\frac{a t^{2}}{2} + t v_{0} - x + x_{0}$",
            "text/plain": [
              "a*t**2/2 + t*v0 - x + x0"
            ]
          },
          "metadata": {}
        },
        {
          "output_type": "display_data",
          "data": {
            "text/latex": "$\\displaystyle a t + v_{0}$",
            "text/plain": [
              "a*t + v0"
            ]
          },
          "metadata": {}
        }
      ]
    },
    {
      "cell_type": "markdown",
      "metadata": {
        "id": "RZCZ_J5JqMt4"
      },
      "source": [
        "**3.2. Integrais**"
      ]
    },
    {
      "cell_type": "markdown",
      "metadata": {
        "id": "2YK0N4Un0x_u"
      },
      "source": [
        "Como para as derivadas, existe o **método de integração** e a **função Integral** para obter integrais. Os limites de integração podem ser definidos ou não.\n",
        "\n",
        "Exemplo:\n",
        "$$\n",
        "\\int_{0}^{\\pi/2}{sin^2 \\left( \\frac{x}{2} \\right) cos(2x)dx}\n",
        "$$"
      ]
    },
    {
      "cell_type": "code",
      "metadata": {
        "id": "DxbhG0Oj1pJu",
        "colab": {
          "base_uri": "https://localhost:8080/",
          "height": 279
        },
        "outputId": "2b92db7b-02ed-4824-ad56-c1c54fef8014"
      },
      "source": [
        "# Montgem da Integral sem Calcular\n",
        "\n",
        "expr = Integral(cos(2*x)*sin(x/2)**2,(x,0,pi/2)) #função(variavel,limite_inferior,limite_superior)\n",
        "print(\"Integral no Sympy\\n\")\n",
        "display(expr)\n",
        "\n",
        "#Integrando sem limites de ingração\n",
        "expr1 = Integral(cos(2*x)*sin(x/2)**2,(x))\n",
        "print(\"\\nIntegral no Sem limite de integração\\n\")\n",
        "display(expr1.doit())\n",
        "\n",
        "# Integrando\n",
        "print(\"La respuesta es:\\n\") #kkkkkk\n",
        "display(expr.doit())"
      ],
      "execution_count": null,
      "outputs": [
        {
          "output_type": "stream",
          "name": "stdout",
          "text": [
            "Integral no Sympy\n",
            "\n"
          ]
        },
        {
          "output_type": "display_data",
          "data": {
            "text/latex": "$\\displaystyle \\int\\limits_{0}^{\\frac{\\pi}{2}} \\sin^{2}{\\left(\\frac{x}{2} \\right)} \\cos{\\left(2 x \\right)}\\, dx$",
            "text/plain": [
              "Integral(sin(x/2)**2*cos(2*x), (x, 0, pi/2))"
            ]
          },
          "metadata": {}
        },
        {
          "output_type": "stream",
          "name": "stdout",
          "text": [
            "\n",
            "Integral no Sem limite de integração\n",
            "\n"
          ]
        },
        {
          "output_type": "display_data",
          "data": {
            "text/latex": "$\\displaystyle \\frac{7 \\sin^{2}{\\left(\\frac{x}{2} \\right)} \\sin{\\left(2 x \\right)}}{12} + \\frac{\\sin{\\left(\\frac{x}{2} \\right)} \\cos{\\left(\\frac{x}{2} \\right)} \\cos{\\left(2 x \\right)}}{3} - \\frac{\\sin{\\left(2 x \\right)} \\cos^{2}{\\left(\\frac{x}{2} \\right)}}{12}$",
            "text/plain": [
              "7*sin(x/2)**2*sin(2*x)/12 + sin(x/2)*cos(x/2)*cos(2*x)/3 - sin(2*x)*cos(x/2)**2/12"
            ]
          },
          "metadata": {}
        },
        {
          "output_type": "stream",
          "name": "stdout",
          "text": [
            "La respuesta es:\n",
            "\n"
          ]
        },
        {
          "output_type": "display_data",
          "data": {
            "text/latex": "$\\displaystyle - \\frac{1}{6}$",
            "text/plain": [
              "-1/6"
            ]
          },
          "metadata": {}
        }
      ]
    },
    {
      "cell_type": "code",
      "metadata": {
        "id": "wVIdDAAr1wA4",
        "colab": {
          "base_uri": "https://localhost:8080/",
          "height": 520
        },
        "outputId": "ee0ed74b-b6ac-4e53-a62d-3fb2d5fbde1b"
      },
      "source": [
        "print(\"Uma Função com Duas Variáveis\")\n",
        "expr = 3*x**2/(sin(y))\n",
        "display(expr)\n",
        "\n",
        "print(\"\\nIntegral indefinida em relação a x:\")\n",
        "int_x = Integral(expr, x)\n",
        "display(int_x)\n",
        "print(\"Resultado\")\n",
        "display(int_x.doit())\n",
        "\n",
        "print(\"\\nIntegral indefinida em relação a y:\")\n",
        "int_y = Integral(expr, y)\n",
        "display(int_y)\n",
        "print(\"Resultado\")\n",
        "display(int_y.doit())\n",
        "\n",
        "print(\"\\nIntegral Dupla definida:\")\n",
        "int_d = Integral(expr, (x, -2, 4), (y, pi/4, pi/2))\n",
        "display(int_d)\n",
        "print(\"Resultado\")\n",
        "display(int_d.doit())"
      ],
      "execution_count": null,
      "outputs": [
        {
          "output_type": "stream",
          "name": "stdout",
          "text": [
            "Uma Função com Duas Variáveis\n"
          ]
        },
        {
          "output_type": "display_data",
          "data": {
            "text/latex": "$\\displaystyle \\frac{3 x^{2}}{\\sin{\\left(y \\right)}}$",
            "text/plain": [
              "3*x**2/sin(y)"
            ]
          },
          "metadata": {}
        },
        {
          "output_type": "stream",
          "name": "stdout",
          "text": [
            "\n",
            "Integral indefinida em relação a x:\n"
          ]
        },
        {
          "output_type": "display_data",
          "data": {
            "text/latex": "$\\displaystyle \\int \\frac{3 x^{2}}{\\sin{\\left(y \\right)}}\\, dx$",
            "text/plain": [
              "Integral(3*x**2/sin(y), x)"
            ]
          },
          "metadata": {}
        },
        {
          "output_type": "stream",
          "name": "stdout",
          "text": [
            "Resultado\n"
          ]
        },
        {
          "output_type": "display_data",
          "data": {
            "text/latex": "$\\displaystyle \\frac{x^{3}}{\\sin{\\left(y \\right)}}$",
            "text/plain": [
              "x**3/sin(y)"
            ]
          },
          "metadata": {}
        },
        {
          "output_type": "stream",
          "name": "stdout",
          "text": [
            "\n",
            "Integral indefinida em relação a y:\n"
          ]
        },
        {
          "output_type": "display_data",
          "data": {
            "text/latex": "$\\displaystyle \\int \\frac{3 x^{2}}{\\sin{\\left(y \\right)}}\\, dy$",
            "text/plain": [
              "Integral(3*x**2/sin(y), y)"
            ]
          },
          "metadata": {}
        },
        {
          "output_type": "stream",
          "name": "stdout",
          "text": [
            "Resultado\n"
          ]
        },
        {
          "output_type": "display_data",
          "data": {
            "text/latex": "$\\displaystyle 3 x^{2} \\left(\\frac{\\log{\\left(\\cos{\\left(y \\right)} - 1 \\right)}}{2} - \\frac{\\log{\\left(\\cos{\\left(y \\right)} + 1 \\right)}}{2}\\right)$",
            "text/plain": [
              "3*x**2*(log(cos(y) - 1)/2 - log(cos(y) + 1)/2)"
            ]
          },
          "metadata": {}
        },
        {
          "output_type": "stream",
          "name": "stdout",
          "text": [
            "\n",
            "Integral Dupla definida:\n"
          ]
        },
        {
          "output_type": "display_data",
          "data": {
            "text/latex": "$\\displaystyle \\int\\limits_{\\frac{\\pi}{4}}^{\\frac{\\pi}{2}}\\int\\limits_{-2}^{4} \\frac{3 x^{2}}{\\sin{\\left(y \\right)}}\\, dx\\, dy$",
            "text/plain": [
              "Integral(3*x**2/sin(y), (x, -2, 4), (y, pi/4, pi/2))"
            ]
          },
          "metadata": {}
        },
        {
          "output_type": "stream",
          "name": "stdout",
          "text": [
            "Resultado\n"
          ]
        },
        {
          "output_type": "display_data",
          "data": {
            "text/latex": "$\\displaystyle 36 \\log{\\left(\\frac{\\sqrt{2}}{2} + 1 \\right)} - 36 \\log{\\left(1 - \\frac{\\sqrt{2}}{2} \\right)}$",
            "text/plain": [
              "36*log(sqrt(2)/2 + 1) - 36*log(1 - sqrt(2)/2)"
            ]
          },
          "metadata": {}
        }
      ]
    },
    {
      "cell_type": "code",
      "metadata": {
        "id": "JQNDUP1FIHpo"
      },
      "source": [
        ""
      ],
      "execution_count": null,
      "outputs": []
    },
    {
      "cell_type": "markdown",
      "metadata": {
        "id": "8wd7nLrpILQo"
      },
      "source": [
        "# ***PERGUNTAS***\n",
        "1 - What is the difference beteween math and numpy?\n"
      ]
    },
    {
      "cell_type": "code",
      "metadata": {
        "id": "-8iE0fwFIKJV"
      },
      "source": [
        ""
      ],
      "execution_count": null,
      "outputs": []
    },
    {
      "cell_type": "code",
      "metadata": {
        "id": "imCyYJkhPDh1"
      },
      "source": [
        ""
      ],
      "execution_count": null,
      "outputs": []
    }
  ]
}