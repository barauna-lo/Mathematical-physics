{
  "nbformat": 4,
  "nbformat_minor": 0,
  "metadata": {
    "colab": {
      "name": "CAP422 - FISMAT - HandsOn 02 - barauna-lo.ipynb",
      "provenance": [],
      "collapsed_sections": [],
      "authorship_tag": "ABX9TyMrbDrxyHHqKze2Q4zS7QRW",
      "include_colab_link": true
    },
    "kernelspec": {
      "name": "python3",
      "display_name": "Python 3"
    },
    "language_info": {
      "name": "python"
    }
  },
  "cells": [
    {
      "cell_type": "markdown",
      "metadata": {
        "id": "view-in-github",
        "colab_type": "text"
      },
      "source": [
        "<a href=\"https://colab.research.google.com/github/barauna-lo/Mathematical-physics/blob/main/CAP422_FISMAT_HandsOn_02_barauna_lo.ipynb\" target=\"_parent\"><img src=\"https://colab.research.google.com/assets/colab-badge.svg\" alt=\"Open In Colab\"/></a>"
      ]
    },
    {
      "cell_type": "markdown",
      "metadata": {
        "id": "2LRdXovJownd"
      },
      "source": [
        "<img src=https://raw.githubusercontent.com/barauna-lo/CAP4213-Deep-Learning/main/logoinpe.png>\n",
        "\n",
        "# Física Matematica Computacional\n",
        "## Hands On 02\n",
        "### Programa de Pós-Graduação em Computação Aplicada\n",
        "#### Luan Orion Baraúna\n",
        "\n",
        "## _Tópico 02 - DA ÁLGEBRA TENSORIAL AO TENSOR FLOW NA FÍSICA_\n",
        "\n"
      ]
    },
    {
      "cell_type": "markdown",
      "metadata": {
        "id": "G4RzyegItsrE"
      },
      "source": [
        "## Hands-On 2.1.: \n",
        "### Mostre que não faz sentido tratarmos um rank 4 no espaço euclidiano em física. E no espaço Riemanniano $(D=4)$? Calcule $N_c$ para o espaço $(+,+,+,- )$.\n",
        "\n",
        "No rank 4 $(R=4)$ em um espaço eucludiano, ou seja, tridimensional $(D=3), teremos que o numero de componentes será \n",
        "\n",
        "\\begin{equation}\n",
        "  N_c = D^R\n",
        "\\end{equation}\n"
      ]
    },
    {
      "cell_type": "code",
      "metadata": {
        "colab": {
          "base_uri": "https://localhost:8080/",
          "height": 38
        },
        "id": "36NDX-6bom8t",
        "outputId": "f25a741d-8240-4789-8848-eac57d7779b7"
      },
      "source": [
        "from sympy import *\n",
        "N_c ,D ,R = symbols('N_c D R')\n",
        "\n",
        "num_comp = Eq(N_c,D**R)\n",
        "display(num_comp)"
      ],
      "execution_count": null,
      "outputs": [
        {
          "output_type": "display_data",
          "data": {
            "text/latex": "$\\displaystyle N_{c} = D^{R}$",
            "text/plain": [
              "Eq(N_c, D**R)"
            ]
          },
          "metadata": {}
        }
      ]
    },
    {
      "cell_type": "code",
      "metadata": {
        "colab": {
          "base_uri": "https://localhost:8080/",
          "height": 56
        },
        "id": "lPZsnBhSuf60",
        "outputId": "d7f3042a-b67b-497a-92ba-4e2c749908b3"
      },
      "source": [
        "num_comp_euclid = num_comp.subs(R,4).subs(D,3)\n",
        "\n",
        "print('Numero de Componentes é para R = 4 e D = 4 é')\n",
        "num_comp_euclid"
      ],
      "execution_count": null,
      "outputs": [
        {
          "output_type": "stream",
          "name": "stdout",
          "text": [
            "Numero de Componentes é para R = 4 e D = 4 é\n"
          ]
        },
        {
          "output_type": "execute_result",
          "data": {
            "text/latex": "$\\displaystyle N_{c} = 81$",
            "text/plain": [
              "Eq(N_c, 81)"
            ]
          },
          "metadata": {},
          "execution_count": 3
        }
      ]
    },
    {
      "cell_type": "markdown",
      "metadata": {
        "id": "tV7L3VQP0-zU"
      },
      "source": [
        "Entretando este número de componentes só é valido quando $R \\le D$. Desta forma, este resultado nao faz sentido físico. "
      ]
    },
    {
      "cell_type": "markdown",
      "metadata": {
        "id": "u4MaQ6iB2_zK"
      },
      "source": [
        "_\"Riemannian geometry considers manifolds with the additional structure of a Riemannian metric, a type (0,2) positive definite symmetric tensor field. To a first order approximation this means that a Riemannian manifold is a Euclidean space: we can measure lengths of vectors and angles between them. Immediately we can define the length of curves by the usual integral, and then the distance between points comes from the glb of lengths of curves. Thus, Riemannian manifolds become metric spaces in the topological sense.\"_\n",
        "\n",
        "https://arxiv.org/abs/1303.5390\n",
        "\n",
        "A geometria Rimaniana é uma geometria que abarca um espaço curvo $N$-dimensional não necessariamente plana e é descritra atravéz do tensor de Riemman\n",
        "\n",
        "\n",
        "$${\\displaystyle {R_{ij}=R_{iaj}^{a}=\\partial _{b}\\Gamma _{ji}^{b}-\\partial _{j}\\Gamma _{bi}^{b}+\\Gamma _{bc}^{b}\\Gamma _{ji}^{c}-\\Gamma _{jc}^{b}\\Gamma _{bi}^{c}}}$$\n",
        "\n",
        "sendo o símbolo de Christoffel representado por\n",
        "\n",
        "$${\\displaystyle {\\Gamma _{\\alpha \\beta }^{\\rho }={\\frac {1}{2}}g^{\\rho \\lambda }(g_{\\alpha \\lambda ,\\beta }+g_{\\lambda \\beta ,\\alpha }-g_{\\beta \\alpha ,\\lambda })}}.\n",
        "$$\n",
        "\n",
        "e $g_{\\mu\\nu}$ representa a métrica do espaço em questão. Um espaço Riemmaniano representado por $(+,+,+-)$ representa uma matriz de curvatura em um espaço 4 dimensional tal que a mesma seja escrita como\n",
        "\n",
        "$$\n",
        "g_{\\mu\\nu} =  \\begin{bmatrix}\n",
        "g_{11}&g_{21}&g_{31}&g_{41}\\\\\n",
        "g_{12}&g_{22}&g_{32}&g_{42}\\\\\n",
        "g_{13}&g_{23}&g_{33}&g_{43}\\\\\n",
        "g_{14}&g_{24}&g_{34}&g_{44}\\\\\n",
        "\\end{bmatrix}\n",
        "$$\n",
        " \n",
        "Para um espaço de quadrimensional um tensor de rank 4 teria um numero de componentes igual a\n"
      ]
    },
    {
      "cell_type": "code",
      "metadata": {
        "colab": {
          "base_uri": "https://localhost:8080/",
          "height": 38
        },
        "id": "Na9JsYQPSMsp",
        "outputId": "29bb6512-13d9-47f0-b34e-1c6360b1237d"
      },
      "source": [
        "num_comp.subs(R,4).subs(D,4)"
      ],
      "execution_count": null,
      "outputs": [
        {
          "output_type": "execute_result",
          "data": {
            "text/latex": "$\\displaystyle N_{c} = 256$",
            "text/plain": [
              "Eq(N_c, 256)"
            ]
          },
          "metadata": {},
          "execution_count": 7
        }
      ]
    },
    {
      "cell_type": "markdown",
      "metadata": {
        "id": "vKqwamxVUCKj"
      },
      "source": [
        "## Hands-On 2.2.: \n",
        "### Explique, de forma sucinta, a diferença físico- matemática entre ‘Fasor” e “Spinor”. \n",
        "\n",
        "### Fasores\n",
        "\n",
        "Fasores ou vetores de fases, são vetores que possuem propriedades oscilatorios variando sua direção e seu sentido de acordo cum determinada frequência e de forma periódica. São descritos com funções senoidais e podem ser escritos no plano dos complexos por: \n",
        "\n",
        ":\n",
        "\n",
        "$${\\displaystyle A\\cdot \\cos(\\omega t+\\theta )=A\\cdot {\\frac {e^{i(\\omega t+\\theta )}+e^{-i(\\omega t+\\theta )}}{2}}}$$\n",
        "\n",
        "sendo as grandesas $A$, $\\omega$, $\\theta$ invariantes no tempo. \n",
        "\n",
        "De forma sucinta:\n",
        "\n",
        "_**Um fasor pode ser visto como um vetor de rotação sobre a origem em um plano complexo.**_ \n",
        "\n",
        "### Spinores\n",
        "\n",
        "Espinores são elementos mataticos que surgem da algebra de Clifoor e que mais tarde resolver o problema de spins semi inteiros na mecânica quantica. Ele se comporta semelhante ao um tensor porém sua tranformação não é exatamente a mesma. \n",
        "\n",
        "Na física, um tensor de rank 0 descreve um partículas de spin 0 como os mésons, os tensores de rank 1 descrevem os fótons por exemplo. Entretando partículas como os elétrons que possuem spins semi inteiros são descritos por esses elementos matematicos chamados de espinores. \n",
        "\n",
        "<img src=\"https://upload.wikimedia.org//wikipedia/commons/thumb/c/c1/Spinor_on_the_circle.png/330px-Spinor_on_the_circle.png\" width = 300>\n",
        "\n",
        "_Na imagem acima Um spinor visualizado como um vetor apontando ao longo da banda de Möbius , exibindo uma inversão de sinal quando o círculo (o \"sistema físico\") é continuamente girado por uma volta completa de 360 ​​°.\n",
        "https://stringfixer.com/pt/Spinor"
      ]
    },
    {
      "cell_type": "markdown",
      "metadata": {
        "id": "IPx_c1h1c6J4"
      },
      "source": [
        "## Hands-On 2.3.: \n",
        "### Dê exemplos de quantidades físicas que são tensores rank3. E tente explicar, de forma sucinta, porque as mesmas são tensoriais (consulte Livro de Apoio- Capítulo 4).\n",
        "\n",
        "* Tensor de condutividade da Lei de Ohm \n",
        "* Tensor de transformada de coordenadas \n",
        "* Tensor de distorção da métrica do espaço e do tempo (aplicado a ondas gravitacionais)\n",
        "* Tensor de Sisalhamento\n",
        "* Tensor Momento de Inercia\n",
        "\n",
        "Vamos analizar o caso do Tensor de condutividade da Lei de Ohm \n",
        "\n",
        "Expresso atravéz da 1ª lei de Ohm \n",
        "\n",
        "$$ \n",
        "V = R I \n",
        "$$\n",
        "\n",
        "podemos escreve a corrente a corrente em função de uma densidade de correntes\n",
        "\n",
        "$$\n",
        "\\vec{J} = \\sigma \\vec{E}\n",
        "$$\n",
        "\n",
        "Onde $\\sigma$ representa a condutividade do matérial. Entretanto, se o material da qual passar a corrente não for homogêneo devemos levar em consideração a direção vetorial da qual o campo elétrico esta sendo aplicado no matérial e como isso afetará a corrente elétrica de forma que seja mais conveniente escrever \n",
        "\n",
        "\n",
        "\\begin{equation}\n",
        "\\begin{bmatrix}\n",
        "J_1\\\\\n",
        "J_2\\\\\n",
        "J_3\\\\\n",
        "\\end{bmatrix} =\n",
        "\\begin{bmatrix}\n",
        "\\sigma_{11}&\\sigma_{21}&\\sigma_{31}\\\\\n",
        "\\sigma_{12}&\\sigma_{22}&\\sigma_{32}\\\\\n",
        "\\sigma_{13}&\\sigma_{23}&\\sigma_{33}\\\\\n",
        "\\end{bmatrix}\n",
        "\\begin{bmatrix}\n",
        "E_1\\\\\n",
        "E_2\\\\\n",
        "E_3\\\\\n",
        "\\end{bmatrix}\n",
        "\\end{equation}\n",
        "\n",
        "Entretanto as componente $\\sigma_{ij}$  não levam em consideração o sistema de coordenadas.\n",
        "\n",
        "Para que possamos escrever uma sistema físico invariante por trasformação de coordanadas devemos escrever todos os termos em função de suas coordanadas tal que $\\vec{E} = E_{i}$**ê**$_{i}$ e $\\vec{J} = J_{i}$**ê**$_{i}$. Dessa forma introduzimos o **TENSOR DE CONDUTIVIDADE** $\\bar{\\bar{\\sigma}} = \\sigma_{ij}$**ê**$_{i}$**ê**$_{i}$. \n",
        "\n",
        "**\"Este elemento matemático engloba as coordenadas e as componentes do sistema físico em questão caretecterizando-se como um tensor.\"**\n",
        "\n",
        "Esta mesma caracteristica é encontrada nos outro exemplos citados acima uma vez que podem todos serem escritos na notação tensorial\n",
        "\n",
        "$$\n",
        "T_{ijkl...} = \\text{ê}_{i}\\text{ê}_{j}\\text{ê}_{k}\\text{ê}_{l}...\n",
        "$$\n"
      ]
    },
    {
      "cell_type": "markdown",
      "metadata": {
        "id": "03OTxXhXSPL6"
      },
      "source": [
        "## Hands- On 2.4.: \n",
        "### Discuta o que são pseudo- objetos na álgebra tensorial e quais as diferenças entre pseudo- escalar, pseudo- vetores e pseudo- tensores _(consulte Livro de Apoio- Capítulo 4)_.\n",
        "\n",
        "Um pseudo vetor é um ente matamático que descreve um quantidade física derivada da relação entre dois vetores. Esse elemento, possui a caractristica de mudar o sinal da sua orientação de acordo com a direção dos vetores que o gereram. Ou sejam, eles acabam sendo ***variantes*** pode transformação.  \n",
        "\n",
        "Um exemplo disso é a velocidade angular $\\vec{\\omega}$ descrito como o produto vetorial do vetor posição $\\vec{r}$ e o vetor velocidade linear $\\vec{v}$\n",
        "\n",
        "$$\n",
        "\\vec{\\omega} = \\vec{r} \\times \\vec{v}\n",
        "$$\n",
        "\n",
        "\n",
        "\n",
        "<img src = \"https://qph.fs.quoracdn.net/main-qimg-3b31646f911badf615d5c090f096e403\" width = 300> \n",
        "\n",
        "Um outro exemplo dessa mudança de sentido dos pseudos vetores esta na descrição matemática do campo magnético $\\vec{B}$ como o produto vetorial do comprimento do fio $\\vec{l}$ e a direção da corrente elétrica $\\vec{I}$\n",
        "\n",
        "$$\n",
        "\\vec{B} = \\vec{l} \\times \\vec{I}\n",
        "$$\n",
        "\n",
        "<img src = \"https://upload.wikimedia.org/wikipedia/commons/thumb/2/20/BIsAPseudovector.svg/1920px-BIsAPseudovector.svg.png\" width = 400>\n",
        "\n",
        "#### Pseudo-escalares\n",
        "\n",
        "Analogamente aos pseudos vetores, os pseudos escalares são escalares que dependem das extrutura vetorial que o gera. O exemplo citado no livro texto é o calculo do volume de delimitado por 3 vetores $\\vec{A}$ $\\vec{B}$ e $\\vec{C}$ gerados onde o mesmo é gerado conforme mostra a imagem abaixo \n",
        "\n",
        "<img src=\"https://mathinsight.org/media/image/image/volume_parallelepiped.png\" width = 300> \n",
        "\n",
        "O volume gerado por esse paralelograma será descrito por\n",
        "\n",
        "$$\n",
        "V = (\\vec{A} \\times \\vec{B}) \\cdot \\vec{C}\n",
        "$$\n",
        "\n",
        "Observe que, para as regras de operação com vetores, se adotarmos a regra da não direita  \n",
        "\n",
        "$$\n",
        "(\\vec{A}\\times \\vec{B})\\cdot \\vec{C} > 0\n",
        "$$\n",
        "\n",
        "porém o sinal será contrário se a adotarmos a regra da mão esqueda o que representaria um volume negativo. Essa alteração no sentido categoriza o esse elemento matemático como um pseudo escalar. \n",
        "\n",
        "Analogamente, os **pseudos-tensores** estão associados a operação entre tensores da qual deve-se preservar a informações físicas originais do sistema tema de coordenadas. \n",
        "\n"
      ]
    },
    {
      "cell_type": "markdown",
      "metadata": {
        "id": "WCxA_LxbgJ_V"
      },
      "source": [
        "## Hands-On 2.5.: \n",
        "### Defina e discuta para que serve, dentro do escopo de funções tensoriais, o S ímbolo de Levi- Civitta e a função Delta de Kronec ker (Consulte livro de apoio, e visite o link abaixo e pratique implementando no Sympy o símbolo de Levi- Civitta e a Delta de Kronecker). Calcule no sympy o valor do produto $\\delta_{ij}\\delta_{ji}$ \n",
        "\n",
        "O simbolo de Livi-Civita é um termo de permutação. De forma resumida, se os termos serguiram uma ordem continua entre 1 a 3 podendo repetir-se o valor sera positivo. Caso haja alguma permutação entre esses termos eles será negavito e zero quando os temos vizinhos forem iguais confome segue abaixo\n",
        " \n",
        "$$\\epsilon _{ijk}=\\left\\{{\\begin{matrix}+1&{\\mbox{se }}(i,j,k){\\mbox{ é }}(1,2,3),(2,3,1){\\mbox{ ou }}(3,1,2)\\\\-1&{\\mbox{se }}(i,j,k){\\mbox{ é }}(3,2,1),(1,3,2){\\mbox{ ou }}(2,1,3)\\\\0&{\\mbox{de outra maneira: }}i=j{\\mbox{ ou }}j=k{\\mbox{ ou }}k=i\\end{matrix}}\\right.\n",
        "$$\n",
        "\n",
        "Uma das aplicações está na simplificação do notação do produto vetorial \n",
        "\n",
        "$$\n",
        "{\\displaystyle \\mathbf {a\\times b} ={\\begin{vmatrix}\\mathbf {e_{1}} &\\mathbf {e_{2}} &\\mathbf {e_{3}} \\\\a_{1}&a_{2}&a_{3}\\\\b_{1}&b_{2}&b_{3}\\\\\\end{vmatrix}}=\\sum _{i=1}^{3}\\left(\\sum _{j,k=1}^{3}\\epsilon _{ijk}a_{j}b_{k}\\right)\\mathbf {e} _{i}}\n",
        "$$\n",
        "\n",
        "Ja a *** delta de kroneker*** é uma notação matemática zerar indices diferentes, sua definição é \n",
        "\n",
        "\n",
        "\n",
        "Na matemática, o delta de Kronecker, assim chamado em honra a Leopold Kronecker, é a notação δ i j {\\displaystyle \\delta _{ij}} {\\displaystyle \\delta _{ij}} definida por:[1]\n",
        "\n",
        "$$\n",
        "{\\displaystyle \\delta _{ij}=\\left\\{{\\begin{matrix}1,&{\\mbox{se }}i=j\\\\0,&{\\mbox{se }}i\\neq j\\end{matrix}}\\right.}\n",
        "$$\n",
        "\n"
      ]
    },
    {
      "cell_type": "code",
      "metadata": {
        "id": "kZKnsyILkbyq"
      },
      "source": [
        "from sympy import DiracDelta, diff, pi\n",
        "\n",
        "from sympy.abc import x, y"
      ],
      "execution_count": 1,
      "outputs": []
    },
    {
      "cell_type": "code",
      "metadata": {
        "colab": {
          "base_uri": "https://localhost:8080/",
          "height": 39
        },
        "id": "qdP2Bl-Dkrmh",
        "outputId": "ad7c8384-24b6-41bc-9781-b5d5a8fedd26"
      },
      "source": [
        "DiracDelta(x,1).subs(x,x)"
      ],
      "execution_count": 26,
      "outputs": [
        {
          "output_type": "execute_result",
          "data": {
            "text/latex": "$\\displaystyle \\delta^{\\left( 1 \\right)}\\left( x \\right)$",
            "text/plain": [
              "DiracDelta(x, 1)"
            ]
          },
          "metadata": {},
          "execution_count": 26
        }
      ]
    },
    {
      "cell_type": "code",
      "metadata": {
        "colab": {
          "base_uri": "https://localhost:8080/",
          "height": 48
        },
        "id": "I_0t9Gub5Sl9",
        "outputId": "fe3f1cc1-bb04-4f48-f810-f41843e72ed4"
      },
      "source": [
        "diff(DiracDelta(x**2-1),x,2)"
      ],
      "execution_count": 22,
      "outputs": [
        {
          "output_type": "execute_result",
          "data": {
            "text/latex": "$\\displaystyle 2 \\left(2 x^{2} \\delta^{\\left( 2 \\right)}\\left( x^{2} - 1 \\right) + \\delta^{\\left( 1 \\right)}\\left( x^{2} - 1 \\right)\\right)$",
            "text/plain": [
              "2*(2*x**2*DiracDelta(x**2 - 1, 2) + DiracDelta(x**2 - 1, 1))"
            ]
          },
          "metadata": {},
          "execution_count": 22
        }
      ]
    },
    {
      "cell_type": "code",
      "metadata": {
        "colab": {
          "base_uri": "https://localhost:8080/",
          "height": 38
        },
        "id": "x9zOu9XF5wGp",
        "outputId": "5d134791-bc9e-4fef-e24a-f66f4d442e3d"
      },
      "source": [
        "DiracDelta(x)*DiracDelta(y)"
      ],
      "execution_count": 28,
      "outputs": [
        {
          "output_type": "execute_result",
          "data": {
            "text/latex": "$\\displaystyle \\delta\\left(x\\right) \\delta\\left(y\\right)$",
            "text/plain": [
              "DiracDelta(x)*DiracDelta(y)"
            ]
          },
          "metadata": {},
          "execution_count": 28
        }
      ]
    },
    {
      "cell_type": "code",
      "metadata": {
        "id": "RzGY7lTB7UuX"
      },
      "source": [
        ""
      ],
      "execution_count": null,
      "outputs": []
    }
  ]
}