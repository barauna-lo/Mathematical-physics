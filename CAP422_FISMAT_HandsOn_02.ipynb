{
  "nbformat": 4,
  "nbformat_minor": 0,
  "metadata": {
    "colab": {
      "name": "CAP422 FISMAT HandsOn 02.ipynb",
      "provenance": [],
      "collapsed_sections": [],
      "authorship_tag": "ABX9TyNuWZyFKGt5kOtrAZE608cp",
      "include_colab_link": true
    },
    "kernelspec": {
      "name": "python3",
      "display_name": "Python 3"
    },
    "language_info": {
      "name": "python"
    }
  },
  "cells": [
    {
      "cell_type": "markdown",
      "metadata": {
        "id": "view-in-github",
        "colab_type": "text"
      },
      "source": [
        "<a href=\"https://colab.research.google.com/github/barauna-lo/Mathematical-physics/blob/main/CAP422_FISMAT_HandsOn_02.ipynb\" target=\"_parent\"><img src=\"https://colab.research.google.com/assets/colab-badge.svg\" alt=\"Open In Colab\"/></a>"
      ]
    },
    {
      "cell_type": "markdown",
      "metadata": {
        "id": "2LRdXovJownd"
      },
      "source": [
        "<img src=https://raw.githubusercontent.com/barauna-lo/CAP4213-Deep-Learning/main/logoinpe.png>\n",
        "\n",
        "# Física Matematica Computacional\n",
        "## Hands On 02\n",
        "### Programa de Pós-Graduação em Computação Aplicada\n",
        "#### Luan Orion Baraúna\n",
        "\n",
        "## _Tópico 02 - DA ÁLGEBRA TENSORIAL AO TENSOR FLOW NA FÍSICA_\n",
        "\n"
      ]
    },
    {
      "cell_type": "markdown",
      "metadata": {
        "id": "G4RzyegItsrE"
      },
      "source": [
        "## Hands-On 2.1.: \n",
        "### Mostre que não faz sentido tratarmos um rank 4 no espaço euclidiano em física. E no espaço Riemanniano $(D=4)$? Calcule $N_c$ para o espaço $(+,+,+,- )$.\n",
        "\n",
        "No rank 4 $(R=4)$ em um espaço eucludiano, ou seja, tridimensional $(D=3), teremos que o numero de componentes será \n",
        "\n",
        "\\begin{equation}\n",
        "  N_c = D^R\n",
        "\\end{equation}\n"
      ]
    },
    {
      "cell_type": "code",
      "metadata": {
        "colab": {
          "base_uri": "https://localhost:8080/",
          "height": 38
        },
        "id": "36NDX-6bom8t",
        "outputId": "91d600a7-4423-4c8c-c8e6-9e68d6293284"
      },
      "source": [
        "from sympy import *\n",
        "N_c ,D ,R = symbols('N_c D R')\n",
        "\n",
        "num_comp = Eq(N_c,D**R)\n",
        "display(num_comp)"
      ],
      "execution_count": 1,
      "outputs": [
        {
          "output_type": "display_data",
          "data": {
            "text/latex": "$\\displaystyle N_{c} = D^{R}$",
            "text/plain": [
              "Eq(N_c, D**R)"
            ]
          },
          "metadata": {}
        }
      ]
    },
    {
      "cell_type": "code",
      "metadata": {
        "colab": {
          "base_uri": "https://localhost:8080/",
          "height": 56
        },
        "id": "lPZsnBhSuf60",
        "outputId": "f463bf06-78bd-4e23-9510-30b7d891755f"
      },
      "source": [
        "num_comp_euclid = num_comp.subs(R,4).subs(D,3)\n",
        "\n",
        "print('Numero de Componentes é para R = 4 e D = 4 é')\n",
        "num_comp_euclid"
      ],
      "execution_count": 2,
      "outputs": [
        {
          "output_type": "stream",
          "name": "stdout",
          "text": [
            "Numero de Componentes é para R = 4 e D = 4 é\n"
          ]
        },
        {
          "output_type": "execute_result",
          "data": {
            "text/latex": "$\\displaystyle N_{c} = 81$",
            "text/plain": [
              "Eq(N_c, 81)"
            ]
          },
          "metadata": {},
          "execution_count": 2
        }
      ]
    },
    {
      "cell_type": "markdown",
      "metadata": {
        "id": "tV7L3VQP0-zU"
      },
      "source": [
        "Entretando este número de componentes só é valido quando $R \\le D$. Desta forma, este resultado nao faz sentido físico. "
      ]
    },
    {
      "cell_type": "markdown",
      "metadata": {
        "id": "u4MaQ6iB2_zK"
      },
      "source": [
        "_\"Riemannian geometry considers manifolds with the additional structure of a Riemannian metric, a type (0,2) positive definite symmetric tensor field. To a first order approximation this means that a Riemannian manifold is a Euclidean space: we can measure lengths of vectors and angles between them. Immediately we can define the length of curves by the usual integral, and then the distance between points comes from the glb of lengths of curves. Thus, Riemannian manifolds become metric spaces in the topological sense.\"_\n",
        "\n",
        "https://arxiv.org/abs/1303.5390\n",
        "\n",
        "A geometria Rimaniana é uma geometria que abarca um espaço curvo $N$-dimensional não necessariamente plana e é descritra atravéz do tensor de Riemman\n",
        "\n",
        "\n",
        "$${\\displaystyle {R_{ij}=R_{iaj}^{a}=\\partial _{b}\\Gamma _{ji}^{b}-\\partial _{j}\\Gamma _{bi}^{b}+\\Gamma _{bc}^{b}\\Gamma _{ji}^{c}-\\Gamma _{jc}^{b}\\Gamma _{bi}^{c}}}$$\n",
        "\n",
        "sendo o símbolo de Christoffel representado por\n",
        "\n",
        "$${\\displaystyle {\\Gamma _{\\alpha \\beta }^{\\rho }={\\frac {1}{2}}g^{\\rho \\lambda }(g_{\\alpha \\lambda ,\\beta }+g_{\\lambda \\beta ,\\alpha }-g_{\\beta \\alpha ,\\lambda })}}.\n",
        "$$\n",
        "\n",
        "e $g_{\\mu\\nu}$ representa a métrica do espaço em questão. Um espaço Riemmaniano representado por $(+,+,+-)$ representa uma matriz de curvatura em um espaço 4 dimensional tal que a mesma seja escrita como\n",
        "\n",
        "$$\n",
        "g_{\\mu\\nu} =  \\begin{bmatrix}\n",
        "g_{11}&g_{21}&g_{31}&g_{41}\\\\\n",
        "g_{12}&g_{22}&g_{32}&g_{42}\\\\\n",
        "g_{13}&g_{23}&g_{33}&g_{43}\\\\\n",
        "g_{14}&g_{24}&g_{34}&g_{44}\\\\\n",
        "\\end{bmatrix}\n",
        "$$\n",
        " \n",
        "Para um espaço de quadrimensional um tensor de rank 4 teria um numero de componentes igual a\n"
      ]
    },
    {
      "cell_type": "code",
      "metadata": {
        "colab": {
          "base_uri": "https://localhost:8080/",
          "height": 38
        },
        "id": "Na9JsYQPSMsp",
        "outputId": "24bb2f0c-24a7-4543-eee9-c600eefd3e07"
      },
      "source": [
        "num_comp.subs(R,4).subs(D,4)"
      ],
      "execution_count": 3,
      "outputs": [
        {
          "output_type": "execute_result",
          "data": {
            "text/latex": "$\\displaystyle N_{c} = 256$",
            "text/plain": [
              "Eq(N_c, 256)"
            ]
          },
          "metadata": {},
          "execution_count": 3
        }
      ]
    },
    {
      "cell_type": "markdown",
      "metadata": {
        "id": "vKqwamxVUCKj"
      },
      "source": [
        "## Hands-On 2.2.: \n",
        "### Explique, de forma sucinta, a diferença físico- matemática entre ‘Fasor” e “Spinor”. \n",
        "\n",
        "### Fasores\n",
        "\n",
        "Fasores ou vetores de fases, são vetores que possuem propriedades oscilatorios variando sua direção e seu sentido de acordo cum determinada frequência e de forma periódica. São descritos com funções senoidais e podem ser escritos no plano dos complexos por: \n",
        "\n",
        ":\n",
        "\n",
        "$${\\displaystyle A\\cdot \\cos(\\omega t+\\theta )=A\\cdot {\\frac {e^{i(\\omega t+\\theta )}+e^{-i(\\omega t+\\theta )}}{2}}}$$\n",
        "\n",
        "sendo as grandesas $A$, $\\omega$, $\\theta$ invariantes no tempo. \n",
        "\n",
        "De forma sucinta:\n",
        "\n",
        "_**Um fasor pode ser visto como um vetor de rotação sobre a origem em um plano complexo.**_ \n",
        "\n",
        "### Spinores\n",
        "\n",
        "Espinores são elementos mataticos que surgem da algebra de Clifoor e que mais tarde resolver o problema de spins semi inteiros na mecânica quantica. Ele se comporta semelhante ao um tensor porém sua tranformação não é exatamente a mesma. \n",
        "\n",
        "Na física, um tensor de rank 0 descreve um partículas de spin 0 como os mésons, os tensores de rank 1 descrevem os fótons por exemplo. Entretando partículas como os elétrons que possuem spins semi inteiros são descritos por esses elementos matematicos chamados de espinores. \n",
        "\n",
        "<img src=\"https://upload.wikimedia.org//wikipedia/commons/thumb/c/c1/Spinor_on_the_circle.png/330px-Spinor_on_the_circle.png\" width = 300>\n",
        "\n",
        "_Na imagem acima Um spinor visualizado como um vetor apontando ao longo da banda de Möbius , exibindo uma inversão de sinal quando o círculo (o \"sistema físico\") é continuamente girado por uma volta completa de 360 ​​°.\n",
        "https://stringfixer.com/pt/Spinor"
      ]
    },
    {
      "cell_type": "markdown",
      "metadata": {
        "id": "IPx_c1h1c6J4"
      },
      "source": [
        "## Hands-On 2.3.: \n",
        "### Dê exemplos de quantidades físicas que são tensores rank3. E tente explicar, de forma sucinta, porque as mesmas são tensoriais (consulte Livro de Apoio- Capítulo 4).\n",
        "\n",
        "* Tensor de condutividade da Lei de Ohm \n",
        "* Tensor de transformada de coordenadas \n",
        "* Tensor de distorção da métrica do espaço e do tempo (aplicado a ondas gravitacionais)\n",
        "* Tensor de Sisalhamento\n",
        "* Tensor Momento de Inercia\n",
        "\n",
        "Vamos analizar o caso do Tensor de condutividade da Lei de Ohm \n",
        "\n",
        "Expresso atravéz da 1ª lei de Ohm \n",
        "\n",
        "$$ \n",
        "V = R I \n",
        "$$\n",
        "\n",
        "podemos escreve a corrente a corrente em função de uma densidade de correntes\n",
        "\n",
        "$$\n",
        "\\vec{J} = \\sigma \\vec{E}\n",
        "$$\n",
        "\n",
        "Onde $\\sigma$ representa a condutividade do matérial. Entretanto, se o material da qual passar a corrente não for homogêneo devemos levar em consideração a direção vetorial da qual o campo elétrico esta sendo aplicado no matérial e como isso afetará a corrente elétrica de forma que seja mais conveniente escrever \n",
        "\n",
        "\n",
        "\\begin{equation}\n",
        "\\begin{bmatrix}\n",
        "J_1\\\\\n",
        "J_2\\\\\n",
        "J_3\\\\\n",
        "\\end{bmatrix} =\n",
        "\\begin{bmatrix}\n",
        "\\sigma_{11}&\\sigma_{21}&\\sigma_{31}\\\\\n",
        "\\sigma_{12}&\\sigma_{22}&\\sigma_{32}\\\\\n",
        "\\sigma_{13}&\\sigma_{23}&\\sigma_{33}\\\\\n",
        "\\end{bmatrix}\n",
        "\\begin{bmatrix}\n",
        "E_1\\\\\n",
        "E_2\\\\\n",
        "E_3\\\\\n",
        "\\end{bmatrix}\n",
        "\\end{equation}\n",
        "\n",
        "Entretanto as componente $\\sigma_{ij}$  não levam em consideração o sistema de coordenadas.\n",
        "\n",
        "Para que possamos escrever uma sistema físico invariante por trasformação de coordanadas devemos escrever todos os termos em função de suas coordanadas tal que $\\vec{E} = E_{i}$**ê**$_{i}$ e $\\vec{J} = J_{i}$**ê**$_{i}$. Dessa forma introduzimos o **TENSOR DE CONDUTIVIDADE** $\\bar{\\bar{\\sigma}} = \\sigma_{ij}$**ê**$_{i}$**ê**$_{i}$. \n",
        "\n",
        "**\"Este elemento matemático engloba as coordenadas e as componentes do sistema físico em questão caretecterizando-se como um tensor.\"**\n",
        "\n",
        "Esta mesma caracteristica é encontrada nos outro exemplos citados acima uma vez que podem todos serem escritos na notação tensorial\n",
        "\n",
        "$$\n",
        "T_{ijkl...} = \\text{ê}_{i}\\text{ê}_{j}\\text{ê}_{k}\\text{ê}_{l}...\n",
        "$$\n"
      ]
    },
    {
      "cell_type": "markdown",
      "metadata": {
        "id": "03OTxXhXSPL6"
      },
      "source": [
        "## Hands-On 2.4.: \n",
        "### Discuta o que são pseudo- objetos na álgebra tensorial e quais as diferenças entre pseudo- escalar, pseudo- vetores e pseudo- tensores _(consulte Livro de Apoio- Capítulo 4)_.\n",
        "\n",
        "Um pseudo vetor é um ente matamático que descreve um quantidade física derivada da relação entre dois vetores. Esse elemento, possui a caractristica de mudar o sinal da sua orientação de acordo com a direção dos vetores que o gereram. Ou sejam, eles acabam sendo ***variantes*** pode transformação.  \n",
        "\n",
        "Um exemplo disso é a velocidade angular $\\vec{\\omega}$ descrito como o produto vetorial do vetor posição $\\vec{r}$ e o vetor velocidade linear $\\vec{v}$\n",
        "\n",
        "$$\n",
        "\\vec{\\omega} = \\vec{r} \\times \\vec{v}\n",
        "$$\n",
        "\n",
        "\n",
        "\n",
        "<img src = \"https://qph.fs.quoracdn.net/main-qimg-3b31646f911badf615d5c090f096e403\" width = 300> \n",
        "\n",
        "Um outro exemplo dessa mudança de sentido dos pseudos vetores esta na descrição matemática do campo magnético $\\vec{B}$ como o produto vetorial do comprimento do fio $\\vec{l}$ e a direção da corrente elétrica $\\vec{I}$\n",
        "\n",
        "$$\n",
        "\\vec{B} = \\vec{l} \\times \\vec{I}\n",
        "$$\n",
        "\n",
        "<img src = \"https://upload.wikimedia.org/wikipedia/commons/thumb/2/20/BIsAPseudovector.svg/1920px-BIsAPseudovector.svg.png\" width = 400>\n",
        "\n",
        "#### Pseudo-escalares\n",
        "\n",
        "Analogamente aos pseudos vetores, os pseudos escalares são escalares que dependem das extrutura vetorial que o gera. O exemplo citado no livro texto é o calculo do volume de delimitado por 3 vetores $\\vec{A}$ $\\vec{B}$ e $\\vec{C}$ gerados onde o mesmo é gerado conforme mostra a imagem abaixo \n",
        "\n",
        "<img src=\"https://mathinsight.org/media/image/image/volume_parallelepiped.png\" width = 300> \n",
        "\n",
        "O volume gerado por esse paralelograma será descrito por\n",
        "\n",
        "$$\n",
        "V = (\\vec{A} \\times \\vec{B}) \\cdot \\vec{C}\n",
        "$$\n",
        "\n",
        "Observe que, para as regras de operação com vetores, se adotarmos a regra da não direita  \n",
        "\n",
        "$$\n",
        "(\\vec{A}\\times \\vec{B})\\cdot \\vec{C} > 0\n",
        "$$\n",
        "\n",
        "porém o sinal será contrário se a adotarmos a regra da mão esqueda o que representaria um volume negativo. Essa alteração no sentido categoriza o esse elemento matemático como um pseudo escalar. \n",
        "\n",
        "Analogamente, os **pseudos-tensores** estão associados a operação entre tensores da qual deve-se preservar a informações físicas originais do sistema tema de coordenadas. \n",
        "\n"
      ]
    },
    {
      "cell_type": "markdown",
      "metadata": {
        "id": "WCxA_LxbgJ_V"
      },
      "source": [
        "## Hands-On 2.5.: \n",
        "### Defina e discuta para que serve, dentro do escopo de funções tensoriais, o Símbolo de Levi- Civitta e a função Delta de Kronecker (Consulte livro de apoio, e visite o link abaixo e pratique implementando no Sympy o símbolo de Levi- Civitta e a Delta de Kronecker). Calcule no sympy o valor do produto $\\delta_{ij}\\delta_{ji}$ \n",
        "\n",
        "O simbolo de Livi-Civita é um termo de permutação. De forma resumida, se os termos serguiram uma ordem continua entre 1 a 3 podendo repetir-se o valor sera positivo. Caso haja alguma permutação entre esses termos eles será negavito e zero quando os temos vizinhos forem iguais confome segue abaixo\n",
        " \n",
        "$$\\epsilon _{ijk}=\\left\\{{\\begin{matrix}+1&{\\mbox{se }}(i,j,k){\\mbox{ é }}(1,2,3),(2,3,1){\\mbox{ ou }}(3,1,2)\\\\-1&{\\mbox{se }}(i,j,k){\\mbox{ é }}(3,2,1),(1,3,2){\\mbox{ ou }}(2,1,3)\\\\0&{\\mbox{de outra maneira: }}i=j{\\mbox{ ou }}j=k{\\mbox{ ou }}k=i\\end{matrix}}\\right.\n",
        "$$\n",
        "\n",
        "Uma das aplicações está na simplificação do notação do produto vetorial \n",
        "\n",
        "$$\n",
        "{\\displaystyle \\mathbf {a\\times b} ={\\begin{vmatrix}\\mathbf {e_{1}} &\\mathbf {e_{2}} &\\mathbf {e_{3}} \\\\a_{1}&a_{2}&a_{3}\\\\b_{1}&b_{2}&b_{3}\\\\\\end{vmatrix}}=\\sum _{i=1}^{3}\\left(\\sum _{j,k=1}^{3}\\epsilon _{ijk}a_{j}b_{k}\\right)\\mathbf {e} _{i}}\n",
        "$$\n",
        "\n",
        "Ja a *** delta de kroneker*** é uma notação matemática zerar indices diferentes, sua definição é \n",
        "\n",
        "\n",
        "\n",
        "Na matemática, o delta de Kronecker, assim chamado em honra a Leopold Kronecker, é a notação δ i j {\\displaystyle \\delta _{ij}} {\\displaystyle \\delta _{ij}} definida por:[1]\n",
        "\n",
        "$$\n",
        "{\\displaystyle \\delta _{ij}=\\left\\{{\\begin{matrix}1,&{\\mbox{se }}i=j\\\\0,&{\\mbox{se }}i\\neq j\\end{matrix}}\\right.}\n",
        "$$\n",
        "\n"
      ]
    },
    {
      "cell_type": "markdown",
      "metadata": {
        "id": "bUvFQo57WF8q"
      },
      "source": [
        "Usando o [módudo](https://docs.sympy.org/latest/modules/functions/special.html#sympy.functions.special.tensor_functions.KroneckerDelta) ```KroneckerDelta```"
      ]
    },
    {
      "cell_type": "code",
      "metadata": {
        "id": "KgcuTUjxV95Q",
        "colab": {
          "base_uri": "https://localhost:8080/",
          "height": 37
        },
        "outputId": "621a4c80-b11f-4690-91c7-4be9caa61d09"
      },
      "source": [
        "from sympy.functions.special.tensor_functions import KroneckerDelta\n",
        "\n",
        "KroneckerDelta(1, 2)\n"
      ],
      "execution_count": 4,
      "outputs": [
        {
          "output_type": "execute_result",
          "data": {
            "text/latex": "$\\displaystyle 0$",
            "text/plain": [
              "0"
            ]
          },
          "metadata": {},
          "execution_count": 4
        }
      ]
    },
    {
      "cell_type": "markdown",
      "metadata": {
        "id": "rB27BgatWqY0"
      },
      "source": [
        "Calculando o produnto entre as $\\delta_{ij}\\delta_{ji}$"
      ]
    },
    {
      "cell_type": "code",
      "metadata": {
        "id": "qJZrZeKKWQTq",
        "colab": {
          "base_uri": "https://localhost:8080/",
          "height": 38
        },
        "outputId": "baf0461f-1c6b-4b56-fe18-0bc2ae8497e5"
      },
      "source": [
        "from sympy.abc import i, j\n",
        "\n",
        "KroneckerDelta(i, j)*KroneckerDelta(j, i)"
      ],
      "execution_count": 5,
      "outputs": [
        {
          "output_type": "execute_result",
          "data": {
            "text/latex": "$\\displaystyle \\delta_{i j}$",
            "text/plain": [
              "KroneckerDelta(i, j)"
            ]
          },
          "metadata": {},
          "execution_count": 5
        }
      ]
    },
    {
      "cell_type": "markdown",
      "metadata": {
        "id": "uF6kSEeojjRI"
      },
      "source": [
        "## Hands-On 2.6\n",
        "### Construa no Sympy o seu notebook dessa aula prática. E tente resolver nele os seguintes exercícios:"
      ]
    },
    {
      "cell_type": "markdown",
      "metadata": {
        "id": "PfxqNNQGjxJ2"
      },
      "source": [
        "#### 2.6.1 Construa no Sympy o Símbolo de Levi-Civitta (SLC) e mostre que ele é um pseudo tensor (veja páginas 91 e 92 do Livro de Apoio).\n",
        "\n",
        "Para a construção do Símbolo de Levi-Civitta podemos utilizar o [módulo](https://docs.sympy.org/latest/modules/functions/special.html#sympy.functions.special.tensor_functions.LeviCivita) ```LeviCivita``` disponível na biblioteca do Sympy. \n",
        "\n",
        "Simbolicamente temos que  \n",
        "\n",
        "$$\n",
        "\\epsilon _{123} = 1\n",
        "$$\n"
      ]
    },
    {
      "cell_type": "code",
      "metadata": {
        "id": "0klmIlQUkpXB",
        "colab": {
          "base_uri": "https://localhost:8080/",
          "height": 37
        },
        "outputId": "4da367d1-ab84-44d7-b62f-128eff6e573e"
      },
      "source": [
        "from sympy import LeviCivita\n",
        "from sympy.abc import i, j, k\n",
        "\n",
        "LeviCivita(1, 2, 3)"
      ],
      "execution_count": 6,
      "outputs": [
        {
          "output_type": "execute_result",
          "data": {
            "text/latex": "$\\displaystyle 1$",
            "text/plain": [
              "1"
            ]
          },
          "metadata": {},
          "execution_count": 6
        }
      ]
    },
    {
      "cell_type": "markdown",
      "metadata": {
        "id": "IDf_WD0-lEM8"
      },
      "source": [
        "$$\n",
        "\\epsilon_{1,3,2} = -1\n",
        "$$"
      ]
    },
    {
      "cell_type": "code",
      "metadata": {
        "id": "cUn2oS7JkpTj",
        "colab": {
          "base_uri": "https://localhost:8080/",
          "height": 37
        },
        "outputId": "27a7029d-be04-4ed1-9f44-2535e5865af6"
      },
      "source": [
        "LeviCivita(1, 3, 2)"
      ],
      "execution_count": 7,
      "outputs": [
        {
          "output_type": "execute_result",
          "data": {
            "text/latex": "$\\displaystyle -1$",
            "text/plain": [
              "-1"
            ]
          },
          "metadata": {},
          "execution_count": 7
        }
      ]
    },
    {
      "cell_type": "markdown",
      "metadata": {
        "id": "TRf9miLWlb7u"
      },
      "source": [
        "Para um caso genérico, podemos escrever o Levi Civita em função de um $i,j,k$ qualquer"
      ]
    },
    {
      "cell_type": "code",
      "metadata": {
        "id": "sUiO6pKUlbTi",
        "colab": {
          "base_uri": "https://localhost:8080/",
          "height": 38
        },
        "outputId": "393fdc81-e57f-41c9-b654-da884e61c5bd"
      },
      "source": [
        "LeviCivita(i, j, k)"
      ],
      "execution_count": 8,
      "outputs": [
        {
          "output_type": "execute_result",
          "data": {
            "text/latex": "$\\displaystyle \\varepsilon_{i j k}$",
            "text/plain": [
              "LeviCivita(i, j, k)"
            ]
          },
          "metadata": {},
          "execution_count": 8
        }
      ]
    },
    {
      "cell_type": "markdown",
      "metadata": {
        "id": "ra8A3KZTmsO6"
      },
      "source": [
        "E podemos tambem substituir esses termos na função ☺"
      ]
    },
    {
      "cell_type": "code",
      "metadata": {
        "id": "xxYPhjnOmXES",
        "colab": {
          "base_uri": "https://localhost:8080/",
          "height": 37
        },
        "outputId": "bccde72c-3236-4f1b-e7f5-d198eeceec78"
      },
      "source": [
        "LeviCivita(i, j, k).subs(i,1).subs(j,2).subs(k,3)"
      ],
      "execution_count": 9,
      "outputs": [
        {
          "output_type": "execute_result",
          "data": {
            "text/latex": "$\\displaystyle 1$",
            "text/plain": [
              "1"
            ]
          },
          "metadata": {},
          "execution_count": 9
        }
      ]
    },
    {
      "cell_type": "markdown",
      "metadata": {
        "id": "NdIu7M0sm78H"
      },
      "source": [
        "Vamos alocar o termo de Levi-Civita em uma variavel e realizar a operação desejada"
      ]
    },
    {
      "cell_type": "code",
      "metadata": {
        "id": "g5ivd2CxnQ6D"
      },
      "source": [
        "SLC = LeviCivita(i, j, k)"
      ],
      "execution_count": 10,
      "outputs": []
    },
    {
      "cell_type": "markdown",
      "metadata": {
        "id": "WyCUlCO9n-y9"
      },
      "source": [
        "#### 2.6.2: Escreva no sympy a importante relação entre DK e SLC.\n",
        "\n",
        "$$\n",
        "\\sum_{k=1}^3 \\epsilon_{ijk} \\epsilon_{klm} = \\delta_{il} \\delta_{jm} - \\delta_{im} \\delta_{jl}\n",
        "$$"
      ]
    },
    {
      "cell_type": "code",
      "metadata": {
        "id": "kZKnsyILkbyq",
        "colab": {
          "base_uri": "https://localhost:8080/",
          "height": 38
        },
        "outputId": "7bc95c93-f3e2-410a-dd76-274281c42a31"
      },
      "source": [
        "from sympy.abc import k, l, m\n",
        "\n",
        "LeviCivita(i, j, k) * LeviCivita(k, l, m)"
      ],
      "execution_count": 11,
      "outputs": [
        {
          "output_type": "execute_result",
          "data": {
            "text/latex": "$\\displaystyle \\varepsilon_{i j k} \\varepsilon_{k l m}$",
            "text/plain": [
              "LeviCivita(i, j, k)*LeviCivita(k, l, m)"
            ]
          },
          "metadata": {},
          "execution_count": 11
        }
      ]
    },
    {
      "cell_type": "code",
      "metadata": {
        "id": "qdP2Bl-Dkrmh",
        "colab": {
          "base_uri": "https://localhost:8080/",
          "height": 38
        },
        "outputId": "4aafa9cc-ac1b-4c67-a8c6-d726f232bc2d"
      },
      "source": [
        "#Lets writh the left hand of the identety\n",
        "sum = LeviCivita(i, j, 1) * LeviCivita(1, l, m) +LeviCivita(i, j, 2) * LeviCivita(k, l, 2) + LeviCivita(i, j, 3) * LeviCivita(3, l, m)\n",
        "sum"
      ],
      "execution_count": 12,
      "outputs": [
        {
          "output_type": "execute_result",
          "data": {
            "text/latex": "$\\displaystyle \\varepsilon_{1 l m} \\varepsilon_{i j 1} + \\varepsilon_{3 l m} \\varepsilon_{i j 3} + \\varepsilon_{i j 2} \\varepsilon_{k l 2}$",
            "text/plain": [
              "LeviCivita(1, l, m)*LeviCivita(i, j, 1) + LeviCivita(3, l, m)*LeviCivita(i, j, 3) + LeviCivita(i, j, 2)*LeviCivita(k, l, 2)"
            ]
          },
          "metadata": {},
          "execution_count": 12
        }
      ]
    },
    {
      "cell_type": "code",
      "metadata": {
        "id": "6JFrU2B0XBQL",
        "colab": {
          "base_uri": "https://localhost:8080/",
          "height": 38
        },
        "outputId": "d08a5353-72dd-4468-e31f-8cd6bb08f8c1"
      },
      "source": [
        "#Now we write the rigth hand\n",
        "delta = KroneckerDelta(i, l)*KroneckerDelta(j, m) - KroneckerDelta(i, m)*KroneckerDelta(j, l)\n",
        "delta"
      ],
      "execution_count": 13,
      "outputs": [
        {
          "output_type": "execute_result",
          "data": {
            "text/latex": "$\\displaystyle \\delta_{i l} \\delta_{j m} - \\delta_{i m} \\delta_{j l}$",
            "text/plain": [
              "KroneckerDelta(i, l)*KroneckerDelta(j, m) - KroneckerDelta(i, m)*KroneckerDelta(j, l)"
            ]
          },
          "metadata": {},
          "execution_count": 13
        }
      ]
    },
    {
      "cell_type": "code",
      "metadata": {
        "id": "N-4QwvLhi4W7",
        "colab": {
          "base_uri": "https://localhost:8080/"
        },
        "outputId": "955fc13f-a3bc-45c8-f288-8908928fa5d5"
      },
      "source": [
        "#chekink for some value of i,j,k,l\n",
        "ind_i,ind_j,ind_l,ind_m = 1,2,1,2\n",
        "sum.subs(i,ind_i).subs(j,ind_j).subs(l,ind_l).subs(m,ind_m) == delta.subs(i,ind_i).subs(j,ind_j).subs(l,ind_l).subs(m,ind_m)"
      ],
      "execution_count": 14,
      "outputs": [
        {
          "output_type": "execute_result",
          "data": {
            "text/plain": [
              "True"
            ]
          },
          "metadata": {},
          "execution_count": 14
        }
      ]
    },
    {
      "cell_type": "markdown",
      "metadata": {
        "id": "PtfkKDrMZZED"
      },
      "source": [
        "### 2.6.3.: Exercícios do Livro de Apoio"
      ]
    },
    {
      "cell_type": "markdown",
      "metadata": {
        "id": "D90BYletbm5r"
      },
      "source": [
        "#### Convert the following Cartesian, subscript/summation expressions into vector notation: \n",
        "\n",
        "1. $V_iA_jB_i\\hat{e}_j$ \n",
        "2. $cA_iB_j\\delta_{ij}$\n",
        "3. $A_lB_j\\hat{e}_k\\epsilon_{ijk}\\delta_{li}$\n",
        "4. $A_iB_jC_lD_m\\epsilon_{ijk}\\epsilon_{lmk}$"
      ]
    },
    {
      "cell_type": "markdown",
      "metadata": {
        "id": "bpO8qdtshXFW"
      },
      "source": [
        "Para esse exercício usaremos o [módulo](https://docs.sympy.org/latest/modules/vector/basics.html) ```CoordSys3d``` do ```sympy.vector``` "
      ]
    },
    {
      "cell_type": "code",
      "metadata": {
        "id": "V3qbx0CCcBA-"
      },
      "source": [
        "#Vamos definir alguss vetores \n",
        "Vi, Vj, Vk = symbols('V_i V_j V_k')\n",
        "Ai, Aj, Ak = symbols('A_i A_j A_k')\n",
        "Bi, Bj, Bk = symbols('B_i B_j B_k')\n",
        "Ci, Cj, Ck = symbols('C_i C_j C_k')\n",
        "Di, Dj, Dk = symbols('D_i D_j D_k')\n",
        "c          = symbols('c')\n",
        "\n",
        "from sympy.vector import CoordSys3D, dot\n",
        "N = CoordSys3D('N')\n",
        "\n",
        "#Podemos definir os vetores com numeros\n",
        "V =  3*N.i  + 5*N.j + 2*N.k\n",
        "A =  3*N.i  + 2*N.j - 1*N.k\n",
        "B = -1*N.i  - 9*N.j + 3*N.k\n",
        "C =  8*N.i  + 3*N.j - 9*N.k\n",
        "D = -1*N.i  - 1*N.j + 9*N.k\n",
        "\n",
        "#Podemos definir os vetores com variáveis genéricas\n",
        "\n",
        "V =  Vi*N.i  + Vj*N.j + Vk*N.k\n",
        "A =  Ai*N.i  + Aj*N.j + Ak*N.k\n",
        "B =  Bi*N.i  + Bj*N.j + Bk*N.k\n",
        "C =  Ci*N.i  + Cj*N.j + Ck*N.k\n",
        "D =  Di*N.i  + Dj*N.j + Dk*N.k\n",
        "\n"
      ],
      "execution_count": 41,
      "outputs": []
    },
    {
      "cell_type": "markdown",
      "metadata": {
        "id": "dR--WXhw1CqB"
      },
      "source": [
        "1. \n",
        "$$\n",
        "V_iA_jB_i\\hat{e}_j\n",
        "$$"
      ]
    },
    {
      "cell_type": "code",
      "metadata": {
        "colab": {
          "base_uri": "https://localhost:8080/",
          "height": 39
        },
        "id": "dLsjZs6tz0La",
        "outputId": "8fd66d8f-b038-495f-ac83-4fb193663106"
      },
      "source": [
        "# Obs.:\n",
        "#Podemos utilizar o comando .subs(vi.3) para substituir o valor de vi, ou definir o vetor ja com os valores pre dertminados.\n",
        "dot(V, N.i)*dot(A, N.j)*dot(B, N.i)*N.j"
      ],
      "execution_count": 43,
      "outputs": [
        {
          "output_type": "execute_result",
          "data": {
            "text/latex": "$\\displaystyle (A_{j} B_{i} V_{i})\\mathbf{\\hat{j}_{N}}$",
            "text/plain": [
              "A_j*B_i*V_i*N.j"
            ]
          },
          "metadata": {},
          "execution_count": 43
        }
      ]
    },
    {
      "cell_type": "markdown",
      "metadata": {
        "id": "WoBKAANN55Dc"
      },
      "source": [
        "2. \n",
        "$$\n",
        "cA_iB_j\\delta_{ij}\n",
        "$$"
      ]
    },
    {
      "cell_type": "code",
      "metadata": {
        "colab": {
          "base_uri": "https://localhost:8080/",
          "height": 38
        },
        "id": "1Mm-J1A957_y",
        "outputId": "76d8e364-f0ee-48c7-ae6f-fc26a08ea08b"
      },
      "source": [
        "c*dot(A, N.i)*dot(B, N.j)*KroneckerDelta(i, j)"
      ],
      "execution_count": 45,
      "outputs": [
        {
          "output_type": "execute_result",
          "data": {
            "text/latex": "$\\displaystyle A_{i} B_{j} c \\delta_{i j}$",
            "text/plain": [
              "A_i*B_j*c*KroneckerDelta(i, j)"
            ]
          },
          "metadata": {},
          "execution_count": 45
        }
      ]
    },
    {
      "cell_type": "markdown",
      "metadata": {
        "id": "vz0Gq-pe67h7"
      },
      "source": [
        "3. \n",
        "$$\n",
        "A_lB_j\\hat{e}_k\\epsilon_{ijk}\\delta_{li}\n",
        "$$"
      ]
    },
    {
      "cell_type": "code",
      "metadata": {
        "colab": {
          "base_uri": "https://localhost:8080/",
          "height": 236
        },
        "id": "jA8WaJO369_p",
        "outputId": "92c1f8dc-8aed-46c1-c4c0-0143f27c6392"
      },
      "source": [
        "print(\"for these exemple we canot write a basis N.l, and we have a kronejerDelta in runing in 'l' and 'i'\")\n",
        "print(\"thats means only l = i could be in the vector\\n\")\n",
        "\n",
        "display(dot(A, N.i)*dot(B, N.i)*N.k)\n",
        "\n",
        "print(\"\\nBut the Levi-Civit implys that two igual terms will be zero\\n\")\n",
        "\n",
        "display(LeviCivita(i,i,k))\n",
        "\n",
        "print(\"\\nThe complet equation fot l = i will be\\n\")\n",
        "\n",
        "display(dot(A, N.i)*dot(B, N.i)*N.k*LeviCivita(i,i,k))"
      ],
      "execution_count": 73,
      "outputs": [
        {
          "output_type": "stream",
          "name": "stdout",
          "text": [
            "for these exemple we canot write a basis N.l, and we have a kronejerDelta in runing in 'l' and 'i'\n",
            "thats means only l = i could be in the vector\n",
            "\n"
          ]
        },
        {
          "output_type": "display_data",
          "data": {
            "text/latex": "$\\displaystyle (A_{i} B_{i})\\mathbf{\\hat{k}_{N}}$",
            "text/plain": [
              "A_i*B_i*N.k"
            ]
          },
          "metadata": {}
        },
        {
          "output_type": "stream",
          "name": "stdout",
          "text": [
            "\n",
            "But the Levi-Civit implys that two igual terms will be zero\n",
            "\n"
          ]
        },
        {
          "output_type": "display_data",
          "data": {
            "text/latex": "$\\displaystyle 0$",
            "text/plain": [
              "0"
            ]
          },
          "metadata": {}
        },
        {
          "output_type": "stream",
          "name": "stdout",
          "text": [
            "\n",
            "The complet equation fot l = i will be\n",
            "\n"
          ]
        },
        {
          "output_type": "display_data",
          "data": {
            "text/latex": "$\\displaystyle \\mathbf{\\hat{0}}$",
            "text/plain": [
              "0"
            ]
          },
          "metadata": {}
        }
      ]
    },
    {
      "cell_type": "markdown",
      "metadata": {
        "id": "wAo54Ok39PZD"
      },
      "source": [
        "4.  \n",
        " $$\n",
        " A_iB_jC_lD_m\\epsilon_{ijk}\\epsilon_{lmk}\n",
        " $$"
      ]
    },
    {
      "cell_type": "code",
      "metadata": {
        "id": "zis00LPU9Rj0"
      },
      "source": [
        "# How to rum for diferents basis\n",
        "#dot(A, N.i)*dot(B, N.j)*dot(C)"
      ],
      "execution_count": null,
      "outputs": []
    },
    {
      "cell_type": "markdown",
      "metadata": {
        "id": "uYYukZPZr4wu"
      },
      "source": [
        "#### Expand each of the following expressions by explicitly writing out all the terms in the implied summations. Assume $(i, j, k)$ can each take on the values $(1,2,3)$.\n",
        "\n",
        "1. $\\delta_{ij}\\epsilon_{ijk}$\n",
        "2. $T_{ij}A_j$\n",
        "3. $\\delta_{ij}T_{ij}A_i$\n",
        "\n",
        "\n"
      ]
    },
    {
      "cell_type": "markdown",
      "metadata": {
        "id": "cJtvDlvN_6K4"
      },
      "source": [
        " 1. \n",
        " $$\n",
        " \\delta_{ij}\\epsilon_{ijk}\n",
        " $$"
      ]
    },
    {
      "cell_type": "code",
      "metadata": {
        "colab": {
          "base_uri": "https://localhost:8080/",
          "height": 131
        },
        "id": "VcmyInLD_8oH",
        "outputId": "84eb29de-1196-4330-d376-79c6f3863d68"
      },
      "source": [
        "display(KroneckerDelta(i,j)*LeviCivita(i,j,k))\n",
        "print(\"Fazendo i=1, j=2 e k=3\")\n",
        "display((KroneckerDelta(i,j)*LeviCivita(i,j,k)).subs(i,1).subs(j,2).subs(k,3))\n",
        "print(\"Para que não cancelemos a delta de Kroncker seja diferente de 0, i = j. E isso cancelaria o levi-civita\\nVamos fazer j = 1\")\n",
        "display((KroneckerDelta(i,j)*LeviCivita(i,j,k)).subs(i,1).subs(j,1).subs(k,3))"
      ],
      "execution_count": 74,
      "outputs": [
        {
          "output_type": "display_data",
          "data": {
            "text/latex": "$\\displaystyle \\varepsilon_{i j k} \\delta_{i j}$",
            "text/plain": [
              "LeviCivita(i, j, k)*KroneckerDelta(i, j)"
            ]
          },
          "metadata": {}
        },
        {
          "output_type": "stream",
          "name": "stdout",
          "text": [
            "Fazendo i=1, j=2 e k=3\n"
          ]
        },
        {
          "output_type": "display_data",
          "data": {
            "text/latex": "$\\displaystyle 0$",
            "text/plain": [
              "0"
            ]
          },
          "metadata": {}
        },
        {
          "output_type": "stream",
          "name": "stdout",
          "text": [
            "Para que não cancelemos a delta de Kroncker seja diferente de 0, i = j. E isso cancelaria o levi-civita\n",
            "Vamos fazer j = 1\n"
          ]
        },
        {
          "output_type": "display_data",
          "data": {
            "text/latex": "$\\displaystyle 0$",
            "text/plain": [
              "0"
            ]
          },
          "metadata": {}
        }
      ]
    },
    {
      "cell_type": "markdown",
      "metadata": {
        "id": "4OG6NG_8A5I1"
      },
      "source": [
        "2. $$T_{ij}A_j$$"
      ]
    },
    {
      "cell_type": "code",
      "metadata": {
        "colab": {
          "base_uri": "https://localhost:8080/",
          "height": 78
        },
        "id": "Ksr-pVt6XqpF",
        "outputId": "d7451fde-e546-49a1-c6f7-e926fd87a449"
      },
      "source": [
        "#Allocating the T_ij symbos\n",
        "T_11, T_12, T_13 = symbols('T_{11} T_{12} T_{13}')\n",
        "T_21, T_22, T_23 = symbols('T_{21} T_{22} T_{23}')\n",
        "T_31, T_32, T_33 = symbols('T_{31} T_{32} T_{33}')\n",
        "\n",
        "Prod = symbols(\"T_{ij}A_i\")\n",
        "\n",
        "#Allocating the A_i simblos\n",
        "A_1, A_2, A_3 = symbols('A_{1} A_{2} A_{3}')\n",
        "\n",
        "T = Matrix([[T_11, T_12, T_13],[T_21, T_22, T_23],[T_31, T_32, T_33]])\n",
        "A = Matrix([A_1, A_2, A_3])\n",
        "\n",
        "display(T*A)"
      ],
      "execution_count": 123,
      "outputs": [
        {
          "output_type": "display_data",
          "data": {
            "text/latex": "$\\displaystyle \\left[\\begin{matrix}A_{1} T_{11} + A_{2} T_{12} + A_{3} T_{13}\\\\A_{1} T_{21} + A_{2} T_{22} + A_{3} T_{23}\\\\A_{1} T_{31} + A_{2} T_{32} + A_{3} T_{33}\\end{matrix}\\right]$",
            "text/plain": [
              "Matrix([\n",
              "[A_{1}*T_{11} + A_{2}*T_{12} + A_{3}*T_{13}],\n",
              "[A_{1}*T_{21} + A_{2}*T_{22} + A_{3}*T_{23}],\n",
              "[A_{1}*T_{31} + A_{2}*T_{32} + A_{3}*T_{33}]])"
            ]
          },
          "metadata": {}
        }
      ]
    },
    {
      "cell_type": "markdown",
      "metadata": {
        "id": "533jRCmkePRh"
      },
      "source": [
        "3. \n",
        "$$\n",
        "\\delta_{ij}T_{ij}A_i\n",
        "$$"
      ]
    },
    {
      "cell_type": "code",
      "metadata": {
        "colab": {
          "base_uri": "https://localhost:8080/",
          "height": 38
        },
        "id": "fCCRM97sZPk3",
        "outputId": "8d1edbbe-e034-4f26-962d-6a8d41b2fc5e"
      },
      "source": [
        "T_ii = Matrix([T[0],T[4],T[7]])\n",
        "T_ii.dot(A)"
      ],
      "execution_count": 124,
      "outputs": [
        {
          "output_type": "execute_result",
          "data": {
            "text/latex": "$\\displaystyle A_{1} T_{11} + A_{2} T_{22} + A_{3} T_{32}$",
            "text/plain": [
              "A_{1}*T_{11} + A_{2}*T_{22} + A_{3}*T_{32}"
            ]
          },
          "metadata": {},
          "execution_count": 124
        }
      ]
    },
    {
      "cell_type": "markdown",
      "metadata": {
        "id": "C-t_4GMesePb"
      },
      "source": [
        "#### Is the dot product between two pseudovectors a scalar or a pseudoscalar? Give  an example from classical mechanics of such an operation. \n"
      ]
    },
    {
      "cell_type": "markdown",
      "metadata": {
        "id": "5S5vQvu3ssf-"
      },
      "source": [
        "#### Show that the elements of the Kronecker delta $\\delta_{ij}$ transform like elements of a tensor, not a pseudotensor"
      ]
    }
  ]
}